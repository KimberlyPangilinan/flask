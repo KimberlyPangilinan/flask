{
 "cells": [
  {
   "cell_type": "markdown",
   "metadata": {},
   "source": [
    "# setup"
   ]
  },
  {
   "cell_type": "code",
   "execution_count": 21,
   "metadata": {},
   "outputs": [],
   "source": [
    "# https://nlp.stanford.edu/projects/glove/"
   ]
  },
  {
   "cell_type": "code",
   "execution_count": 22,
   "metadata": {},
   "outputs": [
    {
     "name": "stderr",
     "output_type": "stream",
     "text": [
      "[nltk_data] Downloading package stopwords to C:\\Users\\My\n",
      "[nltk_data]     Pc\\AppData\\Roaming\\nltk_data...\n",
      "[nltk_data]   Package stopwords is already up-to-date!\n"
     ]
    }
   ],
   "source": [
    "from flask import Flask, request, jsonify\n",
    "from flask_cors import CORS \n",
    "# import pandas as pd\n",
    "from sklearn.metrics.pairwise import cosine_similarity\n",
    "from nltk.corpus import stopwords\n",
    "import nltk\n",
    "import pymysql\n",
    "import numpy as np\n",
    "import datetime\n",
    "app = Flask(__name__)\n",
    "app.json.sort_keys = False\n",
    "CORS(app) \n",
    "\n",
    "db = pymysql.connect(\n",
    "    host='mysql5049.site4now.net',\n",
    "    user='aa0682_movies',\n",
    "    password='Password1234.',\n",
    "    db='db_aa0682_movies',\n",
    "    connect_timeout=8800,\n",
    "    cursorclass=pymysql.cursors.DictCursor\n",
    ")\n",
    "sql_query= \"\"\"\n",
    "            SELECT \n",
    "                article.article_id, \n",
    "                article.title, \n",
    "                article.author, \n",
    "                article.date, \n",
    "                article.date_added,\n",
    "                article.abstract, \n",
    "                journal.journal, \n",
    "                article.keyword, \n",
    "                files.file_name, \n",
    "                COUNT(CASE WHEN logs.type = 'read' THEN 1 END) AS total_reads,\n",
    "                COUNT(CASE WHEN logs.type = 'download' THEN 1 END) AS total_downloads\n",
    "            FROM \n",
    "                article \n",
    "            LEFT JOIN \n",
    "                journal ON article.journal_id = journal.journal_id \n",
    "            LEFT JOIN \n",
    "                logs ON article.article_id = logs.article_id \n",
    "            LEFT JOIN \n",
    "                files ON article.article_id = files.article_id\n",
    "            GROUP BY\n",
    "                article.article_id \n",
    "     \n",
    "\n",
    "           \"\"\"\n",
    "db.ping(reconnect=True)\n",
    "cursor = db.cursor()\n",
    "cursor.execute(sql_query)\n",
    "data = cursor.fetchall()\n",
    "\n",
    "\n",
    "id = [row['article_id'] for row in data]\n",
    "# overviews_orig = [row['abstract'] for row in data]\n",
    "overviews = [row['abstract'] for row in data]\n",
    "titles = [row['title'] for row in data] \n",
    "# titles_orig = [row['title']  for row in data] \n",
    "# author = [row['author']  for row in data] \n",
    "# keyword = [row['keyword']  for row in data] \n",
    "# date = [row['date']  for row in data] \n",
    "\n",
    "\n",
    "# Preprocessing\n",
    "nltk.download(\"stopwords\")\n",
    "stop_words = set(stopwords.words(\"english\"))\n",
    "\n",
    "for n, name in enumerate(overviews):\n",
    "    temp = name.lower().split(\" \")\n",
    "    temp = [''.join([letter for letter in word if letter.isalnum()]) for word in temp]\n",
    "    temp = [word for word in temp if word not in stop_words]\n",
    "    temp = ' '.join(temp)\n",
    "    overviews[n] = temp\n",
    "    \n",
    "for n, title in enumerate(titles):\n",
    "    temp = title.lower().split(\" \")\n",
    "    temp = [''.join([letter for letter in word if letter.isalnum()]) for word in temp]\n",
    "    temp = [word for word in temp if word not in stop_words]\n",
    "    temp = ' '.join(temp)\n",
    "    titles[n] = temp\n",
    "    \n",
    "# Calculate cosine similarity\n",
    "    from sklearn.feature_extraction.text import CountVectorizer\n",
    "\n",
    "    vectorizer = CountVectorizer().fit(overviews + titles)\n",
    "    # Calculate cosine similarity for overviews\n",
    "    vectorizer_overviews = vectorizer.transform(overviews)\n",
    "    cosine_sim_overviews = cosine_similarity(vectorizer_overviews)\n",
    "\n",
    "    # Calculate cosine similarity for titles\n",
    "    vectorizer_titles =  vectorizer.transform(titles)\n",
    "    cosine_sim_titles = cosine_similarity(vectorizer_titles)\n",
    "    \n",
    "    article_id_to_index = {}  # Create an empty mapping\n",
    "    for index, article_id in enumerate(id):\n",
    "        article_id_to_index[article_id] = index"
   ]
  },
  {
   "cell_type": "code",
   "execution_count": 23,
   "metadata": {},
   "outputs": [
    {
     "name": "stdout",
     "output_type": "stream",
     "text": [
      "The Gavel 75\n",
      "The Lamp 9\n",
      "The Star 105\n"
     ]
    }
   ],
   "source": [
    "journals = np.array([d['journal'] for d in data])\n",
    "journal_name, counts = np.unique(journals, return_counts=True)\n",
    "for i in range(len(counts)):\n",
    "    print(journal_name[i], counts[i])"
   ]
  },
  {
   "cell_type": "markdown",
   "metadata": {},
   "source": [
    "# LSTM Classifier"
   ]
  },
  {
   "cell_type": "markdown",
   "metadata": {},
   "source": [
    "## Development stage"
   ]
  },
  {
   "cell_type": "markdown",
   "metadata": {},
   "source": [
    "### preprocessing and training"
   ]
  },
  {
   "cell_type": "code",
   "execution_count": 24,
   "metadata": {},
   "outputs": [],
   "source": [
    "import random\n",
    "import numpy as np\n",
    "import tensorflow as tf\n",
    "from sklearn.preprocessing import LabelEncoder\n",
    "from tensorflow.keras.preprocessing.text import Tokenizer\n",
    "from tensorflow.keras.preprocessing.sequence import pad_sequences\n",
    "from tensorflow.keras import optimizers\n",
    "from tensorflow.keras.callbacks import ReduceLROnPlateau, EarlyStopping\n",
    "import matplotlib.pyplot as plt\n",
    "import random"
   ]
  },
  {
   "cell_type": "code",
   "execution_count": 25,
   "metadata": {},
   "outputs": [],
   "source": [
    "EMBEDDING_DIM = 100\n",
    "MAXLEN = 250\n",
    "TRUNCATING = 'post'\n",
    "PADDING = 'post'\n",
    "OOV_TOKEN = \"<OOV>\"\n",
    "# MAX_EXAMPLES = 160000\n",
    "TRAINING_SPLIT = 0.8"
   ]
  },
  {
   "cell_type": "code",
   "execution_count": 26,
   "metadata": {},
   "outputs": [
    {
     "name": "stdout",
     "output_type": "stream",
     "text": [
      "There are 189 sentences and 189 labels\n",
      "\n"
     ]
    }
   ],
   "source": [
    "# Bundle the two lists into a single one\n",
    "labels = [ '_'.join(sub['journal'].split(' ')) for n,sub in enumerate(data) ]\n",
    "sentences_and_labels = list(zip(overviews, labels))\n",
    "\n",
    "# # Perform random sampling\n",
    "random.seed(42)\n",
    "sentences_and_labels = random.sample(sentences_and_labels, len(overviews))\n",
    "\n",
    "# Unpack back into separate lists\n",
    "sentences, labels = zip(*sentences_and_labels)\n",
    "\n",
    "print(f\"There are {len(sentences)} sentences and {len(labels)} labels\\n\")"
   ]
  },
  {
   "cell_type": "code",
   "execution_count": 27,
   "metadata": {},
   "outputs": [],
   "source": [
    "def train_val_split(sentences, labels, training_split, label_encoder):\n",
    "    \"\"\"\n",
    "    Splits the dataset into training and validation sets\n",
    "    \n",
    "    Args:\n",
    "        sentences (list of string): lower-cased sentences without stopwords\n",
    "        labels (list of string): list of labels\n",
    "        training split (float): proportion of the dataset to convert to include in the train set\n",
    "    \n",
    "    Returns:\n",
    "        train_sentences, validation_sentences, train_labels, validation_labels - lists containing the data splits\n",
    "    \"\"\"    \n",
    "    ### START CODE HERE\n",
    "    \n",
    "    # Compute the number of sentences that will be used for training (should be an integer)\n",
    "    train_size = int(len(sentences)*training_split)\n",
    "\n",
    "    ## Shuffle Lists\n",
    "    temp = list(zip(sentences,labels))\n",
    "    random.shuffle(temp)\n",
    "    sentences,labels = zip(*temp)\n",
    "\n",
    "    # Convert labels strings to integers\n",
    "    labels = label_encoder.fit_transform(labels)\n",
    "\n",
    "    # Split the sentences and labels into train/validation splits\n",
    "    train_sentences = sentences[:train_size]\n",
    "    train_labels = labels[:train_size]\n",
    "\n",
    "    validation_sentences = sentences[train_size:]\n",
    "    validation_labels = labels[train_size:]\n",
    "    \n",
    "    ### END CODE HERE\n",
    "    \n",
    "    return train_sentences, validation_sentences, train_labels, validation_labels, label_encoder"
   ]
  },
  {
   "cell_type": "code",
   "execution_count": 28,
   "metadata": {},
   "outputs": [
    {
     "name": "stdout",
     "output_type": "stream",
     "text": [
      "There are 151 sentences for training.\n",
      "\n",
      "There are 151 labels for training.\n",
      "\n",
      "There are 38 sentences for validation.\n",
      "\n",
      "There are 38 labels for validation.\n"
     ]
    }
   ],
   "source": [
    "# Test your function\n",
    "label_encoder = LabelEncoder()\n",
    "train_sentences, val_sentences, train_labels, val_labels, label_encoder = train_val_split(sentences, labels, TRAINING_SPLIT, label_encoder)\n",
    "\n",
    "print(f\"There are {len(train_sentences)} sentences for training.\\n\")\n",
    "print(f\"There are {len(train_labels)} labels for training.\\n\")\n",
    "print(f\"There are {len(val_sentences)} sentences for validation.\\n\")\n",
    "print(f\"There are {len(val_labels)} labels for validation.\")"
   ]
  },
  {
   "cell_type": "code",
   "execution_count": 29,
   "metadata": {},
   "outputs": [
    {
     "name": "stdout",
     "output_type": "stream",
     "text": [
      "[0 1 2]\n",
      "[0 2]\n"
     ]
    }
   ],
   "source": [
    "print(np.unique(train_labels))\n",
    "print(np.unique(val_labels))"
   ]
  },
  {
   "cell_type": "code",
   "execution_count": 30,
   "metadata": {},
   "outputs": [],
   "source": [
    "def fit_tokenizer(train_sentences, oov_token):\n",
    "    \"\"\"\n",
    "    Instantiates the Tokenizer class on the training sentences\n",
    "    \n",
    "    Args:\n",
    "        train_sentences (list of string): lower-cased sentences without stopwords to be used for training\n",
    "        oov_token (string) - symbol for the out-of-vocabulary token\n",
    "    \n",
    "    Returns:\n",
    "        tokenizer (object): an instance of the Tokenizer class containing the word-index dictionary\n",
    "    \"\"\"\n",
    "    ### START CODE HERE\n",
    "    \n",
    "    # Instantiate the Tokenizer class, passing in the correct value for oov_token\n",
    "    tokenizer = Tokenizer(oov_token=oov_token)\n",
    "    \n",
    "    # Fit the tokenizer to the training sentences\n",
    "    tokenizer.fit_on_texts(train_sentences)\n",
    "    \n",
    "    ### END CODE HERE\n",
    "    \n",
    "    return tokenizer"
   ]
  },
  {
   "cell_type": "code",
   "execution_count": 31,
   "metadata": {},
   "outputs": [
    {
     "name": "stdout",
     "output_type": "stream",
     "text": [
      "Vocabulary contains 6385 words\n",
      "\n",
      "<OOV> token included in vocabulary\n",
      "\n",
      "index of word 'gender' should be 972\n"
     ]
    }
   ],
   "source": [
    "# Test your function\n",
    "tokenizer = fit_tokenizer(train_sentences, OOV_TOKEN)\n",
    "\n",
    "word_index = tokenizer.word_index\n",
    "VOCAB_SIZE = len(word_index)\n",
    "\n",
    "print(f\"Vocabulary contains {VOCAB_SIZE} words\\n\")\n",
    "print(\"<OOV> token included in vocabulary\" if \"<OOV>\" in word_index else \"<OOV> token NOT included in vocabulary\")\n",
    "print(f\"\\nindex of word 'gender' should be {word_index['gender']}\")"
   ]
  },
  {
   "cell_type": "code",
   "execution_count": 32,
   "metadata": {},
   "outputs": [],
   "source": [
    "def seq_pad_and_trunc(sentences, tokenizer, padding, truncating, maxlen):\n",
    "    \"\"\"\n",
    "    Generates an array of token sequences and pads them to the same length\n",
    "    \n",
    "    Args:\n",
    "        sentences (list of string): list of sentences to tokenize and pad\n",
    "        tokenizer (object): Tokenizer instance containing the word-index dictionary\n",
    "        padding (string): type of padding to use\n",
    "        truncating (string): type of truncating to use\n",
    "        maxlen (int): maximum length of the token sequence\n",
    "    \n",
    "    Returns:\n",
    "        pad_trunc_sequences (array of int): tokenized sentences padded to the same length\n",
    "    \"\"\"        \n",
    "    ### START CODE HERE\n",
    "       \n",
    "    # Convert sentences to sequences\n",
    "    sequences = tokenizer.texts_to_sequences(sentences)\n",
    "    \n",
    "    # Pad the sequences using the correct padding, truncating and maxlen\n",
    "    pad_trunc_sequences = pad_sequences(sequences, maxlen=maxlen, padding=padding, truncating=truncating)\n",
    "    \n",
    "    ### END CODE HERE\n",
    "    \n",
    "    return pad_trunc_sequences"
   ]
  },
  {
   "cell_type": "code",
   "execution_count": 33,
   "metadata": {},
   "outputs": [
    {
     "name": "stdout",
     "output_type": "stream",
     "text": [
      "Padded and truncated training sequences have shape: (151, 250)\n",
      "\n",
      "Padded and truncated validation sequences have shape: (38, 250)\n"
     ]
    }
   ],
   "source": [
    "# Test your function\n",
    "train_pad_trunc_seq = seq_pad_and_trunc(train_sentences, tokenizer, PADDING, TRUNCATING, MAXLEN)\n",
    "val_pad_trunc_seq = seq_pad_and_trunc(val_sentences, tokenizer, PADDING, TRUNCATING, MAXLEN)\n",
    "\n",
    "print(f\"Padded and truncated training sequences have shape: {train_pad_trunc_seq.shape}\\n\")\n",
    "print(f\"Padded and truncated validation sequences have shape: {val_pad_trunc_seq.shape}\")"
   ]
  },
  {
   "cell_type": "code",
   "execution_count": 34,
   "metadata": {},
   "outputs": [],
   "source": [
    "train_labels = np.array(train_labels)\n",
    "val_labels = np.array(val_labels)"
   ]
  },
  {
   "cell_type": "code",
   "execution_count": 35,
   "metadata": {},
   "outputs": [],
   "source": [
    "# Define path to file containing the embeddings\n",
    "GLOVE_FILE = './glove.6B.100d.txt'\n",
    "\n",
    "# Initialize an empty embeddings index dictionary\n",
    "GLOVE_EMBEDDINGS = {}\n",
    "\n",
    "# Read file and fill GLOVE_EMBEDDINGS with its contents\n",
    "with open(GLOVE_FILE, encoding=\"utf8\", errors=\"ignore\") as f:\n",
    "    for line in f:\n",
    "        values = line.split()\n",
    "        word = values[0]\n",
    "        coefs = np.asarray(values[1:], dtype='float32')\n",
    "        GLOVE_EMBEDDINGS[word] = coefs"
   ]
  },
  {
   "cell_type": "code",
   "execution_count": 36,
   "metadata": {},
   "outputs": [
    {
     "name": "stdout",
     "output_type": "stream",
     "text": [
      "Vector representation of word gender looks like this:\n",
      "\n",
      "[ 0.7528     0.58694    0.10059    0.45384   -0.59904    0.3756\n",
      " -0.48809    0.3255     0.66021    1.0741    -0.87795   -0.070058\n",
      "  0.38828    0.17249    1.198     -0.14775    0.48218    0.0080089\n",
      " -0.072508  -0.29931    0.050217  -0.7677     0.40769    0.52481\n",
      " -0.33323   -0.70466    0.48616   -1.4025    -0.32132   -0.11926\n",
      " -0.28853    0.29444    0.12296   -0.27784    0.64675   -0.80821\n",
      "  0.24569    0.91006   -0.69788    0.78162   -0.75286   -0.309\n",
      " -0.74415    0.13453   -1.1376    -0.21934   -0.043231   0.90301\n",
      " -1.6366    -0.77089    0.37707   -0.070822  -1.0185     1.0259\n",
      "  0.28272   -1.0935     0.46933   -0.21428    0.63936    0.1496\n",
      " -0.12656   -0.19598   -0.10937   -0.50143    1.2136    -0.046943\n",
      "  0.57951   -0.55169    0.25192    0.62123   -0.12948    0.58623\n",
      " -0.19002    0.056338   0.40258   -0.11338   -0.61292   -0.74152\n",
      " -0.49465   -0.98182   -1.1541    -0.39493    0.82455    0.1865\n",
      " -1.6896    -0.035706  -0.88967   -0.46248    0.42013   -0.28066\n",
      " -0.63143    0.25901   -0.31026   -0.024644   0.69174   -0.03463\n",
      " -0.11744   -0.62681    0.34728    0.41872  ]\n"
     ]
    }
   ],
   "source": [
    "test_word = 'gender'\n",
    "\n",
    "test_vector = GLOVE_EMBEDDINGS[test_word]\n",
    "\n",
    "print(f\"Vector representation of word {test_word} looks like this:\\n\\n{test_vector}\")"
   ]
  },
  {
   "cell_type": "code",
   "execution_count": 37,
   "metadata": {},
   "outputs": [],
   "source": [
    "# Initialize an empty numpy array with the appropriate size\n",
    "EMBEDDINGS_MATRIX = np.zeros((VOCAB_SIZE+1, EMBEDDING_DIM))\n",
    "\n",
    "# Iterate all of the words in the vocabulary and if the vector representation for \n",
    "# each word exists within GloVe's representations, save it in the EMBEDDINGS_MATRIX array\n",
    "for word, i in word_index.items():\n",
    "    embedding_vector = GLOVE_EMBEDDINGS.get(word)\n",
    "    if embedding_vector is not None:\n",
    "        EMBEDDINGS_MATRIX[i] = embedding_vector"
   ]
  },
  {
   "cell_type": "code",
   "execution_count": 638,
   "metadata": {},
   "outputs": [],
   "source": [
    "# GRADED FUNCTION: create_model\n",
    "def create_model(vocab_size, embedding_dim, maxlen, embeddings_matrix):\n",
    "    \"\"\"\n",
    "    Creates a binary sentiment classifier model\n",
    "    \n",
    "    Args:\n",
    "        vocab_size (int): size of the vocabulary for the Embedding layer input\n",
    "        embedding_dim (int): dimensionality of the Embedding layer output\n",
    "        maxlen (int): length of the input sequences\n",
    "        embeddings_matrix (array): predefined weights of the embeddings\n",
    "    \n",
    "    Returns:\n",
    "        model (tf.keras Model): the sentiment classifier model\n",
    "    \"\"\"\n",
    "    ### START CODE HERE\n",
    "    \n",
    "    model = tf.keras.Sequential([ \n",
    "        # This is how you need to set the Embedding layer when using pre-trained embeddings\n",
    "        tf.keras.layers.Embedding(vocab_size+1, embedding_dim, batch_input_shape=(None, maxlen), weights=[embeddings_matrix], trainable=False), \n",
    "        tf.keras.layers.Bidirectional(tf.keras.layers.LSTM(128, activation=\"tanh\", return_sequences=True)),\n",
    "        tf.keras.layers.Dropout(0.5),\n",
    "        tf.keras.layers.BatchNormalization(),\n",
    "        tf.keras.layers.Bidirectional(tf.keras.layers.LSTM(128, activation=\"tanh\")),\n",
    "        tf.keras.layers.Dense(128, activation='relu'),\n",
    "        tf.keras.layers.Dropout(0.5),\n",
    "        tf.keras.layers.Dense(128, activation='relu'),\n",
    "        tf.keras.layers.Dense(3, activation='softmax')\n",
    "    ])\n",
    "    \n",
    "    model.compile(loss=tf.keras.losses.SparseCategoricalCrossentropy(),\n",
    "                  optimizer=optimizers.Adam(1e-5),\n",
    "                  metrics=['accuracy']) \n",
    "\n",
    "    ### END CODE HERE\n",
    "\n",
    "    return model"
   ]
  },
  {
   "cell_type": "code",
   "execution_count": 639,
   "metadata": {},
   "outputs": [
    {
     "name": "stdout",
     "output_type": "stream",
     "text": [
      "Model: \"sequential_23\"\n",
      "_________________________________________________________________\n",
      " Layer (type)                Output Shape              Param #   \n",
      "=================================================================\n",
      " embedding_23 (Embedding)    (None, 250, 100)          638600    \n",
      "                                                                 \n",
      " bidirectional_41 (Bidirecti  (None, 250, 256)         234496    \n",
      " onal)                                                           \n",
      "                                                                 \n",
      " dropout_43 (Dropout)        (None, 250, 256)          0         \n",
      "                                                                 \n",
      " batch_normalization_19 (Bat  (None, 250, 256)         1024      \n",
      " chNormalization)                                                \n",
      "                                                                 \n",
      " bidirectional_42 (Bidirecti  (None, 256)              394240    \n",
      " onal)                                                           \n",
      "                                                                 \n",
      " dense_72 (Dense)            (None, 128)               32896     \n",
      "                                                                 \n",
      " dropout_44 (Dropout)        (None, 128)               0         \n",
      "                                                                 \n",
      " dense_73 (Dense)            (None, 128)               16512     \n",
      "                                                                 \n",
      " dense_74 (Dense)            (None, 3)                 387       \n",
      "                                                                 \n",
      "=================================================================\n",
      "Total params: 1,318,155\n",
      "Trainable params: 679,043\n",
      "Non-trainable params: 639,112\n",
      "_________________________________________________________________\n"
     ]
    }
   ],
   "source": [
    "# Create your untrained model\n",
    "model = create_model(VOCAB_SIZE, EMBEDDING_DIM, MAXLEN, EMBEDDINGS_MATRIX)\n",
    "\n",
    "model.summary()"
   ]
  },
  {
   "cell_type": "code",
   "execution_count": 640,
   "metadata": {},
   "outputs": [],
   "source": [
    "reduce_lr = ReduceLROnPlateau(monitor='val_loss', factor=0.1,\n",
    "                              patience=3, min_lr=1e-7)\n",
    "es = EarlyStopping(monitor='val_loss', patience=10, mode=\"min\", restore_best_weights=True)"
   ]
  },
  {
   "cell_type": "code",
   "execution_count": 641,
   "metadata": {},
   "outputs": [
    {
     "name": "stdout",
     "output_type": "stream",
     "text": [
      "Epoch 1/256\n",
      "19/19 [==============================] - 6s 112ms/step - loss: 1.0564 - accuracy: 0.4503 - val_loss: 1.0701 - val_accuracy: 0.5000 - lr: 1.0000e-05\n",
      "Epoch 2/256\n",
      "19/19 [==============================] - 1s 60ms/step - loss: 1.0123 - accuracy: 0.5232 - val_loss: 1.0631 - val_accuracy: 0.5000 - lr: 1.0000e-05\n",
      "Epoch 3/256\n",
      "19/19 [==============================] - 1s 62ms/step - loss: 1.0134 - accuracy: 0.4702 - val_loss: 1.0530 - val_accuracy: 0.5526 - lr: 1.0000e-05\n",
      "Epoch 4/256\n",
      "19/19 [==============================] - 1s 60ms/step - loss: 0.9858 - accuracy: 0.5497 - val_loss: 1.0410 - val_accuracy: 0.5526 - lr: 1.0000e-05\n",
      "Epoch 5/256\n",
      "19/19 [==============================] - 1s 61ms/step - loss: 0.9696 - accuracy: 0.5960 - val_loss: 1.0263 - val_accuracy: 0.5000 - lr: 1.0000e-05\n",
      "Epoch 6/256\n",
      "19/19 [==============================] - 1s 61ms/step - loss: 0.9307 - accuracy: 0.6093 - val_loss: 1.0115 - val_accuracy: 0.5000 - lr: 1.0000e-05\n",
      "Epoch 7/256\n",
      "19/19 [==============================] - 1s 60ms/step - loss: 0.9312 - accuracy: 0.5563 - val_loss: 0.9951 - val_accuracy: 0.4737 - lr: 1.0000e-05\n",
      "Epoch 8/256\n",
      "19/19 [==============================] - 1s 61ms/step - loss: 0.9330 - accuracy: 0.5497 - val_loss: 0.9783 - val_accuracy: 0.5526 - lr: 1.0000e-05\n",
      "Epoch 9/256\n",
      "19/19 [==============================] - 1s 60ms/step - loss: 0.9175 - accuracy: 0.5099 - val_loss: 0.9596 - val_accuracy: 0.5789 - lr: 1.0000e-05\n",
      "Epoch 10/256\n",
      "19/19 [==============================] - 1s 60ms/step - loss: 0.8862 - accuracy: 0.5695 - val_loss: 0.9411 - val_accuracy: 0.6053 - lr: 1.0000e-05\n",
      "Epoch 11/256\n",
      "19/19 [==============================] - 1s 60ms/step - loss: 0.8943 - accuracy: 0.5762 - val_loss: 0.9232 - val_accuracy: 0.6053 - lr: 1.0000e-05\n",
      "Epoch 12/256\n",
      "19/19 [==============================] - 1s 60ms/step - loss: 0.9022 - accuracy: 0.5497 - val_loss: 0.9053 - val_accuracy: 0.6053 - lr: 1.0000e-05\n",
      "Epoch 13/256\n",
      "19/19 [==============================] - 1s 61ms/step - loss: 0.8775 - accuracy: 0.5563 - val_loss: 0.8877 - val_accuracy: 0.6316 - lr: 1.0000e-05\n",
      "Epoch 14/256\n",
      "19/19 [==============================] - 1s 60ms/step - loss: 0.8818 - accuracy: 0.5960 - val_loss: 0.8695 - val_accuracy: 0.6316 - lr: 1.0000e-05\n",
      "Epoch 15/256\n",
      "19/19 [==============================] - 1s 60ms/step - loss: 0.8684 - accuracy: 0.5695 - val_loss: 0.8536 - val_accuracy: 0.6053 - lr: 1.0000e-05\n",
      "Epoch 16/256\n",
      "19/19 [==============================] - 1s 60ms/step - loss: 0.8435 - accuracy: 0.5762 - val_loss: 0.8358 - val_accuracy: 0.6316 - lr: 1.0000e-05\n",
      "Epoch 17/256\n",
      "19/19 [==============================] - 1s 61ms/step - loss: 0.8666 - accuracy: 0.5695 - val_loss: 0.8197 - val_accuracy: 0.6053 - lr: 1.0000e-05\n",
      "Epoch 18/256\n",
      "19/19 [==============================] - 1s 61ms/step - loss: 0.8444 - accuracy: 0.6225 - val_loss: 0.8050 - val_accuracy: 0.5789 - lr: 1.0000e-05\n",
      "Epoch 19/256\n",
      "19/19 [==============================] - 1s 60ms/step - loss: 0.8454 - accuracy: 0.5894 - val_loss: 0.7912 - val_accuracy: 0.5789 - lr: 1.0000e-05\n",
      "Epoch 20/256\n",
      "19/19 [==============================] - 1s 60ms/step - loss: 0.7912 - accuracy: 0.6490 - val_loss: 0.7766 - val_accuracy: 0.6316 - lr: 1.0000e-05\n",
      "Epoch 21/256\n",
      "19/19 [==============================] - 1s 60ms/step - loss: 0.7847 - accuracy: 0.6821 - val_loss: 0.7636 - val_accuracy: 0.6579 - lr: 1.0000e-05\n",
      "Epoch 22/256\n",
      "19/19 [==============================] - 1s 60ms/step - loss: 0.8218 - accuracy: 0.6225 - val_loss: 0.7508 - val_accuracy: 0.6579 - lr: 1.0000e-05\n",
      "Epoch 23/256\n",
      "19/19 [==============================] - 1s 61ms/step - loss: 0.8346 - accuracy: 0.6424 - val_loss: 0.7410 - val_accuracy: 0.6579 - lr: 1.0000e-05\n",
      "Epoch 24/256\n",
      "19/19 [==============================] - 1s 62ms/step - loss: 0.7952 - accuracy: 0.6358 - val_loss: 0.7313 - val_accuracy: 0.6579 - lr: 1.0000e-05\n",
      "Epoch 25/256\n",
      "19/19 [==============================] - 1s 62ms/step - loss: 0.7960 - accuracy: 0.6755 - val_loss: 0.7222 - val_accuracy: 0.6579 - lr: 1.0000e-05\n",
      "Epoch 26/256\n",
      "19/19 [==============================] - 1s 61ms/step - loss: 0.8174 - accuracy: 0.6291 - val_loss: 0.7138 - val_accuracy: 0.6579 - lr: 1.0000e-05\n",
      "Epoch 27/256\n",
      "19/19 [==============================] - 1s 62ms/step - loss: 0.7935 - accuracy: 0.6291 - val_loss: 0.7068 - val_accuracy: 0.6579 - lr: 1.0000e-05\n",
      "Epoch 28/256\n",
      "19/19 [==============================] - 1s 60ms/step - loss: 0.8161 - accuracy: 0.6424 - val_loss: 0.6996 - val_accuracy: 0.6842 - lr: 1.0000e-05\n",
      "Epoch 29/256\n",
      "19/19 [==============================] - 1s 60ms/step - loss: 0.7693 - accuracy: 0.6689 - val_loss: 0.6927 - val_accuracy: 0.7105 - lr: 1.0000e-05\n",
      "Epoch 30/256\n",
      "19/19 [==============================] - 1s 60ms/step - loss: 0.8088 - accuracy: 0.6159 - val_loss: 0.6863 - val_accuracy: 0.7368 - lr: 1.0000e-05\n",
      "Epoch 31/256\n",
      "19/19 [==============================] - 1s 60ms/step - loss: 0.7784 - accuracy: 0.6291 - val_loss: 0.6791 - val_accuracy: 0.7368 - lr: 1.0000e-05\n",
      "Epoch 32/256\n",
      "19/19 [==============================] - 1s 60ms/step - loss: 0.8014 - accuracy: 0.6689 - val_loss: 0.6731 - val_accuracy: 0.7368 - lr: 1.0000e-05\n",
      "Epoch 33/256\n",
      "19/19 [==============================] - 1s 60ms/step - loss: 0.7691 - accuracy: 0.6358 - val_loss: 0.6678 - val_accuracy: 0.7368 - lr: 1.0000e-05\n",
      "Epoch 34/256\n",
      "19/19 [==============================] - 1s 60ms/step - loss: 0.8420 - accuracy: 0.5497 - val_loss: 0.6639 - val_accuracy: 0.7368 - lr: 1.0000e-05\n",
      "Epoch 35/256\n",
      "19/19 [==============================] - 1s 61ms/step - loss: 0.7350 - accuracy: 0.7020 - val_loss: 0.6586 - val_accuracy: 0.7368 - lr: 1.0000e-05\n",
      "Epoch 36/256\n",
      "19/19 [==============================] - 1s 60ms/step - loss: 0.7822 - accuracy: 0.6424 - val_loss: 0.6510 - val_accuracy: 0.7368 - lr: 1.0000e-05\n",
      "Epoch 37/256\n",
      "19/19 [==============================] - 1s 60ms/step - loss: 0.7986 - accuracy: 0.6225 - val_loss: 0.6475 - val_accuracy: 0.7368 - lr: 1.0000e-05\n",
      "Epoch 38/256\n",
      "19/19 [==============================] - 1s 61ms/step - loss: 0.7612 - accuracy: 0.6490 - val_loss: 0.6419 - val_accuracy: 0.7368 - lr: 1.0000e-05\n",
      "Epoch 39/256\n",
      "19/19 [==============================] - 1s 60ms/step - loss: 0.7449 - accuracy: 0.7086 - val_loss: 0.6368 - val_accuracy: 0.7368 - lr: 1.0000e-05\n",
      "Epoch 40/256\n",
      "19/19 [==============================] - 1s 60ms/step - loss: 0.7334 - accuracy: 0.6821 - val_loss: 0.6317 - val_accuracy: 0.7368 - lr: 1.0000e-05\n",
      "Epoch 41/256\n",
      "19/19 [==============================] - 1s 60ms/step - loss: 0.7417 - accuracy: 0.6556 - val_loss: 0.6259 - val_accuracy: 0.7632 - lr: 1.0000e-05\n",
      "Epoch 42/256\n",
      "19/19 [==============================] - 1s 61ms/step - loss: 0.7514 - accuracy: 0.6556 - val_loss: 0.6207 - val_accuracy: 0.7632 - lr: 1.0000e-05\n",
      "Epoch 43/256\n",
      "19/19 [==============================] - 1s 60ms/step - loss: 0.7310 - accuracy: 0.6755 - val_loss: 0.6168 - val_accuracy: 0.7632 - lr: 1.0000e-05\n",
      "Epoch 44/256\n",
      "19/19 [==============================] - 1s 60ms/step - loss: 0.7262 - accuracy: 0.6689 - val_loss: 0.6121 - val_accuracy: 0.7368 - lr: 1.0000e-05\n",
      "Epoch 45/256\n",
      "19/19 [==============================] - 1s 60ms/step - loss: 0.7299 - accuracy: 0.7285 - val_loss: 0.6061 - val_accuracy: 0.7368 - lr: 1.0000e-05\n",
      "Epoch 46/256\n",
      "19/19 [==============================] - 1s 60ms/step - loss: 0.7116 - accuracy: 0.7020 - val_loss: 0.6019 - val_accuracy: 0.7368 - lr: 1.0000e-05\n",
      "Epoch 47/256\n",
      "19/19 [==============================] - 1s 60ms/step - loss: 0.7086 - accuracy: 0.7219 - val_loss: 0.5955 - val_accuracy: 0.7632 - lr: 1.0000e-05\n",
      "Epoch 48/256\n",
      "19/19 [==============================] - 1s 60ms/step - loss: 0.7214 - accuracy: 0.6755 - val_loss: 0.5906 - val_accuracy: 0.7632 - lr: 1.0000e-05\n",
      "Epoch 49/256\n",
      "19/19 [==============================] - 1s 60ms/step - loss: 0.6648 - accuracy: 0.7616 - val_loss: 0.5849 - val_accuracy: 0.7632 - lr: 1.0000e-05\n",
      "Epoch 50/256\n",
      "19/19 [==============================] - 1s 60ms/step - loss: 0.6973 - accuracy: 0.6887 - val_loss: 0.5801 - val_accuracy: 0.7632 - lr: 1.0000e-05\n",
      "Epoch 51/256\n",
      "19/19 [==============================] - 1s 60ms/step - loss: 0.7160 - accuracy: 0.7086 - val_loss: 0.5765 - val_accuracy: 0.7632 - lr: 1.0000e-05\n",
      "Epoch 52/256\n",
      "19/19 [==============================] - 1s 60ms/step - loss: 0.6802 - accuracy: 0.7483 - val_loss: 0.5685 - val_accuracy: 0.7632 - lr: 1.0000e-05\n",
      "Epoch 53/256\n",
      "19/19 [==============================] - 1s 60ms/step - loss: 0.6660 - accuracy: 0.7351 - val_loss: 0.5631 - val_accuracy: 0.7632 - lr: 1.0000e-05\n",
      "Epoch 54/256\n",
      "19/19 [==============================] - 1s 60ms/step - loss: 0.6798 - accuracy: 0.7815 - val_loss: 0.5581 - val_accuracy: 0.7895 - lr: 1.0000e-05\n",
      "Epoch 55/256\n",
      "19/19 [==============================] - 1s 60ms/step - loss: 0.6966 - accuracy: 0.7086 - val_loss: 0.5538 - val_accuracy: 0.7895 - lr: 1.0000e-05\n",
      "Epoch 56/256\n",
      "19/19 [==============================] - 1s 60ms/step - loss: 0.6649 - accuracy: 0.7616 - val_loss: 0.5476 - val_accuracy: 0.7895 - lr: 1.0000e-05\n",
      "Epoch 57/256\n",
      "19/19 [==============================] - 1s 60ms/step - loss: 0.6287 - accuracy: 0.7815 - val_loss: 0.5445 - val_accuracy: 0.7895 - lr: 1.0000e-05\n",
      "Epoch 58/256\n",
      "19/19 [==============================] - 1s 61ms/step - loss: 0.6564 - accuracy: 0.7881 - val_loss: 0.5412 - val_accuracy: 0.7895 - lr: 1.0000e-05\n",
      "Epoch 59/256\n",
      "19/19 [==============================] - 1s 61ms/step - loss: 0.6501 - accuracy: 0.7815 - val_loss: 0.5384 - val_accuracy: 0.7895 - lr: 1.0000e-05\n",
      "Epoch 60/256\n",
      "19/19 [==============================] - 1s 60ms/step - loss: 0.6297 - accuracy: 0.7550 - val_loss: 0.5331 - val_accuracy: 0.7895 - lr: 1.0000e-05\n",
      "Epoch 61/256\n",
      "19/19 [==============================] - 1s 60ms/step - loss: 0.6349 - accuracy: 0.7351 - val_loss: 0.5266 - val_accuracy: 0.7895 - lr: 1.0000e-05\n",
      "Epoch 62/256\n",
      "19/19 [==============================] - 1s 60ms/step - loss: 0.6445 - accuracy: 0.7748 - val_loss: 0.5234 - val_accuracy: 0.7895 - lr: 1.0000e-05\n",
      "Epoch 63/256\n",
      "19/19 [==============================] - 1s 60ms/step - loss: 0.6102 - accuracy: 0.7815 - val_loss: 0.5182 - val_accuracy: 0.7895 - lr: 1.0000e-05\n",
      "Epoch 64/256\n",
      "19/19 [==============================] - 1s 60ms/step - loss: 0.6349 - accuracy: 0.7947 - val_loss: 0.5126 - val_accuracy: 0.8158 - lr: 1.0000e-05\n",
      "Epoch 65/256\n",
      "19/19 [==============================] - 1s 60ms/step - loss: 0.6191 - accuracy: 0.7550 - val_loss: 0.5108 - val_accuracy: 0.7895 - lr: 1.0000e-05\n",
      "Epoch 66/256\n",
      "19/19 [==============================] - 1s 61ms/step - loss: 0.5882 - accuracy: 0.8079 - val_loss: 0.5045 - val_accuracy: 0.8158 - lr: 1.0000e-05\n",
      "Epoch 67/256\n",
      "19/19 [==============================] - 1s 60ms/step - loss: 0.6096 - accuracy: 0.7748 - val_loss: 0.5010 - val_accuracy: 0.8158 - lr: 1.0000e-05\n",
      "Epoch 68/256\n",
      "19/19 [==============================] - 1s 61ms/step - loss: 0.5730 - accuracy: 0.7682 - val_loss: 0.4954 - val_accuracy: 0.8158 - lr: 1.0000e-05\n",
      "Epoch 69/256\n",
      "19/19 [==============================] - 1s 61ms/step - loss: 0.6163 - accuracy: 0.7616 - val_loss: 0.4939 - val_accuracy: 0.8158 - lr: 1.0000e-05\n",
      "Epoch 70/256\n",
      "19/19 [==============================] - 1s 61ms/step - loss: 0.6161 - accuracy: 0.7682 - val_loss: 0.4902 - val_accuracy: 0.8158 - lr: 1.0000e-05\n",
      "Epoch 71/256\n",
      "19/19 [==============================] - 1s 60ms/step - loss: 0.5905 - accuracy: 0.8146 - val_loss: 0.4872 - val_accuracy: 0.8158 - lr: 1.0000e-05\n",
      "Epoch 72/256\n",
      "19/19 [==============================] - 1s 60ms/step - loss: 0.5982 - accuracy: 0.7417 - val_loss: 0.4830 - val_accuracy: 0.8158 - lr: 1.0000e-05\n",
      "Epoch 73/256\n",
      "19/19 [==============================] - 1s 61ms/step - loss: 0.5537 - accuracy: 0.8278 - val_loss: 0.4809 - val_accuracy: 0.8158 - lr: 1.0000e-05\n",
      "Epoch 74/256\n",
      "19/19 [==============================] - 1s 61ms/step - loss: 0.5639 - accuracy: 0.7815 - val_loss: 0.4763 - val_accuracy: 0.8158 - lr: 1.0000e-05\n",
      "Epoch 75/256\n",
      "19/19 [==============================] - 1s 61ms/step - loss: 0.5670 - accuracy: 0.7881 - val_loss: 0.4750 - val_accuracy: 0.8158 - lr: 1.0000e-05\n",
      "Epoch 76/256\n",
      "19/19 [==============================] - 1s 60ms/step - loss: 0.5376 - accuracy: 0.8146 - val_loss: 0.4707 - val_accuracy: 0.8158 - lr: 1.0000e-05\n",
      "Epoch 77/256\n",
      "19/19 [==============================] - 1s 60ms/step - loss: 0.5770 - accuracy: 0.7881 - val_loss: 0.4685 - val_accuracy: 0.8158 - lr: 1.0000e-05\n",
      "Epoch 78/256\n",
      "19/19 [==============================] - 1s 60ms/step - loss: 0.5611 - accuracy: 0.8212 - val_loss: 0.4663 - val_accuracy: 0.8158 - lr: 1.0000e-05\n",
      "Epoch 79/256\n",
      "19/19 [==============================] - 1s 60ms/step - loss: 0.5489 - accuracy: 0.8079 - val_loss: 0.4643 - val_accuracy: 0.8158 - lr: 1.0000e-05\n",
      "Epoch 80/256\n",
      "19/19 [==============================] - 1s 60ms/step - loss: 0.5107 - accuracy: 0.8543 - val_loss: 0.4651 - val_accuracy: 0.8158 - lr: 1.0000e-05\n",
      "Epoch 81/256\n",
      "19/19 [==============================] - 1s 62ms/step - loss: 0.5299 - accuracy: 0.8212 - val_loss: 0.4607 - val_accuracy: 0.8158 - lr: 1.0000e-05\n",
      "Epoch 82/256\n",
      "19/19 [==============================] - 1s 63ms/step - loss: 0.5336 - accuracy: 0.8079 - val_loss: 0.4583 - val_accuracy: 0.8421 - lr: 1.0000e-05\n",
      "Epoch 83/256\n",
      "19/19 [==============================] - 1s 62ms/step - loss: 0.5072 - accuracy: 0.8675 - val_loss: 0.4604 - val_accuracy: 0.8158 - lr: 1.0000e-05\n",
      "Epoch 84/256\n",
      "19/19 [==============================] - 1s 63ms/step - loss: 0.5345 - accuracy: 0.8079 - val_loss: 0.4556 - val_accuracy: 0.8421 - lr: 1.0000e-05\n",
      "Epoch 85/256\n",
      "19/19 [==============================] - 1s 62ms/step - loss: 0.5199 - accuracy: 0.8278 - val_loss: 0.4577 - val_accuracy: 0.8158 - lr: 1.0000e-05\n",
      "Epoch 86/256\n",
      "19/19 [==============================] - 1s 60ms/step - loss: 0.4869 - accuracy: 0.8411 - val_loss: 0.4568 - val_accuracy: 0.8158 - lr: 1.0000e-05\n",
      "Epoch 87/256\n",
      "19/19 [==============================] - 1s 61ms/step - loss: 0.5386 - accuracy: 0.8146 - val_loss: 0.4522 - val_accuracy: 0.8421 - lr: 1.0000e-05\n",
      "Epoch 88/256\n",
      "19/19 [==============================] - 1s 61ms/step - loss: 0.5038 - accuracy: 0.8477 - val_loss: 0.4520 - val_accuracy: 0.8421 - lr: 1.0000e-05\n",
      "Epoch 89/256\n",
      "19/19 [==============================] - 1s 61ms/step - loss: 0.4428 - accuracy: 0.8411 - val_loss: 0.4502 - val_accuracy: 0.8421 - lr: 1.0000e-05\n",
      "Epoch 90/256\n",
      "19/19 [==============================] - 1s 60ms/step - loss: 0.5085 - accuracy: 0.8609 - val_loss: 0.4522 - val_accuracy: 0.8158 - lr: 1.0000e-05\n",
      "Epoch 91/256\n",
      "19/19 [==============================] - 1s 61ms/step - loss: 0.5155 - accuracy: 0.8212 - val_loss: 0.4493 - val_accuracy: 0.8421 - lr: 1.0000e-05\n",
      "Epoch 92/256\n",
      "19/19 [==============================] - 1s 61ms/step - loss: 0.4661 - accuracy: 0.8609 - val_loss: 0.4494 - val_accuracy: 0.8421 - lr: 1.0000e-05\n",
      "Epoch 93/256\n",
      "19/19 [==============================] - 1s 60ms/step - loss: 0.4709 - accuracy: 0.8411 - val_loss: 0.4507 - val_accuracy: 0.8158 - lr: 1.0000e-05\n",
      "Epoch 94/256\n",
      "19/19 [==============================] - 1s 63ms/step - loss: 0.4921 - accuracy: 0.8411 - val_loss: 0.4473 - val_accuracy: 0.8421 - lr: 1.0000e-05\n",
      "Epoch 95/256\n",
      "19/19 [==============================] - 1s 62ms/step - loss: 0.4687 - accuracy: 0.8344 - val_loss: 0.4427 - val_accuracy: 0.8421 - lr: 1.0000e-05\n",
      "Epoch 96/256\n",
      "19/19 [==============================] - 1s 66ms/step - loss: 0.4749 - accuracy: 0.8146 - val_loss: 0.4392 - val_accuracy: 0.8421 - lr: 1.0000e-05\n",
      "Epoch 97/256\n",
      "19/19 [==============================] - 1s 67ms/step - loss: 0.5092 - accuracy: 0.8411 - val_loss: 0.4452 - val_accuracy: 0.8421 - lr: 1.0000e-05\n",
      "Epoch 98/256\n",
      "19/19 [==============================] - 1s 66ms/step - loss: 0.4586 - accuracy: 0.8609 - val_loss: 0.4421 - val_accuracy: 0.8421 - lr: 1.0000e-05\n",
      "Epoch 99/256\n",
      "19/19 [==============================] - 1s 64ms/step - loss: 0.4483 - accuracy: 0.8477 - val_loss: 0.4462 - val_accuracy: 0.8421 - lr: 1.0000e-05\n",
      "Epoch 100/256\n",
      "19/19 [==============================] - 1s 66ms/step - loss: 0.4786 - accuracy: 0.8278 - val_loss: 0.4461 - val_accuracy: 0.8421 - lr: 1.0000e-06\n",
      "Epoch 101/256\n",
      "19/19 [==============================] - 1s 64ms/step - loss: 0.4494 - accuracy: 0.8543 - val_loss: 0.4458 - val_accuracy: 0.8421 - lr: 1.0000e-06\n",
      "Epoch 102/256\n",
      "19/19 [==============================] - 1s 61ms/step - loss: 0.4483 - accuracy: 0.8543 - val_loss: 0.4457 - val_accuracy: 0.8421 - lr: 1.0000e-06\n",
      "Epoch 103/256\n",
      "19/19 [==============================] - 1s 61ms/step - loss: 0.4717 - accuracy: 0.8278 - val_loss: 0.4458 - val_accuracy: 0.8421 - lr: 1.0000e-07\n",
      "Epoch 104/256\n",
      "19/19 [==============================] - 1s 61ms/step - loss: 0.4474 - accuracy: 0.8675 - val_loss: 0.4457 - val_accuracy: 0.8421 - lr: 1.0000e-07\n",
      "Epoch 105/256\n",
      "19/19 [==============================] - 1s 61ms/step - loss: 0.4140 - accuracy: 0.8543 - val_loss: 0.4456 - val_accuracy: 0.8421 - lr: 1.0000e-07\n",
      "Epoch 106/256\n",
      "19/19 [==============================] - 1s 62ms/step - loss: 0.4634 - accuracy: 0.8477 - val_loss: 0.4455 - val_accuracy: 0.8421 - lr: 1.0000e-07\n"
     ]
    }
   ],
   "source": [
    "# Train the model and save the training history\n",
    "history = model.fit(train_pad_trunc_seq, train_labels, epochs=256, \n",
    "                    validation_data=(val_pad_trunc_seq, val_labels), \n",
    "                    callbacks=[reduce_lr, es],\n",
    "                    batch_size=8)"
   ]
  },
  {
   "cell_type": "code",
   "execution_count": 642,
   "metadata": {},
   "outputs": [
    {
     "name": "stdout",
     "output_type": "stream",
     "text": [
      "1/1 [==============================] - 1s 855ms/step\n",
      "Ground Truth: ['The_Gavel']\n",
      "Classification Truth: ['The_Gavel']\n",
      "Actual Input Sentence\n"
     ]
    }
   ],
   "source": [
    "## Testing\n",
    "number = 150\n",
    "test_data = train_pad_trunc_seq[number].reshape(1,250)\n",
    "ground_truth = train_labels[number]\n",
    "classification = model.predict(test_data)\n",
    "\n",
    "print('Ground Truth:', label_encoder.inverse_transform([(ground_truth)]))\n",
    "print('Classification Truth:', label_encoder.inverse_transform([np.argmax((classification))]))\n",
    "\n",
    "print('Actual Input Sentence', )\n"
   ]
  },
  {
   "cell_type": "code",
   "execution_count": 643,
   "metadata": {},
   "outputs": [
    {
     "name": "stdout",
     "output_type": "stream",
     "text": [
      "Best Epoch:  95\n",
      "Final Train Loss: 0.4749\n",
      "Final Validation Loss: 0.4392\n",
      "Final Train accuracy: 81.46\n",
      "Final Test accuracy: 84.21\n"
     ]
    }
   ],
   "source": [
    "## Best model saved\n",
    "train_loss = history.history['loss']\n",
    "train_accuracy = history.history['accuracy']\n",
    "val_loss = history.history['val_loss']\n",
    "val_accuracy = history.history['val_accuracy']\n",
    "\n",
    "best_epoch = np.argmin(np.array(val_loss))\n",
    "\n",
    "print(\"Best Epoch: \", best_epoch)\n",
    "print(\"Final Train Loss: {:.4f}\".format(train_loss[best_epoch]))\n",
    "print(\"Final Validation Loss: {:.4f}\".format(val_loss[best_epoch]))\n",
    "print(\"Final Train accuracy: {:.2f}\".format(train_accuracy[best_epoch]*100))\n",
    "print(\"Final Test accuracy: {:.2f}\".format(val_accuracy[best_epoch]*100))"
   ]
  },
  {
   "cell_type": "code",
   "execution_count": 644,
   "metadata": {},
   "outputs": [
    {
     "data": {
      "image/png": "[encoded data removed]",
      "text/plain": [
       "<Figure size 1500x400 with 2 Axes>"
      ]
     },
     "metadata": {},
     "output_type": "display_data"
    }
   ],
   "source": [
    "## Graphing Result of training\n",
    "plt.figure(figsize=(15,4))\n",
    "\n",
    "plt.subplot(121)\n",
    "plt.plot(history.history['accuracy'], color ='r')\n",
    "plt.plot(history.history['val_accuracy'])\n",
    "plt.title('accuracy')\n",
    "plt.legend(['train','validation'])\n",
    "plt.xlabel('epoch')\n",
    "plt.ylabel('accuracy')\n",
    "\n",
    "plt.subplot(122)\n",
    "plt.plot(history.history['loss'], color ='r')\n",
    "plt.plot(history.history['val_loss'])\n",
    "plt.title('loss')\n",
    "plt.legend(['train','validation'])\n",
    "plt.xlabel('epoch')\n",
    "plt.ylabel('mean squared error')\n",
    "\n",
    "# displaying the figure\n",
    "plt.show()"
   ]
  },
  {
   "cell_type": "markdown",
   "metadata": {},
   "source": [
    "### saving"
   ]
  },
  {
   "cell_type": "code",
   "execution_count": 645,
   "metadata": {},
   "outputs": [],
   "source": [
    "## General save path\n",
    "save_path = 'models/classifier_v1/'"
   ]
  },
  {
   "cell_type": "code",
   "execution_count": 646,
   "metadata": {},
   "outputs": [
    {
     "data": {
      "image/png": "[encoded data removed]",
      "text/plain": [
       "<Figure size 1500x400 with 2 Axes>"
      ]
     },
     "metadata": {},
     "output_type": "display_data"
    }
   ],
   "source": [
    "# Saving the figure.\n",
    "## Graphing Result of training\n",
    "plt.figure(figsize=(15,4))\n",
    "\n",
    "plt.subplot(121)\n",
    "plt.plot(history.history['accuracy'], color ='r')\n",
    "plt.plot(history.history['val_accuracy'])\n",
    "plt.title('accuracy')\n",
    "plt.legend(['train','validation'])\n",
    "plt.xlabel('epoch')\n",
    "plt.ylabel('accuracy')\n",
    "\n",
    "plt.subplot(122)\n",
    "plt.plot(history.history['loss'], color ='r')\n",
    "plt.plot(history.history['val_loss'])\n",
    "plt.title('loss')\n",
    "plt.legend(['train','validation'])\n",
    "plt.xlabel('epoch')\n",
    "plt.ylabel('mean squared error')\n",
    "\n",
    "plt.savefig(save_path+\"output.jpg\")"
   ]
  },
  {
   "cell_type": "code",
   "execution_count": 647,
   "metadata": {},
   "outputs": [],
   "source": [
    "## Save best metrics\n",
    "with open(save_path+'metrics.txt', 'w') as f:\n",
    "    f.write(\"Best Epoch: {:d} \\n\".format(best_epoch))\n",
    "    f.write(\"Final Train Loss: {:.4f}\\n\".format(train_loss[best_epoch]))\n",
    "    f.write(\"Final Validation Loss: {:.4f}\\n\".format(val_loss[best_epoch]))\n",
    "    f.write(\"Final Train accuracy: {:.2f}%\\n\".format(train_accuracy[best_epoch]*100))\n",
    "    f.write(\"Final Test accuracy: {:.2f}%\\n\".format(val_accuracy[best_epoch]*100))"
   ]
  },
  {
   "cell_type": "code",
   "execution_count": 648,
   "metadata": {},
   "outputs": [],
   "source": [
    "## save number of words used\n",
    "with open(save_path+'readme.txt','w') as f:\n",
    "    f.write('This classifier model only uses the first {:d} words of the abstract.'.format(MAXLEN))"
   ]
  },
  {
   "cell_type": "code",
   "execution_count": 649,
   "metadata": {},
   "outputs": [],
   "source": [
    "## saving model\n",
    "model.save(save_path+'model.h5')"
   ]
  },
  {
   "cell_type": "code",
   "execution_count": 650,
   "metadata": {},
   "outputs": [],
   "source": [
    "## saving tokenizer and label_encoder\n",
    "import pickle\n",
    "\n",
    "# saving\n",
    "with open(save_path+'tokenizer.pickle', 'wb') as handle:\n",
    "    pickle.dump(tokenizer, handle, protocol=pickle.HIGHEST_PROTOCOL)\n",
    "\n",
    "with open(save_path+'label_encoder.pickle', 'wb') as handle:\n",
    "    pickle.dump(label_encoder, handle, protocol=pickle.HIGHEST_PROTOCOL)"
   ]
  },
  {
   "cell_type": "markdown",
   "metadata": {},
   "source": [
    "## Functions to Export"
   ]
  },
  {
   "cell_type": "code",
   "execution_count": 651,
   "metadata": {},
   "outputs": [],
   "source": [
    "import numpy as np\n",
    "import pickle\n",
    "from tensorflow.keras.preprocessing.sequence import pad_sequences\n",
    "from tensorflow.keras.models import load_model"
   ]
  },
  {
   "cell_type": "code",
   "execution_count": 652,
   "metadata": {},
   "outputs": [],
   "source": [
    "def load_tokenizer(path):\n",
    "    '''\n",
    "        load tokenizer for abstract processing\n",
    "    '''\n",
    "\n",
    "    with open(path, 'rb') as handle:\n",
    "        tokenizer = pickle.load(handle)\n",
    "        \n",
    "    return tokenizer\n",
    "\n",
    "def load_label_encoder(path):\n",
    "    '''\n",
    "        loading label encoder for journal name processing\n",
    "    '''\n",
    "\n",
    "    with open(path, 'rb') as handle:\n",
    "        label_encoder = pickle.load(handle)\n",
    "\n",
    "    return label_encoder"
   ]
  },
  {
   "cell_type": "code",
   "execution_count": 653,
   "metadata": {},
   "outputs": [],
   "source": [
    "def preprocess_abstract(abstract, tokenizer, label=None):\n",
    "    '''\n",
    "        Function to preprocess abstract before classification \n",
    "\n",
    "        arguments:\n",
    "            abstract = raw abstract in string\n",
    "            tokenizer = tokenizer used by model for training\n",
    "            label = label of abstrat (for testing purposes only)\n",
    "\n",
    "        The output is an array of integer ID for each word with the same length of 250.\n",
    "        the words are arranged by order or apperance. only first words are retained. \n",
    "\n",
    "        if words is less than 250, the remaining spaces will be filled with zeros\n",
    "        if words is greater than 250, the excess words will be ignored\n",
    "    '''\n",
    "    \n",
    "    ## Text Preprocessing\n",
    "    abstract = name.lower().split(\" \")\n",
    "    abstract = [''.join([letter for letter in word if letter.isalnum()]) for word in temp]\n",
    "    abstract = [word for word in temp if word not in stop_words]\n",
    "    abstract = ''.join(temp)\n",
    "    \n",
    "    ## Assign unique ID to each word in abstract\n",
    "    sequences = tokenizer.texts_to_sequences([abstract])\n",
    "\n",
    "    ## Fill with zeros or Truncate array of word IDs. Max length is 250.\n",
    "    pad_trunc_sequences = pad_sequences(sequences, maxlen=250, padding='post', truncating='post')\n",
    "\n",
    "    return pad_trunc_sequences, label"
   ]
  },
  {
   "cell_type": "code",
   "execution_count": 654,
   "metadata": {},
   "outputs": [],
   "source": [
    "def classify(input_data, model, label_encoder):\n",
    "    '''\n",
    "        Function to classify processed abstract \n",
    "        arguments: \n",
    "            input_data = processed abstract\n",
    "            model = A.I. model\n",
    "            label_encoder = label_encoder used by model for training\n",
    "\n",
    "        the output of the function is the journal name\n",
    "    '''\n",
    "\n",
    "    ## classify abstract using model\n",
    "    output = model(input_data)\n",
    "\n",
    "    ## Get the highest probability of classification\n",
    "    output = np.argmax(output)\n",
    "\n",
    "    ## Get the journal name equivalent of the output of classification\n",
    "    journal = label_encoder.inverse_transform([output])\n",
    "\n",
    "    ## replace _ with whitespace in the journal name\n",
    "    journal = ' '.join(journal[0].split('_'))\n",
    "    \n",
    "    return journal"
   ]
  },
  {
   "cell_type": "code",
   "execution_count": 655,
   "metadata": {},
   "outputs": [
    {
     "name": "stdout",
     "output_type": "stream",
     "text": [
      "Ground Truth: The Star\n",
      "Classification Output: The Gavel\n"
     ]
    }
   ],
   "source": [
    "## Load tokenizer and encoder\n",
    "tokenizer = load_tokenizer('models//classifier_v1//tokenizer.pickle')\n",
    "label_encoder = load_label_encoder('models//classifier_v1//label_encoder.pickle')\n",
    "\n",
    "## load model\n",
    "model = load_model('models//classifier_v1//model.h5')\n",
    "\n",
    "## Preprocess abstract\n",
    "input_data, input_label = preprocess_abstract(data[100]['abstract'],tokenizer, label = data[100]['journal'])\n",
    "\n",
    "## classify abstract\n",
    "result = classify(input_data, model, label_encoder)\n",
    "\n",
    "## results\n",
    "print('Ground Truth:',input_label)\n",
    "print('Classification Output:',result)"
   ]
  },
  {
   "cell_type": "markdown",
   "metadata": {},
   "source": [
    "# SVM Classifier"
   ]
  },
  {
   "cell_type": "code",
   "execution_count": 656,
   "metadata": {},
   "outputs": [],
   "source": [
    "# import pandas as pd\n",
    "# import numpy as np\n",
    "# from nltk.tokenize import word_tokenize\n",
    "# from nltk import pos_tag\n",
    "# from nltk.corpus import stopwords\n",
    "# from nltk.stem import WordNetLemmatizer\n",
    "# from sklearn.preprocessing import LabelEncoder\n",
    "# from collections import defaultdict\n",
    "# from nltk.corpus import wordnet as wn\n",
    "# from sklearn.feature_extraction.text import TfidfVectorizer\n",
    "# from sklearn import model_selection, naive_bayes, svm\n",
    "# from sklearn.metrics import accuracy_score\n",
    "# import nltk\n",
    "# nltk.download('punkt')\n",
    "# nltk.download('averaged_perceptron_tagger')"
   ]
  },
  {
   "cell_type": "code",
   "execution_count": 657,
   "metadata": {},
   "outputs": [],
   "source": [
    "# import random\n",
    "# # Bundle the two lists into a single one\n",
    "# labels = [ '_'.join(sub['journal'].split(' ')) for n,sub in enumerate(data) ]\n",
    "# sentences_and_labels = list(zip(overviews, labels))\n",
    "\n",
    "# # # Perform random sampling\n",
    "# # random.seed(42)\n",
    "# sentences_and_labels = random.sample(sentences_and_labels, len(overviews))\n",
    "\n",
    "# # Unpack back into separate lists\n",
    "# sentences, labels = zip(*sentences_and_labels)\n",
    "\n",
    "# print(f\"There are {len(sentences)} sentences and {len(labels)} labels\\n\")\n",
    "# Corpus = overviews"
   ]
  },
  {
   "cell_type": "code",
   "execution_count": 658,
   "metadata": {},
   "outputs": [],
   "source": [
    "# # Step - b : Change all the text to lower case. This is required as python interprets 'dog' and 'DOG' differently\n",
    "# Corpus = [entry.lower() for entry in Corpus]\n",
    "# # Step - c : Tokenization : In this each entry in the corpus will be broken into set of words\n",
    "# Corpus= [word_tokenize(entry) for entry in Corpus]\n",
    "# # Step - d : Remove Stop words, Non-Numeric and perfom Word Stemming/Lemmenting.\n",
    "# # WordNetLemmatizer requires Pos tags to understand if the word is noun or verb or adjective etc. By default it is set to Noun\n",
    "# tag_map = defaultdict(lambda : wn.NOUN)\n",
    "# tag_map['J'] = wn.ADJ\n",
    "# tag_map['V'] = wn.VERB\n",
    "# tag_map['R'] = wn.ADV\n",
    "# for index,entry in enumerate(Corpus):\n",
    "#     # Declaring Empty List to store the words that follow the rules for this step\n",
    "#     Final_words = []\n",
    "#     # Initializing WordNetLemmatizer()\n",
    "#     word_Lemmatized = WordNetLemmatizer()\n",
    "#     # pos_tag function below will provide the 'tag' i.e if the word is Noun(N) or Verb(V) or something else.\n",
    "#     for word, tag in pos_tag(entry):\n",
    "#         # Below condition is to check for Stop words and consider only alphabets\n",
    "#         if word not in stopwords.words('english') and word.isalpha():\n",
    "#             word_Final = word_Lemmatized.lemmatize(word,tag_map[tag[0]])\n",
    "#             Final_words.append(word_Final)\n",
    "#     # The final processed set of words for each iteration will be stored in 'text_final'\n",
    "#     Corpus[index] = str(Final_words)"
   ]
  },
  {
   "cell_type": "code",
   "execution_count": 659,
   "metadata": {},
   "outputs": [],
   "source": [
    "# Train_X, Test_X, Train_Y, Test_Y = model_selection.train_test_split(Corpus,labels,test_size=0.2)"
   ]
  },
  {
   "cell_type": "code",
   "execution_count": 660,
   "metadata": {},
   "outputs": [],
   "source": [
    "# Encoder = LabelEncoder()\n",
    "# Train_Y = Encoder.fit_transform(Train_Y)\n",
    "# Test_Y = Encoder.fit_transform(Test_Y)"
   ]
  },
  {
   "cell_type": "code",
   "execution_count": 661,
   "metadata": {},
   "outputs": [],
   "source": [
    "# Tfidf_vect = TfidfVectorizer(max_features=1000)\n",
    "# Tfidf_vect.fit(Corpus)\n",
    "# Train_X_Tfidf = Tfidf_vect.transform(Train_X)\n",
    "# Test_X_Tfidf = Tfidf_vect.transform(Test_X)"
   ]
  },
  {
   "cell_type": "code",
   "execution_count": 662,
   "metadata": {},
   "outputs": [],
   "source": [
    "# print(Tfidf_vect.vocabulary_)"
   ]
  },
  {
   "cell_type": "code",
   "execution_count": 663,
   "metadata": {},
   "outputs": [],
   "source": [
    "# # Classifier - Algorithm - SVM\n",
    "# # fit the training dataset on the classifier\n",
    "# SVM = svm.SVC(C=2, kernel='rbf', degree=3)\n",
    "# SVM.fit(Train_X_Tfidf,Train_Y)\n",
    "# # predict the labels on validation dataset\n",
    "# predictions_SVM = SVM.predict(Test_X_Tfidf)\n",
    "# # Use accuracy_score function to get the accuracy\n",
    "# print(\"SVM Train Accuracy  Score -> \",accuracy_score(predictions_SVM, Test_Y)*100)\n",
    "# print(\"SVM Test Accuracy Score -> \",accuracy_score(predictions_SVM, Test_Y)*100)"
   ]
  },
  {
   "cell_type": "code",
   "execution_count": null,
   "metadata": {},
   "outputs": [],
   "source": []
  }
 ],
 "metadata": {
  "kernelspec": {
   "display_name": "flask_venv",
   "language": "python",
   "name": "python3"
  },
  "language_info": {
   "codemirror_mode": {
    "name": "ipython",
    "version": 3
   },
   "file_extension": ".py",
   "mimetype": "text/x-python",
   "name": "python",
   "nbconvert_exporter": "python",
   "pygments_lexer": "ipython3",
   "version": "3.9.13"
  }
 },
 "nbformat": 4,
 "nbformat_minor": 2
}
