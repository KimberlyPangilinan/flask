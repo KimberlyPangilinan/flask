{
 "cells": [
  {
   "cell_type": "markdown",
   "metadata": {},
   "source": [
    "# setup"
   ]
  },
  {
   "cell_type": "code",
   "execution_count": 1,
   "metadata": {},
   "outputs": [],
   "source": [
    "# https://nlp.stanford.edu/projects/glove/"
   ]
  },
  {
   "cell_type": "code",
   "execution_count": 2,
   "metadata": {},
   "outputs": [
    {
     "name": "stderr",
     "output_type": "stream",
     "text": [
      "[nltk_data] Downloading package stopwords to C:\\Users\\My\n",
      "[nltk_data]     Pc\\AppData\\Roaming\\nltk_data...\n",
      "[nltk_data]   Package stopwords is already up-to-date!\n"
     ]
    }
   ],
   "source": [
    "from flask import Flask, request, jsonify\n",
    "from flask_cors import CORS \n",
    "# import pandas as pd\n",
    "from sklearn.metrics.pairwise import cosine_similarity\n",
    "from nltk.corpus import stopwords\n",
    "import nltk\n",
    "import pymysql\n",
    "import numpy as np\n",
    "import datetime\n",
    "app = Flask(__name__)\n",
    "app.json.sort_keys = False\n",
    "CORS(app) \n",
    "\n",
    "db = pymysql.connect(\n",
    "    host='mysql5049.site4now.net',\n",
    "    user='aa0682_movies',\n",
    "    password='Password1234.',\n",
    "    db='db_aa0682_movies',\n",
    "    connect_timeout=8800,\n",
    "    cursorclass=pymysql.cursors.DictCursor\n",
    ")\n",
    "sql_query= \"\"\"\n",
    "            SELECT \n",
    "                *\n",
    "            FROM \n",
    "                article \n",
    "           \"\"\"\n",
    "db.ping(reconnect=True)\n",
    "cursor = db.cursor()\n",
    "cursor.execute(sql_query)\n",
    "data = cursor.fetchall()\n",
    "\n",
    "\n",
    "id = [row['article_id'] for row in data]\n",
    "# overviews_orig = [row['abstract'] for row in data]\n",
    "overviews = [row['abstract'] for row in data]\n",
    "titles = [row['title'] for row in data] \n",
    "# titles_orig = [row['title']  for row in data] \n",
    "# author = [row['author']  for row in data] \n",
    "# keyword = [row['keyword']  for row in data] \n",
    "# date = [row['date']  for row in data] \n",
    "\n",
    "\n",
    "# Preprocessing\n",
    "nltk.download(\"stopwords\")\n",
    "stop_words = set(stopwords.words(\"english\"))\n",
    "\n",
    "for n, name in enumerate(overviews):\n",
    "    temp = name.lower().split(\" \")\n",
    "    temp = [''.join([letter for letter in word if letter.isalnum()]) for word in temp]\n",
    "    temp = [word for word in temp if word not in stop_words]\n",
    "    temp = ' '.join(temp)\n",
    "    overviews[n] = temp\n",
    "    \n",
    "for n, title in enumerate(titles):\n",
    "    temp = title.lower().split(\" \")\n",
    "    temp = [''.join([letter for letter in word if letter.isalnum()]) for word in temp]\n",
    "    temp = [word for word in temp if word not in stop_words]\n",
    "    temp = ' '.join(temp)\n",
    "    titles[n] = temp\n",
    "    \n",
    "# Calculate cosine similarity\n",
    "    from sklearn.feature_extraction.text import CountVectorizer\n",
    "\n",
    "    vectorizer = CountVectorizer().fit(overviews + titles)\n",
    "    # Calculate cosine similarity for overviews\n",
    "    vectorizer_overviews = vectorizer.transform(overviews)\n",
    "    cosine_sim_overviews = cosine_similarity(vectorizer_overviews)\n",
    "\n",
    "    # Calculate cosine similarity for titles\n",
    "    vectorizer_titles =  vectorizer.transform(titles)\n",
    "    cosine_sim_titles = cosine_similarity(vectorizer_titles)\n",
    "    \n",
    "    article_id_to_index = {}  # Create an empty mapping\n",
    "    for index, article_id in enumerate(id):\n",
    "        article_id_to_index[article_id] = index"
   ]
  },
  {
   "cell_type": "code",
   "execution_count": 3,
   "metadata": {},
   "outputs": [
    {
     "name": "stdout",
     "output_type": "stream",
     "text": [
      "1 36\n",
      "2 31\n",
      "3 123\n"
     ]
    }
   ],
   "source": [
    "journals = np.array([d['journal_id'] for d in data])\n",
    "journal_name, counts = np.unique(journals, return_counts=True)\n",
    "for i in range(len(counts)):\n",
    "    print(journal_name[i], counts[i])"
   ]
  },
  {
   "cell_type": "markdown",
   "metadata": {},
   "source": [
    "# LSTM Classifier"
   ]
  },
  {
   "cell_type": "markdown",
   "metadata": {},
   "source": [
    "## Development stage"
   ]
  },
  {
   "cell_type": "markdown",
   "metadata": {},
   "source": [
    "### preprocessing and training"
   ]
  },
  {
   "cell_type": "code",
   "execution_count": 4,
   "metadata": {},
   "outputs": [],
   "source": [
    "import random\n",
    "import numpy as np\n",
    "import tensorflow as tf\n",
    "from sklearn.preprocessing import LabelEncoder\n",
    "from tensorflow.keras.preprocessing.text import Tokenizer\n",
    "from tensorflow.keras.preprocessing.sequence import pad_sequences\n",
    "from tensorflow.keras import optimizers\n",
    "from tensorflow.keras.callbacks import ReduceLROnPlateau, EarlyStopping\n",
    "import matplotlib.pyplot as plt\n",
    "import random\n",
    "import os\n",
    "from imblearn.over_sampling  import RandomOverSampler\n"
   ]
  },
  {
   "cell_type": "code",
   "execution_count": 88,
   "metadata": {},
   "outputs": [],
   "source": [
    "EMBEDDING_DIM = 200\n",
    "MAXLEN = 300\n",
    "TRUNCATING = 'post'\n",
    "PADDING = 'post'\n",
    "OOV_TOKEN = \"<OOV>\"\n",
    "# MAX_EXAMPLES = 160000\n",
    "TRAINING_SPLIT = 0.8"
   ]
  },
  {
   "cell_type": "code",
   "execution_count": 89,
   "metadata": {},
   "outputs": [],
   "source": [
    "\n",
    "# # Your existing code to create the sentences_and_labels list\n",
    "# # labels = [ '_'.join(sub['journal'].split(' ')) for n, sub in enumerate(data) ]\n",
    "# labels = [sub['journal_id'] - 1 for sub in data]\n",
    "# sentences_and_labels = list(zip(overviews, labels))\n",
    "\n",
    "# # Create a dictionary to keep track of the count for each label\n",
    "# label_count = {}\n",
    "\n",
    "# # Filter the sentences_and_labels list to include only 30 instances for each label\n",
    "# filtered_sentences_and_labels = []\n",
    "# for sentence, label in sentences_and_labels:\n",
    "#     if label not in label_count:\n",
    "#         label_count[label] = 0\n",
    "\n",
    "#     if label_count[label] < 30:\n",
    "#         sentences_and_labels.append((sentence, label))\n",
    "#         label_count[label] += 1\n",
    "\n",
    "# # Perform random sampling on the filtered list\n",
    "# random.seed(42)\n",
    "# sentences_and_labels = random.sample(sentences_and_labels, len(overviews))\n",
    "\n",
    "# # Unpack back into separate lists\n",
    "# sentences, labels = zip(*sentences_and_labels)\n",
    "\n",
    "# print(f\"There are {len(sentences)} sentences and {len(labels)} labels\\n\")\n",
    "# print(labels)\n",
    "\n"
   ]
  },
  {
   "cell_type": "code",
   "execution_count": 90,
   "metadata": {},
   "outputs": [
    {
     "name": "stdout",
     "output_type": "stream",
     "text": [
      "There are 190 sentences and 190 labels\n",
      "\n"
     ]
    }
   ],
   "source": [
    "# Bundle the two lists into a single one\n",
    "# labels = [ '_'.join(sub['journal'].split(' ')) for n,sub in enumerate(data) ]\n",
    "labels = [sub['journal_id'] - 1 for sub in data]\n",
    "for n,overview in enumerate(overviews):\n",
    "    overviews[n] += overview + titles[n]\n",
    "sentences_and_labels = list(zip(overviews, labels))\n",
    "\n",
    "# # Perform random sampling\n",
    "random.seed(42)\n",
    "sentences_and_labels = random.sample(sentences_and_labels, len(overviews))\n",
    "\n",
    "# Unpack back into separate lists\n",
    "sentences, labels = zip(*sentences_and_labels)\n",
    "\n",
    "print(f\"There are {len(sentences)} sentences and {len(labels)} labels\\n\")"
   ]
  },
  {
   "cell_type": "code",
   "execution_count": 91,
   "metadata": {},
   "outputs": [],
   "source": [
    "def train_val_split(sentences, labels, training_split):\n",
    "    \"\"\"\n",
    "    Splits the dataset into training and validation sets\n",
    "    \n",
    "    Args:\n",
    "        sentences (list of string): lower-cased sentences without stopwords\n",
    "        labels (list of string): list of labels\n",
    "        training split (float): proportion of the dataset to convert to include in the train set\n",
    "    \n",
    "    Returns:\n",
    "        train_sentences, validation_sentences, train_labels, validation_labels - lists containing the data splits\n",
    "    \"\"\"    \n",
    "    ### START CODE HERE\n",
    "    \n",
    "    # Compute the number of sentences that will be used for training (should be an integer)\n",
    "    train_size = int(len(sentences)*training_split)\n",
    "\n",
    "    ## Shuffle Lists\n",
    "    temp = list(zip(sentences,labels))\n",
    "    random.shuffle(temp)\n",
    "    sentences,labels = zip(*temp)\n",
    "\n",
    "    # Convert labels strings to integers\n",
    "    # labels = label_encoder.fit_transform(labels)\n",
    "\n",
    "    # Split the sentences and labels into train/validation splits\n",
    "    train_sentences = sentences[:train_size]\n",
    "    train_labels = labels[:train_size]\n",
    "\n",
    "    validation_sentences = sentences[train_size:]\n",
    "    validation_labels = labels[train_size:]\n",
    "    \n",
    "    ### END CODE HERE\n",
    "    \n",
    "    return train_sentences, validation_sentences, train_labels, validation_labels"
   ]
  },
  {
   "cell_type": "code",
   "execution_count": 92,
   "metadata": {},
   "outputs": [
    {
     "name": "stdout",
     "output_type": "stream",
     "text": [
      "There are 152 sentences for training.\n",
      "\n",
      "There are 152 labels for training.\n",
      "\n",
      "There are 38 sentences for validation.\n",
      "\n",
      "There are 38 labels for validation.\n"
     ]
    }
   ],
   "source": [
    "# Test your function\n",
    "train_sentences, val_sentences, train_labels, val_labels = train_val_split(sentences, labels, TRAINING_SPLIT)\n",
    "\n",
    "print(f\"There are {len(train_sentences)} sentences for training.\\n\")\n",
    "print(f\"There are {len(train_labels)} labels for training.\\n\")\n",
    "print(f\"There are {len(val_sentences)} sentences for validation.\\n\")\n",
    "print(f\"There are {len(val_labels)} labels for validation.\")"
   ]
  },
  {
   "cell_type": "code",
   "execution_count": 93,
   "metadata": {},
   "outputs": [
    {
     "name": "stdout",
     "output_type": "stream",
     "text": [
      "[0 1 2]\n",
      "[0 1 2]\n"
     ]
    }
   ],
   "source": [
    "print(np.unique(train_labels))\n",
    "print(np.unique(val_labels))"
   ]
  },
  {
   "cell_type": "code",
   "execution_count": 94,
   "metadata": {},
   "outputs": [],
   "source": [
    "def fit_tokenizer(train_sentences, oov_token):\n",
    "    \"\"\"\n",
    "    Instantiates the Tokenizer class on the training sentences\n",
    "    \n",
    "    Args:\n",
    "        train_sentences (list of string): lower-cased sentences without stopwords to be used for training\n",
    "        oov_token (string) - symbol for the out-of-vocabulary token\n",
    "    \n",
    "    Returns:\n",
    "        tokenizer (object): an instance of the Tokenizer class containing the word-index dictionary\n",
    "    \"\"\"\n",
    "    ### START CODE HERE\n",
    "    \n",
    "    # Instantiate the Tokenizer class, passing in the correct value for oov_token\n",
    "    tokenizer = Tokenizer(oov_token=oov_token)\n",
    "    \n",
    "    # Fit the tokenizer to the training sentences\n",
    "    tokenizer.fit_on_texts(train_sentences)\n",
    "    \n",
    "    ### END CODE HERE\n",
    "    \n",
    "    return tokenizer"
   ]
  },
  {
   "cell_type": "code",
   "execution_count": 95,
   "metadata": {},
   "outputs": [
    {
     "name": "stdout",
     "output_type": "stream",
     "text": [
      "Vocabulary contains 7015 words\n",
      "\n",
      "<OOV> token included in vocabulary\n",
      "\n",
      "index of word 'gender' should be 327\n"
     ]
    }
   ],
   "source": [
    "# Test your function\n",
    "tokenizer = fit_tokenizer(train_sentences, OOV_TOKEN)\n",
    "\n",
    "word_index = tokenizer.word_index\n",
    "VOCAB_SIZE = len(word_index)\n",
    "\n",
    "print(f\"Vocabulary contains {VOCAB_SIZE} words\\n\")\n",
    "print(\"<OOV> token included in vocabulary\" if \"<OOV>\" in word_index else \"<OOV> token NOT included in vocabulary\")\n",
    "print(f\"\\nindex of word 'gender' should be {word_index['gender']}\")"
   ]
  },
  {
   "cell_type": "code",
   "execution_count": 96,
   "metadata": {},
   "outputs": [],
   "source": [
    "def seq_pad_and_trunc(sentences, tokenizer, padding, truncating, maxlen):\n",
    "    \"\"\"\n",
    "    Generates an array of token sequences and pads them to the same length\n",
    "    \n",
    "    Args:\n",
    "        sentences (list of string): list of sentences to tokenize and pad\n",
    "        tokenizer (object): Tokenizer instance containing the word-index dictionary\n",
    "        padding (string): type of padding to use\n",
    "        truncating (string): type of truncating to use\n",
    "        maxlen (int): maximum length of the token sequence\n",
    "    \n",
    "    Returns:\n",
    "        pad_trunc_sequences (array of int): tokenized sentences padded to the same length\n",
    "    \"\"\"        \n",
    "    ### START CODE HERE\n",
    "       \n",
    "    # Convert sentences to sequences\n",
    "    sequences = tokenizer.texts_to_sequences(sentences)\n",
    "    \n",
    "    # Pad the sequences using the correct padding, truncating and maxlen\n",
    "    pad_trunc_sequences = pad_sequences(sequences, maxlen=maxlen, padding=padding, truncating=truncating)\n",
    "    \n",
    "    ### END CODE HERE\n",
    "    \n",
    "    return pad_trunc_sequences"
   ]
  },
  {
   "cell_type": "code",
   "execution_count": 97,
   "metadata": {},
   "outputs": [
    {
     "name": "stdout",
     "output_type": "stream",
     "text": [
      "Padded and truncated training sequences have shape: (152, 300)\n",
      "\n",
      "Padded and truncated validation sequences have shape: (38, 300)\n"
     ]
    }
   ],
   "source": [
    "# Test your function\n",
    "train_pad_trunc_seq = seq_pad_and_trunc(train_sentences, tokenizer, PADDING, TRUNCATING, MAXLEN)\n",
    "val_pad_trunc_seq = seq_pad_and_trunc(val_sentences, tokenizer, PADDING, TRUNCATING, MAXLEN)\n",
    "\n",
    "print(f\"Padded and truncated training sequences have shape: {train_pad_trunc_seq.shape}\\n\")\n",
    "print(f\"Padded and truncated validation sequences have shape: {val_pad_trunc_seq.shape}\")"
   ]
  },
  {
   "cell_type": "code",
   "execution_count": 98,
   "metadata": {},
   "outputs": [],
   "source": [
    "train_labels = np.array(train_labels)\n",
    "val_labels = np.array(val_labels)"
   ]
  },
  {
   "cell_type": "code",
   "execution_count": 99,
   "metadata": {},
   "outputs": [
    {
     "data": {
      "text/plain": [
       "array([0, 1, 2, 2, 2, 2, 2, 0, 2, 2, 2, 2, 2, 2, 0, 2, 2, 2, 0, 2, 0, 2,\n",
       "       1, 2, 2, 2, 1, 2, 2, 2, 2, 2, 0, 0, 2, 0, 1, 1])"
      ]
     },
     "execution_count": 99,
     "metadata": {},
     "output_type": "execute_result"
    }
   ],
   "source": [
    "val_labels"
   ]
  },
  {
   "cell_type": "code",
   "execution_count": 100,
   "metadata": {},
   "outputs": [],
   "source": [
    "# Define path to file containing the embeddings\n",
    "GLOVE_FILE = './glove.6B.200d.txt'\n",
    "\n",
    "# Initialize an empty embeddings index dictionary\n",
    "GLOVE_EMBEDDINGS = {}\n",
    "\n",
    "# Read file and fill GLOVE_EMBEDDINGS with its contents\n",
    "with open(GLOVE_FILE, encoding=\"utf8\", errors=\"ignore\") as f:\n",
    "    for line in f:\n",
    "        values = line.split()\n",
    "        word = values[0]\n",
    "        coefs = np.asarray(values[1:], dtype='float32')\n",
    "        GLOVE_EMBEDDINGS[word] = coefs"
   ]
  },
  {
   "cell_type": "code",
   "execution_count": 101,
   "metadata": {},
   "outputs": [
    {
     "name": "stdout",
     "output_type": "stream",
     "text": [
      "Vector representation of word gender looks like this:\n",
      "\n",
      "[ 0.31414   0.039937  0.18007  -0.10655   0.41687  -0.10857  -0.69551\n",
      " -0.024218 -0.51403  -0.034071  0.14223   0.98964   0.055305 -0.49348\n",
      " -0.29643   0.22581  -0.18745  -0.48138   0.59107   0.1408    1.041\n",
      "  2.0157    0.059323  0.36618   0.5409    0.077235  0.94134  -1.0835\n",
      " -0.15501   0.16847   0.11451  -0.81755  -0.087729  0.03114  -0.27427\n",
      " -0.037571  0.17335  -0.52963   0.083644 -0.099551  0.11298  -0.39948\n",
      " -0.016848  0.24857  -0.79707   0.080887 -0.25887  -0.37116   0.35246\n",
      " -0.55675   0.074563  0.62295   0.13652   0.88841   0.028324  0.72354\n",
      "  0.23913   0.10532   0.53442  -0.067557 -0.76906   0.58212  -0.20706\n",
      "  1.1397    0.11476   0.78226   0.20242   1.1421    0.80678   0.49675\n",
      "  0.58517   0.74437   0.16848   0.23775  -0.24336  -0.39133  -0.25031\n",
      "  0.024153  0.37198  -0.21762  -0.39776  -0.28984  -0.4485    0.48314\n",
      "  0.57934  -0.23749  -0.54987  -0.22377   0.86898  -0.36287   0.39069\n",
      " -0.69271   0.32923   0.32524   0.48549  -0.034262 -0.077213 -0.18801\n",
      "  0.080261  0.22341  -0.61022  -0.092451  0.25809   0.52744  -0.11178\n",
      " -0.012107  0.42855   0.36799  -0.086954 -0.15507   0.33658  -0.20518\n",
      " -0.13147  -0.27594   0.23086   0.29006  -0.10085   0.33881   0.42195\n",
      "  0.2846   -1.0286   -0.083397 -0.10724  -0.29236  -0.46498   0.5884\n",
      "  0.13804   0.25688  -0.70476   0.56302  -0.027556  0.10424   0.43332\n",
      "  0.92712   0.086926 -0.42179  -0.83269  -0.42094  -0.49099   0.070522\n",
      "  0.26465  -0.066828  0.49329  -0.81433   0.93185  -1.0065   -0.22811\n",
      "  0.47809  -0.028054 -0.32941  -0.27038  -0.049862 -0.38012  -0.51335\n",
      " -0.35995   0.64873   0.82763  -0.35255  -0.18908  -0.16212   0.61234\n",
      " -1.3911    0.80113  -0.51513  -0.11046  -0.063711  0.59011  -0.32899\n",
      " -0.86818   0.17525   0.13656   0.97049  -0.14084  -0.89921   0.039571\n",
      " -0.56433  -0.53556   0.30407  -0.51316  -0.78106   0.39618   0.028534\n",
      " -0.31636   0.28515  -0.2952    0.69934   0.036211 -0.022229  0.35079\n",
      "  0.042053 -0.68718  -0.27989   0.6459   -0.17633  -0.42545  -1.043\n",
      "  1.3713   -0.64109  -0.21827  -0.09474 ]\n"
     ]
    }
   ],
   "source": [
    "test_word = 'gender'\n",
    "\n",
    "test_vector = GLOVE_EMBEDDINGS[test_word]\n",
    "\n",
    "print(f\"Vector representation of word {test_word} looks like this:\\n\\n{test_vector}\")"
   ]
  },
  {
   "cell_type": "code",
   "execution_count": 102,
   "metadata": {},
   "outputs": [],
   "source": [
    "# Initialize an empty numpy array with the appropriate size\n",
    "EMBEDDINGS_MATRIX = np.zeros((VOCAB_SIZE+1, EMBEDDING_DIM))\n",
    "\n",
    "# Iterate all of the words in the vocabulary and if the vector representation for \n",
    "# each word exists within GloVe's representations, save it in the EMBEDDINGS_MATRIX array\n",
    "for word, i in word_index.items():\n",
    "    embedding_vector = GLOVE_EMBEDDINGS.get(word)\n",
    "    if embedding_vector is not None:\n",
    "        EMBEDDINGS_MATRIX[i] = embedding_vector"
   ]
  },
  {
   "cell_type": "code",
   "execution_count": 103,
   "metadata": {},
   "outputs": [],
   "source": [
    "# GRADED FUNCTION: create_model\n",
    "def create_model(vocab_size, embedding_dim, maxlen, embeddings_matrix):\n",
    "    \"\"\"\n",
    "    Creates a binary sentiment classifier model\n",
    "    \n",
    "    Args:\n",
    "        vocab_size (int): size of the vocabulary for the Embedding layer input\n",
    "        embedding_dim (int): dimensionality of the Embedding layer output\n",
    "        maxlen (int): length of the input sequences\n",
    "        embeddings_matrix (array): predefined weights of the embeddings\n",
    "    \n",
    "    Returns:\n",
    "        model (tf.keras Model): the sentiment classifier model\n",
    "    \"\"\"\n",
    "    ### START CODE HERE\n",
    "    \n",
    "    model = tf.keras.Sequential([ \n",
    "        # This is how you need to set the Embedding layer when using pre-trained embeddings\n",
    "        tf.keras.layers.Embedding(vocab_size+1, embedding_dim, batch_input_shape=(None, maxlen), weights=[embeddings_matrix], trainable=False), \n",
    "        tf.keras.layers.Bidirectional(tf.keras.layers.LSTM(128, activation=\"tanh\", return_sequences=True)),\n",
    "        tf.keras.layers.Dropout(0.5),\n",
    "        tf.keras.layers.BatchNormalization(),\n",
    "        tf.keras.layers.Bidirectional(tf.keras.layers.LSTM(128, activation=\"tanh\")),\n",
    "        tf.keras.layers.Dense(128, activation='relu'),\n",
    "        tf.keras.layers.Dropout(0.5),\n",
    "        tf.keras.layers.Dense(128, activation='relu'),\n",
    "        tf.keras.layers.Dense(3, activation='softmax')\n",
    "    ])\n",
    "    \n",
    "    model.compile(loss=tf.keras.losses.SparseCategoricalCrossentropy(),\n",
    "                  optimizer=optimizers.Adam(1e-5),\n",
    "                  metrics=['accuracy']) \n",
    "\n",
    "    ### END CODE HERE\n",
    "\n",
    "    return model"
   ]
  },
  {
   "cell_type": "code",
   "execution_count": 104,
   "metadata": {},
   "outputs": [
    {
     "name": "stdout",
     "output_type": "stream",
     "text": [
      "Model: \"sequential_2\"\n",
      "_________________________________________________________________\n",
      " Layer (type)                Output Shape              Param #   \n",
      "=================================================================\n",
      " embedding_2 (Embedding)     (None, 300, 200)          1403200   \n",
      "                                                                 \n",
      " bidirectional_4 (Bidirectio  (None, 300, 256)         336896    \n",
      " nal)                                                            \n",
      "                                                                 \n",
      " dropout_4 (Dropout)         (None, 300, 256)          0         \n",
      "                                                                 \n",
      " batch_normalization_2 (Batc  (None, 300, 256)         1024      \n",
      " hNormalization)                                                 \n",
      "                                                                 \n",
      " bidirectional_5 (Bidirectio  (None, 256)              394240    \n",
      " nal)                                                            \n",
      "                                                                 \n",
      " dense_6 (Dense)             (None, 128)               32896     \n",
      "                                                                 \n",
      " dropout_5 (Dropout)         (None, 128)               0         \n",
      "                                                                 \n",
      " dense_7 (Dense)             (None, 128)               16512     \n",
      "                                                                 \n",
      " dense_8 (Dense)             (None, 3)                 387       \n",
      "                                                                 \n",
      "=================================================================\n",
      "Total params: 2,185,155\n",
      "Trainable params: 781,443\n",
      "Non-trainable params: 1,403,712\n",
      "_________________________________________________________________\n"
     ]
    }
   ],
   "source": [
    "# Create your untrained model\n",
    "model = create_model(VOCAB_SIZE, EMBEDDING_DIM, MAXLEN, EMBEDDINGS_MATRIX)\n",
    "\n",
    "model.summary()"
   ]
  },
  {
   "cell_type": "code",
   "execution_count": 105,
   "metadata": {},
   "outputs": [],
   "source": [
    "reduce_lr = ReduceLROnPlateau(monitor='val_loss', factor=0.1,\n",
    "                              patience=3, min_lr=1e-7)\n",
    "es = EarlyStopping(monitor='val_loss', patience=10, mode=\"min\", restore_best_weights=True)"
   ]
  },
  {
   "cell_type": "code",
   "execution_count": 106,
   "metadata": {},
   "outputs": [
    {
     "name": "stdout",
     "output_type": "stream",
     "text": [
      "Epoch 1/256\n"
     ]
    },
    {
     "name": "stdout",
     "output_type": "stream",
     "text": [
      "19/19 [==============================] - 6s 124ms/step - loss: 1.0628 - accuracy: 0.4474 - val_loss: 1.0853 - val_accuracy: 0.4211 - lr: 1.0000e-05\n",
      "Epoch 2/256\n",
      "19/19 [==============================] - 1s 72ms/step - loss: 1.0367 - accuracy: 0.5000 - val_loss: 1.0836 - val_accuracy: 0.4211 - lr: 1.0000e-05\n",
      "Epoch 3/256\n",
      "19/19 [==============================] - 1s 72ms/step - loss: 1.0524 - accuracy: 0.4737 - val_loss: 1.0804 - val_accuracy: 0.5526 - lr: 1.0000e-05\n",
      "Epoch 4/256\n",
      "19/19 [==============================] - 1s 71ms/step - loss: 1.0281 - accuracy: 0.5789 - val_loss: 1.0759 - val_accuracy: 0.6842 - lr: 1.0000e-05\n",
      "Epoch 5/256\n",
      "19/19 [==============================] - 1s 74ms/step - loss: 1.0366 - accuracy: 0.5066 - val_loss: 1.0697 - val_accuracy: 0.7105 - lr: 1.0000e-05\n",
      "Epoch 6/256\n",
      "19/19 [==============================] - 1s 74ms/step - loss: 1.0110 - accuracy: 0.5658 - val_loss: 1.0628 - val_accuracy: 0.7368 - lr: 1.0000e-05\n",
      "Epoch 7/256\n",
      "19/19 [==============================] - 1s 73ms/step - loss: 0.9749 - accuracy: 0.5921 - val_loss: 1.0556 - val_accuracy: 0.7632 - lr: 1.0000e-05\n",
      "Epoch 8/256\n",
      "19/19 [==============================] - 1s 73ms/step - loss: 0.9900 - accuracy: 0.5592 - val_loss: 1.0466 - val_accuracy: 0.7368 - lr: 1.0000e-05\n",
      "Epoch 9/256\n",
      "19/19 [==============================] - 1s 70ms/step - loss: 0.9828 - accuracy: 0.5789 - val_loss: 1.0367 - val_accuracy: 0.7368 - lr: 1.0000e-05\n",
      "Epoch 10/256\n",
      "19/19 [==============================] - 1s 71ms/step - loss: 0.9820 - accuracy: 0.6250 - val_loss: 1.0255 - val_accuracy: 0.7632 - lr: 1.0000e-05\n",
      "Epoch 11/256\n",
      "19/19 [==============================] - 1s 70ms/step - loss: 0.9612 - accuracy: 0.5987 - val_loss: 1.0138 - val_accuracy: 0.7632 - lr: 1.0000e-05\n",
      "Epoch 12/256\n",
      "19/19 [==============================] - 1s 70ms/step - loss: 0.9715 - accuracy: 0.6447 - val_loss: 1.0018 - val_accuracy: 0.7632 - lr: 1.0000e-05\n",
      "Epoch 13/256\n",
      "19/19 [==============================] - 1s 70ms/step - loss: 0.9328 - accuracy: 0.6711 - val_loss: 0.9892 - val_accuracy: 0.7368 - lr: 1.0000e-05\n",
      "Epoch 14/256\n",
      "19/19 [==============================] - 1s 70ms/step - loss: 0.9471 - accuracy: 0.6316 - val_loss: 0.9755 - val_accuracy: 0.7105 - lr: 1.0000e-05\n",
      "Epoch 15/256\n",
      "19/19 [==============================] - 1s 70ms/step - loss: 0.9141 - accuracy: 0.6382 - val_loss: 0.9622 - val_accuracy: 0.7105 - lr: 1.0000e-05\n",
      "Epoch 16/256\n",
      "19/19 [==============================] - 1s 71ms/step - loss: 0.9102 - accuracy: 0.6513 - val_loss: 0.9499 - val_accuracy: 0.7105 - lr: 1.0000e-05\n",
      "Epoch 17/256\n",
      "19/19 [==============================] - 1s 72ms/step - loss: 0.9199 - accuracy: 0.6513 - val_loss: 0.9379 - val_accuracy: 0.7105 - lr: 1.0000e-05\n",
      "Epoch 18/256\n",
      "19/19 [==============================] - 1s 71ms/step - loss: 0.8867 - accuracy: 0.6645 - val_loss: 0.9262 - val_accuracy: 0.6842 - lr: 1.0000e-05\n",
      "Epoch 19/256\n",
      "19/19 [==============================] - 1s 71ms/step - loss: 0.8873 - accuracy: 0.6711 - val_loss: 0.9133 - val_accuracy: 0.6842 - lr: 1.0000e-05\n",
      "Epoch 20/256\n",
      "19/19 [==============================] - 1s 70ms/step - loss: 0.8712 - accuracy: 0.6645 - val_loss: 0.9012 - val_accuracy: 0.6842 - lr: 1.0000e-05\n",
      "Epoch 21/256\n",
      "19/19 [==============================] - 1s 70ms/step - loss: 0.8930 - accuracy: 0.6579 - val_loss: 0.8894 - val_accuracy: 0.6579 - lr: 1.0000e-05\n",
      "Epoch 22/256\n",
      "19/19 [==============================] - 1s 70ms/step - loss: 0.8692 - accuracy: 0.6579 - val_loss: 0.8790 - val_accuracy: 0.6579 - lr: 1.0000e-05\n",
      "Epoch 23/256\n",
      "19/19 [==============================] - 1s 70ms/step - loss: 0.8745 - accuracy: 0.6513 - val_loss: 0.8690 - val_accuracy: 0.6579 - lr: 1.0000e-05\n",
      "Epoch 24/256\n",
      "19/19 [==============================] - 1s 71ms/step - loss: 0.8560 - accuracy: 0.6579 - val_loss: 0.8595 - val_accuracy: 0.6579 - lr: 1.0000e-05\n",
      "Epoch 25/256\n",
      "19/19 [==============================] - 1s 71ms/step - loss: 0.8625 - accuracy: 0.6513 - val_loss: 0.8502 - val_accuracy: 0.6579 - lr: 1.0000e-05\n",
      "Epoch 26/256\n",
      "19/19 [==============================] - 1s 70ms/step - loss: 0.8512 - accuracy: 0.6447 - val_loss: 0.8408 - val_accuracy: 0.6579 - lr: 1.0000e-05\n",
      "Epoch 27/256\n",
      "19/19 [==============================] - 1s 70ms/step - loss: 0.8344 - accuracy: 0.6447 - val_loss: 0.8318 - val_accuracy: 0.6579 - lr: 1.0000e-05\n",
      "Epoch 28/256\n",
      "19/19 [==============================] - 1s 70ms/step - loss: 0.8258 - accuracy: 0.6579 - val_loss: 0.8235 - val_accuracy: 0.6579 - lr: 1.0000e-05\n",
      "Epoch 29/256\n",
      "19/19 [==============================] - 1s 70ms/step - loss: 0.8017 - accuracy: 0.6776 - val_loss: 0.8152 - val_accuracy: 0.6842 - lr: 1.0000e-05\n",
      "Epoch 30/256\n",
      "19/19 [==============================] - 1s 70ms/step - loss: 0.7868 - accuracy: 0.6842 - val_loss: 0.8080 - val_accuracy: 0.6842 - lr: 1.0000e-05\n",
      "Epoch 31/256\n",
      "19/19 [==============================] - 1s 70ms/step - loss: 0.8213 - accuracy: 0.6579 - val_loss: 0.8013 - val_accuracy: 0.6842 - lr: 1.0000e-05\n",
      "Epoch 32/256\n",
      "19/19 [==============================] - 1s 70ms/step - loss: 0.8224 - accuracy: 0.6645 - val_loss: 0.7951 - val_accuracy: 0.6842 - lr: 1.0000e-05\n",
      "Epoch 33/256\n",
      "19/19 [==============================] - 1s 70ms/step - loss: 0.7938 - accuracy: 0.6711 - val_loss: 0.7887 - val_accuracy: 0.6842 - lr: 1.0000e-05\n",
      "Epoch 34/256\n",
      "19/19 [==============================] - 1s 71ms/step - loss: 0.7787 - accuracy: 0.6513 - val_loss: 0.7833 - val_accuracy: 0.6842 - lr: 1.0000e-05\n",
      "Epoch 35/256\n",
      "19/19 [==============================] - 1s 71ms/step - loss: 0.7713 - accuracy: 0.6645 - val_loss: 0.7778 - val_accuracy: 0.6842 - lr: 1.0000e-05\n",
      "Epoch 36/256\n",
      "19/19 [==============================] - 1s 71ms/step - loss: 0.7955 - accuracy: 0.6579 - val_loss: 0.7725 - val_accuracy: 0.6842 - lr: 1.0000e-05\n",
      "Epoch 37/256\n",
      "19/19 [==============================] - 1s 71ms/step - loss: 0.7735 - accuracy: 0.6579 - val_loss: 0.7677 - val_accuracy: 0.7105 - lr: 1.0000e-05\n",
      "Epoch 38/256\n",
      "19/19 [==============================] - 1s 71ms/step - loss: 0.7566 - accuracy: 0.6382 - val_loss: 0.7630 - val_accuracy: 0.7105 - lr: 1.0000e-05\n",
      "Epoch 39/256\n",
      "19/19 [==============================] - 1s 71ms/step - loss: 0.7538 - accuracy: 0.6447 - val_loss: 0.7586 - val_accuracy: 0.7105 - lr: 1.0000e-05\n",
      "Epoch 40/256\n",
      "19/19 [==============================] - 1s 71ms/step - loss: 0.7551 - accuracy: 0.6776 - val_loss: 0.7545 - val_accuracy: 0.7105 - lr: 1.0000e-05\n",
      "Epoch 41/256\n",
      "19/19 [==============================] - 1s 71ms/step - loss: 0.7201 - accuracy: 0.6382 - val_loss: 0.7505 - val_accuracy: 0.7105 - lr: 1.0000e-05\n",
      "Epoch 42/256\n",
      "19/19 [==============================] - 1s 71ms/step - loss: 0.7326 - accuracy: 0.6711 - val_loss: 0.7459 - val_accuracy: 0.7105 - lr: 1.0000e-05\n",
      "Epoch 43/256\n",
      "19/19 [==============================] - 1s 70ms/step - loss: 0.7700 - accuracy: 0.6513 - val_loss: 0.7420 - val_accuracy: 0.7105 - lr: 1.0000e-05\n",
      "Epoch 44/256\n",
      "19/19 [==============================] - 1s 71ms/step - loss: 0.7294 - accuracy: 0.6776 - val_loss: 0.7385 - val_accuracy: 0.7105 - lr: 1.0000e-05\n",
      "Epoch 45/256\n",
      "19/19 [==============================] - 1s 71ms/step - loss: 0.7267 - accuracy: 0.6579 - val_loss: 0.7354 - val_accuracy: 0.7105 - lr: 1.0000e-05\n",
      "Epoch 46/256\n",
      "19/19 [==============================] - 1s 70ms/step - loss: 0.7249 - accuracy: 0.6842 - val_loss: 0.7319 - val_accuracy: 0.6842 - lr: 1.0000e-05\n",
      "Epoch 47/256\n",
      "19/19 [==============================] - 1s 71ms/step - loss: 0.7112 - accuracy: 0.6842 - val_loss: 0.7290 - val_accuracy: 0.6842 - lr: 1.0000e-05\n",
      "Epoch 48/256\n",
      "19/19 [==============================] - 1s 70ms/step - loss: 0.7238 - accuracy: 0.6579 - val_loss: 0.7257 - val_accuracy: 0.6842 - lr: 1.0000e-05\n",
      "Epoch 49/256\n",
      "19/19 [==============================] - 1s 71ms/step - loss: 0.7068 - accuracy: 0.6776 - val_loss: 0.7226 - val_accuracy: 0.7105 - lr: 1.0000e-05\n",
      "Epoch 50/256\n",
      "19/19 [==============================] - 1s 72ms/step - loss: 0.6974 - accuracy: 0.6776 - val_loss: 0.7190 - val_accuracy: 0.7368 - lr: 1.0000e-05\n",
      "Epoch 51/256\n",
      "19/19 [==============================] - 1s 72ms/step - loss: 0.6988 - accuracy: 0.6711 - val_loss: 0.7158 - val_accuracy: 0.7368 - lr: 1.0000e-05\n",
      "Epoch 52/256\n",
      "19/19 [==============================] - 1s 73ms/step - loss: 0.7089 - accuracy: 0.6842 - val_loss: 0.7124 - val_accuracy: 0.7368 - lr: 1.0000e-05\n",
      "Epoch 53/256\n",
      "19/19 [==============================] - 1s 72ms/step - loss: 0.6857 - accuracy: 0.6776 - val_loss: 0.7092 - val_accuracy: 0.7368 - lr: 1.0000e-05\n",
      "Epoch 54/256\n",
      "19/19 [==============================] - 1s 73ms/step - loss: 0.6822 - accuracy: 0.6974 - val_loss: 0.7068 - val_accuracy: 0.7632 - lr: 1.0000e-05\n",
      "Epoch 55/256\n",
      "19/19 [==============================] - 1s 74ms/step - loss: 0.6505 - accuracy: 0.7105 - val_loss: 0.7047 - val_accuracy: 0.7632 - lr: 1.0000e-05\n",
      "Epoch 56/256\n",
      "19/19 [==============================] - 1s 74ms/step - loss: 0.7026 - accuracy: 0.6776 - val_loss: 0.7022 - val_accuracy: 0.7632 - lr: 1.0000e-05\n",
      "Epoch 57/256\n",
      "19/19 [==============================] - 1s 75ms/step - loss: 0.6639 - accuracy: 0.6842 - val_loss: 0.7002 - val_accuracy: 0.7632 - lr: 1.0000e-05\n",
      "Epoch 58/256\n",
      "19/19 [==============================] - 1s 73ms/step - loss: 0.6473 - accuracy: 0.6842 - val_loss: 0.6987 - val_accuracy: 0.7632 - lr: 1.0000e-05\n",
      "Epoch 59/256\n",
      "19/19 [==============================] - 1s 72ms/step - loss: 0.6701 - accuracy: 0.6908 - val_loss: 0.6967 - val_accuracy: 0.7632 - lr: 1.0000e-05\n",
      "Epoch 60/256\n",
      "19/19 [==============================] - 1s 72ms/step - loss: 0.6531 - accuracy: 0.7039 - val_loss: 0.6948 - val_accuracy: 0.7632 - lr: 1.0000e-05\n",
      "Epoch 61/256\n",
      "19/19 [==============================] - 1s 72ms/step - loss: 0.6293 - accuracy: 0.7237 - val_loss: 0.6929 - val_accuracy: 0.7632 - lr: 1.0000e-05\n",
      "Epoch 62/256\n",
      "19/19 [==============================] - 1s 72ms/step - loss: 0.6495 - accuracy: 0.7039 - val_loss: 0.6913 - val_accuracy: 0.7632 - lr: 1.0000e-05\n",
      "Epoch 63/256\n",
      "19/19 [==============================] - 1s 73ms/step - loss: 0.6413 - accuracy: 0.7303 - val_loss: 0.6894 - val_accuracy: 0.7632 - lr: 1.0000e-05\n",
      "Epoch 64/256\n",
      "19/19 [==============================] - 1s 73ms/step - loss: 0.6098 - accuracy: 0.7105 - val_loss: 0.6873 - val_accuracy: 0.7632 - lr: 1.0000e-05\n",
      "Epoch 65/256\n",
      "19/19 [==============================] - 1s 72ms/step - loss: 0.6301 - accuracy: 0.7105 - val_loss: 0.6857 - val_accuracy: 0.7632 - lr: 1.0000e-05\n",
      "Epoch 66/256\n",
      "19/19 [==============================] - 1s 72ms/step - loss: 0.6326 - accuracy: 0.6842 - val_loss: 0.6841 - val_accuracy: 0.7632 - lr: 1.0000e-05\n",
      "Epoch 67/256\n",
      "19/19 [==============================] - 1s 72ms/step - loss: 0.6251 - accuracy: 0.7171 - val_loss: 0.6823 - val_accuracy: 0.7632 - lr: 1.0000e-05\n",
      "Epoch 68/256\n",
      "19/19 [==============================] - 1s 72ms/step - loss: 0.6042 - accuracy: 0.7500 - val_loss: 0.6804 - val_accuracy: 0.7632 - lr: 1.0000e-05\n",
      "Epoch 69/256\n",
      "19/19 [==============================] - 1s 71ms/step - loss: 0.5631 - accuracy: 0.7500 - val_loss: 0.6797 - val_accuracy: 0.7632 - lr: 1.0000e-05\n",
      "Epoch 70/256\n",
      "19/19 [==============================] - 1s 71ms/step - loss: 0.6105 - accuracy: 0.7368 - val_loss: 0.6785 - val_accuracy: 0.7632 - lr: 1.0000e-05\n",
      "Epoch 71/256\n",
      "19/19 [==============================] - 1s 72ms/step - loss: 0.6210 - accuracy: 0.7303 - val_loss: 0.6768 - val_accuracy: 0.7632 - lr: 1.0000e-05\n",
      "Epoch 72/256\n",
      "19/19 [==============================] - 1s 71ms/step - loss: 0.5752 - accuracy: 0.7434 - val_loss: 0.6761 - val_accuracy: 0.7632 - lr: 1.0000e-05\n",
      "Epoch 73/256\n",
      "19/19 [==============================] - 1s 71ms/step - loss: 0.5799 - accuracy: 0.7237 - val_loss: 0.6754 - val_accuracy: 0.7895 - lr: 1.0000e-05\n",
      "Epoch 74/256\n",
      "19/19 [==============================] - 1s 71ms/step - loss: 0.5776 - accuracy: 0.7961 - val_loss: 0.6731 - val_accuracy: 0.7895 - lr: 1.0000e-05\n",
      "Epoch 75/256\n",
      "19/19 [==============================] - 1s 71ms/step - loss: 0.5382 - accuracy: 0.7632 - val_loss: 0.6719 - val_accuracy: 0.7895 - lr: 1.0000e-05\n",
      "Epoch 76/256\n",
      "19/19 [==============================] - 1s 70ms/step - loss: 0.6037 - accuracy: 0.7500 - val_loss: 0.6697 - val_accuracy: 0.7895 - lr: 1.0000e-05\n",
      "Epoch 77/256\n",
      "19/19 [==============================] - 1s 70ms/step - loss: 0.5706 - accuracy: 0.7961 - val_loss: 0.6689 - val_accuracy: 0.7895 - lr: 1.0000e-05\n",
      "Epoch 78/256\n",
      "19/19 [==============================] - 1s 70ms/step - loss: 0.5702 - accuracy: 0.7829 - val_loss: 0.6677 - val_accuracy: 0.7632 - lr: 1.0000e-05\n",
      "Epoch 79/256\n",
      "19/19 [==============================] - 1s 69ms/step - loss: 0.5795 - accuracy: 0.7566 - val_loss: 0.6681 - val_accuracy: 0.7632 - lr: 1.0000e-05\n",
      "Epoch 80/256\n",
      "19/19 [==============================] - 1s 71ms/step - loss: 0.5507 - accuracy: 0.7500 - val_loss: 0.6662 - val_accuracy: 0.7632 - lr: 1.0000e-05\n",
      "Epoch 81/256\n",
      "19/19 [==============================] - 1s 71ms/step - loss: 0.5820 - accuracy: 0.7368 - val_loss: 0.6654 - val_accuracy: 0.7632 - lr: 1.0000e-05\n",
      "Epoch 82/256\n",
      "19/19 [==============================] - 1s 70ms/step - loss: 0.5374 - accuracy: 0.8092 - val_loss: 0.6642 - val_accuracy: 0.7632 - lr: 1.0000e-05\n",
      "Epoch 83/256\n",
      "19/19 [==============================] - 1s 71ms/step - loss: 0.5077 - accuracy: 0.7895 - val_loss: 0.6637 - val_accuracy: 0.7632 - lr: 1.0000e-05\n",
      "Epoch 84/256\n",
      "19/19 [==============================] - 1s 70ms/step - loss: 0.5070 - accuracy: 0.7829 - val_loss: 0.6631 - val_accuracy: 0.7632 - lr: 1.0000e-05\n",
      "Epoch 85/256\n",
      "19/19 [==============================] - 1s 70ms/step - loss: 0.5151 - accuracy: 0.8092 - val_loss: 0.6631 - val_accuracy: 0.7632 - lr: 1.0000e-05\n",
      "Epoch 86/256\n",
      "19/19 [==============================] - 1s 70ms/step - loss: 0.5367 - accuracy: 0.7566 - val_loss: 0.6620 - val_accuracy: 0.7632 - lr: 1.0000e-05\n",
      "Epoch 87/256\n",
      "19/19 [==============================] - 1s 71ms/step - loss: 0.4947 - accuracy: 0.7895 - val_loss: 0.6617 - val_accuracy: 0.7632 - lr: 1.0000e-05\n",
      "Epoch 88/256\n",
      "19/19 [==============================] - 1s 70ms/step - loss: 0.5184 - accuracy: 0.7895 - val_loss: 0.6621 - val_accuracy: 0.7632 - lr: 1.0000e-05\n",
      "Epoch 89/256\n",
      "19/19 [==============================] - 1s 70ms/step - loss: 0.5132 - accuracy: 0.7961 - val_loss: 0.6622 - val_accuracy: 0.7632 - lr: 1.0000e-05\n",
      "Epoch 90/256\n",
      "19/19 [==============================] - 1s 70ms/step - loss: 0.5470 - accuracy: 0.7368 - val_loss: 0.6605 - val_accuracy: 0.7632 - lr: 1.0000e-05\n",
      "Epoch 91/256\n",
      "19/19 [==============================] - 1s 71ms/step - loss: 0.5346 - accuracy: 0.7895 - val_loss: 0.6590 - val_accuracy: 0.7368 - lr: 1.0000e-05\n",
      "Epoch 92/256\n",
      "19/19 [==============================] - 1s 70ms/step - loss: 0.4996 - accuracy: 0.7895 - val_loss: 0.6588 - val_accuracy: 0.7368 - lr: 1.0000e-05\n",
      "Epoch 93/256\n",
      "19/19 [==============================] - 1s 70ms/step - loss: 0.5036 - accuracy: 0.8224 - val_loss: 0.6590 - val_accuracy: 0.7368 - lr: 1.0000e-05\n",
      "Epoch 94/256\n",
      "19/19 [==============================] - 1s 70ms/step - loss: 0.4861 - accuracy: 0.8618 - val_loss: 0.6597 - val_accuracy: 0.7368 - lr: 1.0000e-05\n",
      "Epoch 95/256\n",
      "19/19 [==============================] - 1s 70ms/step - loss: 0.4668 - accuracy: 0.8224 - val_loss: 0.6597 - val_accuracy: 0.7368 - lr: 1.0000e-05\n",
      "Epoch 96/256\n",
      "19/19 [==============================] - 1s 70ms/step - loss: 0.5383 - accuracy: 0.8026 - val_loss: 0.6598 - val_accuracy: 0.7368 - lr: 1.0000e-06\n",
      "Epoch 97/256\n",
      "19/19 [==============================] - 1s 70ms/step - loss: 0.4991 - accuracy: 0.7763 - val_loss: 0.6598 - val_accuracy: 0.7368 - lr: 1.0000e-06\n",
      "Epoch 98/256\n",
      "19/19 [==============================] - 1s 70ms/step - loss: 0.4978 - accuracy: 0.7895 - val_loss: 0.6598 - val_accuracy: 0.7368 - lr: 1.0000e-06\n",
      "Epoch 99/256\n",
      "19/19 [==============================] - 1s 70ms/step - loss: 0.4983 - accuracy: 0.8026 - val_loss: 0.6597 - val_accuracy: 0.7368 - lr: 1.0000e-07\n",
      "Epoch 100/256\n",
      "19/19 [==============================] - 1s 70ms/step - loss: 0.5188 - accuracy: 0.8026 - val_loss: 0.6597 - val_accuracy: 0.7368 - lr: 1.0000e-07\n",
      "Epoch 101/256\n",
      "19/19 [==============================] - 1s 71ms/step - loss: 0.4806 - accuracy: 0.8355 - val_loss: 0.6597 - val_accuracy: 0.7368 - lr: 1.0000e-07\n",
      "Epoch 102/256\n",
      "19/19 [==============================] - 1s 71ms/step - loss: 0.4791 - accuracy: 0.8355 - val_loss: 0.6597 - val_accuracy: 0.7368 - lr: 1.0000e-07\n"
     ]
    }
   ],
   "source": [
    "# Train the model and save the training history\n",
    "history = model.fit(train_pad_trunc_seq, train_labels, epochs=256, \n",
    "                    validation_data=(val_pad_trunc_seq, val_labels), \n",
    "                    callbacks=[reduce_lr, es],\n",
    "                    batch_size=8)"
   ]
  },
  {
   "cell_type": "code",
   "execution_count": 107,
   "metadata": {},
   "outputs": [
    {
     "name": "stdout",
     "output_type": "stream",
     "text": [
      "1/1 [==============================] - 1s 884ms/step\n",
      "Ground Truth: 0\n",
      "Classification Truth: 0\n",
      "Actual Input Sentence\n"
     ]
    }
   ],
   "source": [
    "## Testing\n",
    "number = 150\n",
    "test_data = train_pad_trunc_seq[number].reshape(1,MAXLEN)\n",
    "ground_truth = train_labels[number]\n",
    "classification = model.predict(test_data)\n",
    "\n",
    "print('Ground Truth:', ground_truth)\n",
    "print('Classification Truth:', np.argmax((classification)) )\n",
    "\n",
    "print('Actual Input Sentence', )\n"
   ]
  },
  {
   "cell_type": "code",
   "execution_count": 108,
   "metadata": {},
   "outputs": [
    {
     "name": "stdout",
     "output_type": "stream",
     "text": [
      "Best Epoch:  91\n",
      "Final Train Loss: 0.4996\n",
      "Final Validation Loss: 0.6588\n",
      "Final Train accuracy: 78.95\n",
      "Final Test accuracy: 73.68\n"
     ]
    }
   ],
   "source": [
    "## Best model saved\n",
    "train_loss = history.history['loss']\n",
    "train_accuracy = history.history['accuracy']\n",
    "val_loss = history.history['val_loss']\n",
    "val_accuracy = history.history['val_accuracy']\n",
    "\n",
    "best_epoch = np.argmin(np.array(val_loss))\n",
    "\n",
    "print(\"Best Epoch: \", best_epoch)\n",
    "print(\"Final Train Loss: {:.4f}\".format(train_loss[best_epoch]))\n",
    "print(\"Final Validation Loss: {:.4f}\".format(val_loss[best_epoch]))\n",
    "print(\"Final Train accuracy: {:.2f}\".format(train_accuracy[best_epoch]*100))\n",
    "print(\"Final Test accuracy: {:.2f}\".format(val_accuracy[best_epoch]*100))"
   ]
  },
  {
   "cell_type": "code",
   "execution_count": 109,
   "metadata": {},
   "outputs": [
    {
     "data": {
      "image/png": "[encoded data removed]",
      "text/plain": [
       "<Figure size 1500x400 with 2 Axes>"
      ]
     },
     "metadata": {},
     "output_type": "display_data"
    }
   ],
   "source": [
    "## Graphing Result of training\n",
    "plt.figure(figsize=(15,4))\n",
    "\n",
    "plt.subplot(121)\n",
    "plt.plot(history.history['accuracy'], color ='r')\n",
    "plt.plot(history.history['val_accuracy'])\n",
    "plt.title('accuracy')\n",
    "plt.legend(['train','validation'])\n",
    "plt.xlabel('epoch')\n",
    "plt.ylabel('accuracy')\n",
    "\n",
    "plt.subplot(122)\n",
    "plt.plot(history.history['loss'], color ='r')\n",
    "plt.plot(history.history['val_loss'])\n",
    "plt.title('loss')\n",
    "plt.legend(['train','validation'])\n",
    "plt.xlabel('epoch')\n",
    "plt.ylabel('mean squared error')\n",
    "\n",
    "# displaying the figure\n",
    "plt.show()"
   ]
  },
  {
   "cell_type": "markdown",
   "metadata": {},
   "source": [
    "### saving"
   ]
  },
  {
   "cell_type": "code",
   "execution_count": 110,
   "metadata": {},
   "outputs": [],
   "source": [
    "## General save path\n",
    "import os\n",
    "version = len(os.listdir('models'))+2\n",
    "save_path = 'models/classifier_v{:d}/'.format(version)\n",
    "os.mkdir(save_path)"
   ]
  },
  {
   "cell_type": "code",
   "execution_count": 111,
   "metadata": {},
   "outputs": [
    {
     "data": {
      "image/png": "[encoded data removed]",
      "text/plain": [
       "<Figure size 1500x400 with 2 Axes>"
      ]
     },
     "metadata": {},
     "output_type": "display_data"
    }
   ],
   "source": [
    "# Saving the figure.\n",
    "## Graphing Result of training\n",
    "plt.figure(figsize=(15,4))\n",
    "\n",
    "plt.subplot(121)\n",
    "plt.plot(history.history['accuracy'], color ='r')\n",
    "plt.plot(history.history['val_accuracy'])\n",
    "plt.title('accuracy')\n",
    "plt.legend(['train','validation'])\n",
    "plt.xlabel('epoch')\n",
    "plt.ylabel('accuracy')\n",
    "\n",
    "plt.subplot(122)\n",
    "plt.plot(history.history['loss'], color ='r')\n",
    "plt.plot(history.history['val_loss'])\n",
    "plt.title('loss')\n",
    "plt.legend(['train','validation'])\n",
    "plt.xlabel('epoch')\n",
    "plt.ylabel('mean squared error')\n",
    "\n",
    "plt.savefig(save_path+\"output.jpg\")"
   ]
  },
  {
   "cell_type": "code",
   "execution_count": 112,
   "metadata": {},
   "outputs": [],
   "source": [
    "## Save best metrics\n",
    "with open(save_path+'metrics.txt', 'w') as f:\n",
    "    f.write(\"Best Epoch: {:d} \\n\".format(best_epoch))\n",
    "    f.write(\"Final Train Loss: {:.4f}\\n\".format(train_loss[best_epoch]))\n",
    "    f.write(\"Final Validation Loss: {:.4f}\\n\".format(val_loss[best_epoch]))\n",
    "    f.write(\"Final Train accuracy: {:.2f}%\\n\".format(train_accuracy[best_epoch]*100))\n",
    "    f.write(\"Final Test accuracy: {:.2f}%\\n\".format(val_accuracy[best_epoch]*100))"
   ]
  },
  {
   "cell_type": "code",
   "execution_count": 113,
   "metadata": {},
   "outputs": [],
   "source": [
    "## save number of words used\n",
    "with open(save_path+'readme.txt','w') as f:\n",
    "    f.write('This classifier model only uses the first {:d} words of the abstract.'.format(MAXLEN))"
   ]
  },
  {
   "cell_type": "code",
   "execution_count": 114,
   "metadata": {},
   "outputs": [],
   "source": [
    "## saving model\n",
    "model.save(save_path+'model.h5')"
   ]
  },
  {
   "cell_type": "code",
   "execution_count": 115,
   "metadata": {},
   "outputs": [],
   "source": [
    "## saving tokenizer and label_encoder\n",
    "import pickle\n",
    "\n",
    "# saving\n",
    "with open(save_path+'tokenizer.pickle', 'wb') as handle:\n",
    "    pickle.dump(tokenizer, handle, protocol=pickle.HIGHEST_PROTOCOL)\n",
    "\n",
    "# with open(save_path+'label_encoder.pickle', 'wb') as handle:\n",
    "#     pickle.dump(label_encoder, handle, protocol=pickle.HIGHEST_PROTOCOL)"
   ]
  },
  {
   "cell_type": "markdown",
   "metadata": {},
   "source": [
    "## Functions to Export"
   ]
  },
  {
   "cell_type": "code",
   "execution_count": 116,
   "metadata": {},
   "outputs": [],
   "source": [
    "import numpy as np\n",
    "import pickle\n",
    "from tensorflow.keras.preprocessing.sequence import pad_sequences\n",
    "from tensorflow.keras.models import load_model"
   ]
  },
  {
   "cell_type": "code",
   "execution_count": 117,
   "metadata": {},
   "outputs": [],
   "source": [
    "def load_tokenizer(path):\n",
    "    '''\n",
    "        load tokenizer for abstract processing\n",
    "    '''\n",
    "\n",
    "    with open(path, 'rb') as handle:\n",
    "        tokenizer = pickle.load(handle)\n",
    "        \n",
    "    return tokenizer\n",
    "\n",
    "# def load_label_encoder(path):\n",
    "#     '''\n",
    "#         loading label encoder for journal name processing\n",
    "#     '''\n",
    "\n",
    "#     with open(path, 'rb') as handle:\n",
    "#         label_encoder = pickle.load(handle)\n",
    "\n",
    "#     return label_encoder"
   ]
  },
  {
   "cell_type": "code",
   "execution_count": 118,
   "metadata": {},
   "outputs": [],
   "source": [
    "def preprocess_abstract(abstract, tokenizer, label=None):\n",
    "    '''\n",
    "        Function to preprocess abstract before classification \n",
    "\n",
    "        arguments:\n",
    "            abstract = raw abstract in string\n",
    "            tokenizer = tokenizer used by model for training\n",
    "            label = label of abstrat (for testing purposes only)\n",
    "\n",
    "        The output is an array of integer ID for each word with the same length of 250.\n",
    "        the words are arranged by order or apperance. only first words are retained. \n",
    "\n",
    "        if words is less than 250, the remaining spaces will be filled with zeros\n",
    "        if words is greater than 250, the excess words will be ignored\n",
    "    '''\n",
    "    \n",
    "    ## Text Preprocessing\n",
    "    abstract = abstract.lower().split(\" \")\n",
    "    abstract = [''.join([letter for letter in word if letter.isalnum()]) for word in abstract]\n",
    "    abstract = [word for word in abstract if word not in stop_words]\n",
    "    abstract = ' '.join(abstract)\n",
    "    \n",
    "    ## Assign unique ID to each word in abstract\n",
    "    sequences = tokenizer.texts_to_sequences([abstract])\n",
    "\n",
    "    ## Fill with zeros or Truncate array of word IDs. Max length is 250.\n",
    "    pad_trunc_sequences = pad_sequences(sequences, maxlen=300, padding='post', truncating='post')\n",
    "\n",
    "    return pad_trunc_sequences, label"
   ]
  },
  {
   "cell_type": "code",
   "execution_count": 119,
   "metadata": {},
   "outputs": [],
   "source": [
    "def classify(input_data, model):\n",
    "    '''\n",
    "        Function to classify processed abstract \n",
    "        arguments: \n",
    "            input_data = processed abstract\n",
    "            model = A.I. model\n",
    "            label_encoder = label_encoder used by model for training\n",
    "\n",
    "        the output of the function is the journal name\n",
    "    '''\n",
    "\n",
    "    ## classify abstract using model\n",
    "    output = model(input_data)\n",
    "\n",
    "    ## Get the highest probability of classification\n",
    "    output = np.argmax(output)\n",
    "\n",
    "    ## Get the journal name equivalent of the output of classification\n",
    "    journal = output + 1\n",
    "\n",
    "    ## replace _ with whitespace in the journal name\n",
    "    # journal = ' '.join(journal[0].split('_'))\n",
    "    \n",
    "    return journal"
   ]
  },
  {
   "cell_type": "code",
   "execution_count": 120,
   "metadata": {},
   "outputs": [
    {
     "name": "stdout",
     "output_type": "stream",
     "text": [
      "Ground Truth: 3\n",
      "Classification Output: 2\n"
     ]
    }
   ],
   "source": [
    "## Load tokenizer and encoder\n",
    "tokenizer = load_tokenizer(save_path+'//tokenizer.pickle')\n",
    "# label_encoder = load_label_encoder(save_path+'//label_encoder.pickle')\n",
    "\n",
    "## load model\n",
    "model = load_model(save_path+'//model.h5')\n",
    "\n",
    "## Preprocess abstract\n",
    "input_data, input_label = preprocess_abstract(data[34]['abstract'],tokenizer, label = data[34]['journal_id'])\n",
    "\n",
    "## classify abstract\n",
    "result = classify(input_data, model)\n",
    "\n",
    "## results\n",
    "print('Ground Truth:',input_label)\n",
    "print('Classification Output:',result)"
   ]
  },
  {
   "cell_type": "markdown",
   "metadata": {},
   "source": [
    "# SVM Classifier"
   ]
  },
  {
   "cell_type": "code",
   "execution_count": 121,
   "metadata": {},
   "outputs": [],
   "source": [
    "# import pandas as pd\n",
    "# import numpy as np\n",
    "# from nltk.tokenize import word_tokenize\n",
    "# from nltk import pos_tag\n",
    "# from nltk.corpus import stopwords\n",
    "# from nltk.stem import WordNetLemmatizer\n",
    "# from sklearn.preprocessing import LabelEncoder\n",
    "# from collections import defaultdict\n",
    "# from nltk.corpus import wordnet as wn\n",
    "# from sklearn.feature_extraction.text import TfidfVectorizer\n",
    "# from sklearn import model_selection, naive_bayes, svm\n",
    "# from sklearn.metrics import accuracy_score\n",
    "# import nltk\n",
    "# nltk.download('punkt')\n",
    "# nltk.download('averaged_perceptron_tagger')"
   ]
  },
  {
   "cell_type": "code",
   "execution_count": 122,
   "metadata": {},
   "outputs": [],
   "source": [
    "# import random\n",
    "# # Bundle the two lists into a single one\n",
    "# labels = [ '_'.join(sub['journal'].split(' ')) for n,sub in enumerate(data) ]\n",
    "# sentences_and_labels = list(zip(overviews, labels))\n",
    "\n",
    "# # # Perform random sampling\n",
    "# # random.seed(42)\n",
    "# sentences_and_labels = random.sample(sentences_and_labels, len(overviews))\n",
    "\n",
    "# # Unpack back into separate lists\n",
    "# sentences, labels = zip(*sentences_and_labels)\n",
    "\n",
    "# print(f\"There are {len(sentences)} sentences and {len(labels)} labels\\n\")\n",
    "# Corpus = overviews"
   ]
  },
  {
   "cell_type": "code",
   "execution_count": 123,
   "metadata": {},
   "outputs": [],
   "source": [
    "# # Step - b : Change all the text to lower case. This is required as python interprets 'dog' and 'DOG' differently\n",
    "# Corpus = [entry.lower() for entry in Corpus]\n",
    "# # Step - c : Tokenization : In this each entry in the corpus will be broken into set of words\n",
    "# Corpus= [word_tokenize(entry) for entry in Corpus]\n",
    "# # Step - d : Remove Stop words, Non-Numeric and perfom Word Stemming/Lemmenting.\n",
    "# # WordNetLemmatizer requires Pos tags to understand if the word is noun or verb or adjective etc. By default it is set to Noun\n",
    "# tag_map = defaultdict(lambda : wn.NOUN)\n",
    "# tag_map['J'] = wn.ADJ\n",
    "# tag_map['V'] = wn.VERB\n",
    "# tag_map['R'] = wn.ADV\n",
    "# for index,entry in enumerate(Corpus):\n",
    "#     # Declaring Empty List to store the words that follow the rules for this step\n",
    "#     Final_words = []\n",
    "#     # Initializing WordNetLemmatizer()\n",
    "#     word_Lemmatized = WordNetLemmatizer()\n",
    "#     # pos_tag function below will provide the 'tag' i.e if the word is Noun(N) or Verb(V) or something else.\n",
    "#     for word, tag in pos_tag(entry):\n",
    "#         # Below condition is to check for Stop words and consider only alphabets\n",
    "#         if word not in stopwords.words('english') and word.isalpha():\n",
    "#             word_Final = word_Lemmatized.lemmatize(word,tag_map[tag[0]])\n",
    "#             Final_words.append(word_Final)\n",
    "#     # The final processed set of words for each iteration will be stored in 'text_final'\n",
    "#     Corpus[index] = str(Final_words)"
   ]
  },
  {
   "cell_type": "code",
   "execution_count": 124,
   "metadata": {},
   "outputs": [],
   "source": [
    "# Train_X, Test_X, Train_Y, Test_Y = model_selection.train_test_split(Corpus,labels,test_size=0.2)"
   ]
  },
  {
   "cell_type": "code",
   "execution_count": 125,
   "metadata": {},
   "outputs": [],
   "source": [
    "# Encoder = LabelEncoder()\n",
    "# Train_Y = Encoder.fit_transform(Train_Y)\n",
    "# Test_Y = Encoder.fit_transform(Test_Y)"
   ]
  },
  {
   "cell_type": "code",
   "execution_count": 126,
   "metadata": {},
   "outputs": [],
   "source": [
    "# Tfidf_vect = TfidfVectorizer(max_features=1000)\n",
    "# Tfidf_vect.fit(Corpus)\n",
    "# Train_X_Tfidf = Tfidf_vect.transform(Train_X)\n",
    "# Test_X_Tfidf = Tfidf_vect.transform(Test_X)"
   ]
  },
  {
   "cell_type": "code",
   "execution_count": 127,
   "metadata": {},
   "outputs": [],
   "source": [
    "# print(Tfidf_vect.vocabulary_)"
   ]
  },
  {
   "cell_type": "code",
   "execution_count": 128,
   "metadata": {},
   "outputs": [],
   "source": [
    "# # Classifier - Algorithm - SVM\n",
    "# # fit the training dataset on the classifier\n",
    "# SVM = svm.SVC(C=2, kernel='rbf', degree=3)\n",
    "# SVM.fit(Train_X_Tfidf,Train_Y)\n",
    "# # predict the labels on validation dataset\n",
    "# predictions_SVM = SVM.predict(Test_X_Tfidf)\n",
    "# # Use accuracy_score function to get the accuracy\n",
    "# print(\"SVM Train Accuracy  Score -> \",accuracy_score(predictions_SVM, Test_Y)*100)\n",
    "# print(\"SVM Test Accuracy Score -> \",accuracy_score(predictions_SVM, Test_Y)*100)"
   ]
  },
  {
   "cell_type": "code",
   "execution_count": null,
   "metadata": {},
   "outputs": [],
   "source": []
  }
 ],
 "metadata": {
  "kernelspec": {
   "display_name": "flask_venv",
   "language": "python",
   "name": "python3"
  },
  "language_info": {
   "codemirror_mode": {
    "name": "ipython",
    "version": 3
   },
   "file_extension": ".py",
   "mimetype": "text/x-python",
   "name": "python",
   "nbconvert_exporter": "python",
   "pygments_lexer": "ipython3",
   "version": "3.9.13"
  }
 },
 "nbformat": 4,
 "nbformat_minor": 2
}
