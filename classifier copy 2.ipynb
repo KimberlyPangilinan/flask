{
 "cells": [
  {
   "cell_type": "markdown",
   "metadata": {},
   "source": [
    "# setup"
   ]
  },
  {
   "cell_type": "code",
   "execution_count": 1,
   "metadata": {},
   "outputs": [],
   "source": [
    "# https://nlp.stanford.edu/projects/glove/"
   ]
  },
  {
   "cell_type": "code",
   "execution_count": 2,
   "metadata": {},
   "outputs": [
    {
     "name": "stderr",
     "output_type": "stream",
     "text": [
      "[nltk_data] Downloading package stopwords to C:\\Users\\My\n",
      "[nltk_data]     Pc\\AppData\\Roaming\\nltk_data...\n",
      "[nltk_data]   Package stopwords is already up-to-date!\n"
     ]
    }
   ],
   "source": [
    "from flask import Flask, request, jsonify\n",
    "from flask_cors import CORS \n",
    "# import pandas as pd\n",
    "from sklearn.metrics.pairwise import cosine_similarity\n",
    "from nltk.corpus import stopwords\n",
    "import nltk\n",
    "import pymysql\n",
    "import numpy as np\n",
    "import datetime\n",
    "app = Flask(__name__)\n",
    "app.json.sort_keys = False\n",
    "CORS(app) \n",
    "\n",
    "db = pymysql.connect(\n",
    "    host='mysql5049.site4now.net',\n",
    "    user='aa0682_movies',\n",
    "    password='Password1234.',\n",
    "    db='db_aa0682_movies',\n",
    "    connect_timeout=8800,\n",
    "    cursorclass=pymysql.cursors.DictCursor\n",
    ")\n",
    "sql_query= \"\"\"\n",
    "            SELECT \n",
    "                *\n",
    "            FROM \n",
    "                article \n",
    "           \"\"\"\n",
    "db.ping(reconnect=True)\n",
    "cursor = db.cursor()\n",
    "cursor.execute(sql_query)\n",
    "data = cursor.fetchall()\n",
    "\n",
    "\n",
    "id = [row['article_id'] for row in data]\n",
    "# overviews_orig = [row['abstract'] for row in data]\n",
    "overviews = [row['abstract'] for row in data]\n",
    "titles = [row['title'] for row in data] \n",
    "# titles_orig = [row['title']  for row in data] \n",
    "# author = [row['author']  for row in data] \n",
    "# keyword = [row['keyword']  for row in data] \n",
    "# date = [row['date']  for row in data] \n",
    "\n",
    "\n",
    "# Preprocessing\n",
    "nltk.download(\"stopwords\")\n",
    "stop_words = set(stopwords.words(\"english\"))\n",
    "\n",
    "for n, name in enumerate(overviews):\n",
    "    temp = name.lower().split(\" \")\n",
    "    temp = [''.join([letter for letter in word if letter.isalnum()]) for word in temp]\n",
    "    temp = [word for word in temp if word not in stop_words]\n",
    "    temp = ' '.join(temp)\n",
    "    overviews[n] = temp\n",
    "    \n",
    "for n, title in enumerate(titles):\n",
    "    temp = title.lower().split(\" \")\n",
    "    temp = [''.join([letter for letter in word if letter.isalnum()]) for word in temp]\n",
    "    temp = [word for word in temp if word not in stop_words]\n",
    "    temp = ' '.join(temp)\n",
    "    titles[n] = temp\n",
    "    \n",
    "# Calculate cosine similarity\n",
    "    from sklearn.feature_extraction.text import CountVectorizer\n",
    "\n",
    "    vectorizer = CountVectorizer().fit(overviews + titles)\n",
    "    # Calculate cosine similarity for overviews\n",
    "    vectorizer_overviews = vectorizer.transform(overviews)\n",
    "    cosine_sim_overviews = cosine_similarity(vectorizer_overviews)\n",
    "\n",
    "    # Calculate cosine similarity for titles\n",
    "    vectorizer_titles =  vectorizer.transform(titles)\n",
    "    cosine_sim_titles = cosine_similarity(vectorizer_titles)\n",
    "    \n",
    "    article_id_to_index = {}  # Create an empty mapping\n",
    "    for index, article_id in enumerate(id):\n",
    "        article_id_to_index[article_id] = index"
   ]
  },
  {
   "cell_type": "code",
   "execution_count": 3,
   "metadata": {},
   "outputs": [
    {
     "name": "stdout",
     "output_type": "stream",
     "text": [
      "1 36\n",
      "2 31\n",
      "3 123\n"
     ]
    }
   ],
   "source": [
    "journals = np.array([d['journal_id'] for d in data])\n",
    "journal_name, counts = np.unique(journals, return_counts=True)\n",
    "for i in range(len(counts)):\n",
    "    print(journal_name[i], counts[i])"
   ]
  },
  {
   "cell_type": "markdown",
   "metadata": {},
   "source": [
    "# LSTM Classifier"
   ]
  },
  {
   "cell_type": "markdown",
   "metadata": {},
   "source": [
    "## Development stage"
   ]
  },
  {
   "cell_type": "markdown",
   "metadata": {},
   "source": [
    "### preprocessing and training"
   ]
  },
  {
   "cell_type": "code",
   "execution_count": 4,
   "metadata": {},
   "outputs": [],
   "source": [
    "import random\n",
    "import numpy as np\n",
    "import tensorflow as tf\n",
    "from sklearn.preprocessing import LabelEncoder\n",
    "from tensorflow.keras.preprocessing.text import Tokenizer\n",
    "from tensorflow.keras.preprocessing.sequence import pad_sequences\n",
    "from tensorflow.keras import optimizers\n",
    "from tensorflow.keras.callbacks import ReduceLROnPlateau, EarlyStopping\n",
    "import matplotlib.pyplot as plt\n",
    "import random\n",
    "import os\n",
    "from imblearn.over_sampling  import RandomOverSampler\n"
   ]
  },
  {
   "cell_type": "code",
   "execution_count": 5,
   "metadata": {},
   "outputs": [],
   "source": [
    "EMBEDDING_DIM = 100\n",
    "MAXLEN = 300\n",
    "TRUNCATING = 'post'\n",
    "PADDING = 'post'\n",
    "OOV_TOKEN = \"<OOV>\"\n",
    "# MAX_EXAMPLES = 160000\n",
    "TRAINING_SPLIT = 0.8"
   ]
  },
  {
   "cell_type": "code",
   "execution_count": 6,
   "metadata": {},
   "outputs": [],
   "source": [
    "\n",
    "# # Your existing code to create the sentences_and_labels list\n",
    "# # labels = [ '_'.join(sub['journal'].split(' ')) for n, sub in enumerate(data) ]\n",
    "# labels = [sub['journal_id'] - 1 for sub in data]\n",
    "# sentences_and_labels = list(zip(overviews, labels))\n",
    "\n",
    "# # Create a dictionary to keep track of the count for each label\n",
    "# label_count = {}\n",
    "\n",
    "# # Filter the sentences_and_labels list to include only 30 instances for each label\n",
    "# filtered_sentences_and_labels = []\n",
    "# for sentence, label in sentences_and_labels:\n",
    "#     if label not in label_count:\n",
    "#         label_count[label] = 0\n",
    "\n",
    "#     if label_count[label] < 30:\n",
    "#         sentences_and_labels.append((sentence, label))\n",
    "#         label_count[label] += 1\n",
    "\n",
    "# # Perform random sampling on the filtered list\n",
    "# random.seed(42)\n",
    "# sentences_and_labels = random.sample(sentences_and_labels, len(overviews))\n",
    "\n",
    "# # Unpack back into separate lists\n",
    "# sentences, labels = zip(*sentences_and_labels)\n",
    "\n",
    "# print(f\"There are {len(sentences)} sentences and {len(labels)} labels\\n\")\n",
    "# print(labels)\n",
    "\n"
   ]
  },
  {
   "cell_type": "code",
   "execution_count": 7,
   "metadata": {},
   "outputs": [
    {
     "name": "stdout",
     "output_type": "stream",
     "text": [
      "There are 190 sentences and 190 labels\n",
      "\n"
     ]
    }
   ],
   "source": [
    "# Bundle the two lists into a single one\n",
    "# labels = [ '_'.join(sub['journal'].split(' ')) for n,sub in enumerate(data) ]\n",
    "labels = [sub['journal_id'] - 1 for sub in data]\n",
    "for n,overview in enumerate(overviews):\n",
    "    overviews[n] += overview + titles[n]\n",
    "sentences_and_labels = list(zip(overviews, labels))\n",
    "\n",
    "# # Perform random sampling\n",
    "random.seed(42)\n",
    "sentences_and_labels = random.sample(sentences_and_labels, len(overviews))\n",
    "\n",
    "# Unpack back into separate lists\n",
    "sentences, labels = zip(*sentences_and_labels)\n",
    "\n",
    "print(f\"There are {len(sentences)} sentences and {len(labels)} labels\\n\")"
   ]
  },
  {
   "cell_type": "code",
   "execution_count": 8,
   "metadata": {},
   "outputs": [],
   "source": [
    "def train_val_split(sentences, labels, training_split):\n",
    "    \"\"\"\n",
    "    Splits the dataset into training and validation sets\n",
    "    \n",
    "    Args:\n",
    "        sentences (list of string): lower-cased sentences without stopwords\n",
    "        labels (list of string): list of labels\n",
    "        training split (float): proportion of the dataset to convert to include in the train set\n",
    "    \n",
    "    Returns:\n",
    "        train_sentences, validation_sentences, train_labels, validation_labels - lists containing the data splits\n",
    "    \"\"\"    \n",
    "    ### START CODE HERE\n",
    "    \n",
    "    # Compute the number of sentences that will be used for training (should be an integer)\n",
    "    train_size = int(len(sentences)*training_split)\n",
    "\n",
    "    ## Shuffle Lists\n",
    "    temp = list(zip(sentences,labels))\n",
    "    random.shuffle(temp)\n",
    "    sentences,labels = zip(*temp)\n",
    "\n",
    "    # Convert labels strings to integers\n",
    "    # labels = label_encoder.fit_transform(labels)\n",
    "\n",
    "    # Split the sentences and labels into train/validation splits\n",
    "    train_sentences = sentences[:train_size]\n",
    "    train_labels = labels[:train_size]\n",
    "\n",
    "    validation_sentences = sentences[train_size:]\n",
    "    validation_labels = labels[train_size:]\n",
    "    \n",
    "    ### END CODE HERE\n",
    "    \n",
    "    return train_sentences, validation_sentences, train_labels, validation_labels"
   ]
  },
  {
   "cell_type": "code",
   "execution_count": 9,
   "metadata": {},
   "outputs": [
    {
     "name": "stdout",
     "output_type": "stream",
     "text": [
      "There are 152 sentences for training.\n",
      "\n",
      "There are 152 labels for training.\n",
      "\n",
      "There are 38 sentences for validation.\n",
      "\n",
      "There are 38 labels for validation.\n"
     ]
    }
   ],
   "source": [
    "# Test your function\n",
    "train_sentences, val_sentences, train_labels, val_labels = train_val_split(sentences, labels, TRAINING_SPLIT)\n",
    "\n",
    "print(f\"There are {len(train_sentences)} sentences for training.\\n\")\n",
    "print(f\"There are {len(train_labels)} labels for training.\\n\")\n",
    "print(f\"There are {len(val_sentences)} sentences for validation.\\n\")\n",
    "print(f\"There are {len(val_labels)} labels for validation.\")"
   ]
  },
  {
   "cell_type": "code",
   "execution_count": 10,
   "metadata": {},
   "outputs": [
    {
     "name": "stdout",
     "output_type": "stream",
     "text": [
      "[0 1 2]\n",
      "[0 1 2]\n"
     ]
    }
   ],
   "source": [
    "print(np.unique(train_labels))\n",
    "print(np.unique(val_labels))"
   ]
  },
  {
   "cell_type": "code",
   "execution_count": 11,
   "metadata": {},
   "outputs": [],
   "source": [
    "def fit_tokenizer(train_sentences, oov_token):\n",
    "    \"\"\"\n",
    "    Instantiates the Tokenizer class on the training sentences\n",
    "    \n",
    "    Args:\n",
    "        train_sentences (list of string): lower-cased sentences without stopwords to be used for training\n",
    "        oov_token (string) - symbol for the out-of-vocabulary token\n",
    "    \n",
    "    Returns:\n",
    "        tokenizer (object): an instance of the Tokenizer class containing the word-index dictionary\n",
    "    \"\"\"\n",
    "    ### START CODE HERE\n",
    "    \n",
    "    # Instantiate the Tokenizer class, passing in the correct value for oov_token\n",
    "    tokenizer = Tokenizer(oov_token=oov_token)\n",
    "    \n",
    "    # Fit the tokenizer to the training sentences\n",
    "    tokenizer.fit_on_texts(train_sentences)\n",
    "    \n",
    "    ### END CODE HERE\n",
    "    \n",
    "    return tokenizer"
   ]
  },
  {
   "cell_type": "code",
   "execution_count": 12,
   "metadata": {},
   "outputs": [
    {
     "name": "stdout",
     "output_type": "stream",
     "text": [
      "Vocabulary contains 6750 words\n",
      "\n",
      "<OOV> token included in vocabulary\n",
      "\n",
      "index of word 'gender' should be 331\n"
     ]
    }
   ],
   "source": [
    "# Test your function\n",
    "tokenizer = fit_tokenizer(train_sentences, OOV_TOKEN)\n",
    "\n",
    "word_index = tokenizer.word_index\n",
    "VOCAB_SIZE = len(word_index)\n",
    "\n",
    "print(f\"Vocabulary contains {VOCAB_SIZE} words\\n\")\n",
    "print(\"<OOV> token included in vocabulary\" if \"<OOV>\" in word_index else \"<OOV> token NOT included in vocabulary\")\n",
    "print(f\"\\nindex of word 'gender' should be {word_index['gender']}\")"
   ]
  },
  {
   "cell_type": "code",
   "execution_count": 13,
   "metadata": {},
   "outputs": [],
   "source": [
    "def seq_pad_and_trunc(sentences, tokenizer, padding, truncating, maxlen):\n",
    "    \"\"\"\n",
    "    Generates an array of token sequences and pads them to the same length\n",
    "    \n",
    "    Args:\n",
    "        sentences (list of string): list of sentences to tokenize and pad\n",
    "        tokenizer (object): Tokenizer instance containing the word-index dictionary\n",
    "        padding (string): type of padding to use\n",
    "        truncating (string): type of truncating to use\n",
    "        maxlen (int): maximum length of the token sequence\n",
    "    \n",
    "    Returns:\n",
    "        pad_trunc_sequences (array of int): tokenized sentences padded to the same length\n",
    "    \"\"\"        \n",
    "    ### START CODE HERE\n",
    "       \n",
    "    # Convert sentences to sequences\n",
    "    sequences = tokenizer.texts_to_sequences(sentences)\n",
    "    \n",
    "    # Pad the sequences using the correct padding, truncating and maxlen\n",
    "    pad_trunc_sequences = pad_sequences(sequences, maxlen=maxlen, padding=padding, truncating=truncating)\n",
    "    \n",
    "    ### END CODE HERE\n",
    "    \n",
    "    return pad_trunc_sequences"
   ]
  },
  {
   "cell_type": "code",
   "execution_count": 14,
   "metadata": {},
   "outputs": [
    {
     "name": "stdout",
     "output_type": "stream",
     "text": [
      "Padded and truncated training sequences have shape: (152, 300)\n",
      "\n",
      "Padded and truncated validation sequences have shape: (38, 300)\n"
     ]
    }
   ],
   "source": [
    "# Test your function\n",
    "train_pad_trunc_seq = seq_pad_and_trunc(train_sentences, tokenizer, PADDING, TRUNCATING, MAXLEN)\n",
    "val_pad_trunc_seq = seq_pad_and_trunc(val_sentences, tokenizer, PADDING, TRUNCATING, MAXLEN)\n",
    "\n",
    "print(f\"Padded and truncated training sequences have shape: {train_pad_trunc_seq.shape}\\n\")\n",
    "print(f\"Padded and truncated validation sequences have shape: {val_pad_trunc_seq.shape}\")"
   ]
  },
  {
   "cell_type": "code",
   "execution_count": 15,
   "metadata": {},
   "outputs": [],
   "source": [
    "train_labels = np.array(train_labels)\n",
    "val_labels = np.array(val_labels)"
   ]
  },
  {
   "cell_type": "code",
   "execution_count": 16,
   "metadata": {},
   "outputs": [
    {
     "data": {
      "text/plain": [
       "array([0, 1, 2, 2, 2, 2, 2, 0, 2, 2, 2, 2, 2, 2, 0, 2, 2, 2, 0, 2, 0, 2,\n",
       "       1, 2, 2, 2, 1, 2, 2, 2, 2, 2, 0, 0, 2, 0, 1, 1])"
      ]
     },
     "execution_count": 16,
     "metadata": {},
     "output_type": "execute_result"
    }
   ],
   "source": [
    "val_labels"
   ]
  },
  {
   "cell_type": "code",
   "execution_count": 17,
   "metadata": {},
   "outputs": [],
   "source": [
    "# Define path to file containing the embeddings\n",
    "GLOVE_FILE = './glove.6B.100d.txt'\n",
    "\n",
    "# Initialize an empty embeddings index dictionary\n",
    "GLOVE_EMBEDDINGS = {}\n",
    "\n",
    "# Read file and fill GLOVE_EMBEDDINGS with its contents\n",
    "with open(GLOVE_FILE, encoding=\"utf8\", errors=\"ignore\") as f:\n",
    "    for line in f:\n",
    "        values = line.split()\n",
    "        word = values[0]\n",
    "        coefs = np.asarray(values[1:], dtype='float32')\n",
    "        GLOVE_EMBEDDINGS[word] = coefs"
   ]
  },
  {
   "cell_type": "code",
   "execution_count": 18,
   "metadata": {},
   "outputs": [
    {
     "name": "stdout",
     "output_type": "stream",
     "text": [
      "Vector representation of word gender looks like this:\n",
      "\n",
      "[ 0.7528     0.58694    0.10059    0.45384   -0.59904    0.3756\n",
      " -0.48809    0.3255     0.66021    1.0741    -0.87795   -0.070058\n",
      "  0.38828    0.17249    1.198     -0.14775    0.48218    0.0080089\n",
      " -0.072508  -0.29931    0.050217  -0.7677     0.40769    0.52481\n",
      " -0.33323   -0.70466    0.48616   -1.4025    -0.32132   -0.11926\n",
      " -0.28853    0.29444    0.12296   -0.27784    0.64675   -0.80821\n",
      "  0.24569    0.91006   -0.69788    0.78162   -0.75286   -0.309\n",
      " -0.74415    0.13453   -1.1376    -0.21934   -0.043231   0.90301\n",
      " -1.6366    -0.77089    0.37707   -0.070822  -1.0185     1.0259\n",
      "  0.28272   -1.0935     0.46933   -0.21428    0.63936    0.1496\n",
      " -0.12656   -0.19598   -0.10937   -0.50143    1.2136    -0.046943\n",
      "  0.57951   -0.55169    0.25192    0.62123   -0.12948    0.58623\n",
      " -0.19002    0.056338   0.40258   -0.11338   -0.61292   -0.74152\n",
      " -0.49465   -0.98182   -1.1541    -0.39493    0.82455    0.1865\n",
      " -1.6896    -0.035706  -0.88967   -0.46248    0.42013   -0.28066\n",
      " -0.63143    0.25901   -0.31026   -0.024644   0.69174   -0.03463\n",
      " -0.11744   -0.62681    0.34728    0.41872  ]\n"
     ]
    }
   ],
   "source": [
    "test_word = 'gender'\n",
    "\n",
    "test_vector = GLOVE_EMBEDDINGS[test_word]\n",
    "\n",
    "print(f\"Vector representation of word {test_word} looks like this:\\n\\n{test_vector}\")"
   ]
  },
  {
   "cell_type": "code",
   "execution_count": 19,
   "metadata": {},
   "outputs": [],
   "source": [
    "# Initialize an empty numpy array with the appropriate size\n",
    "EMBEDDINGS_MATRIX = np.zeros((VOCAB_SIZE+1, EMBEDDING_DIM))\n",
    "\n",
    "# Iterate all of the words in the vocabulary and if the vector representation for \n",
    "# each word exists within GloVe's representations, save it in the EMBEDDINGS_MATRIX array\n",
    "for word, i in word_index.items():\n",
    "    embedding_vector = GLOVE_EMBEDDINGS.get(word)\n",
    "    if embedding_vector is not None:\n",
    "        EMBEDDINGS_MATRIX[i] = embedding_vector"
   ]
  },
  {
   "cell_type": "code",
   "execution_count": 50,
   "metadata": {},
   "outputs": [],
   "source": [
    "# GRADED FUNCTION: create_model\n",
    "def create_model(vocab_size, embedding_dim, maxlen, embeddings_matrix):\n",
    "    \"\"\"\n",
    "    Creates a binary sentiment classifier model\n",
    "    \n",
    "    Args:\n",
    "        vocab_size (int): size of the vocabulary for the Embedding layer input\n",
    "        embedding_dim (int): dimensionality of the Embedding layer output\n",
    "        maxlen (int): length of the input sequences\n",
    "        embeddings_matrix (array): predefined weights of the embeddings\n",
    "    \n",
    "    Returns:\n",
    "        model (tf.keras Model): the sentiment classifier model\n",
    "    \"\"\"\n",
    "    ### START CODE HERE\n",
    "    \n",
    "    model = tf.keras.Sequential([ \n",
    "        # This is how you need to set the Embedding layer when using pre-trained embeddings\n",
    "        tf.keras.layers.Embedding(vocab_size+1, embedding_dim, batch_input_shape=(None, maxlen), weights=[embeddings_matrix], trainable=False), \n",
    "        tf.keras.layers.Bidirectional(tf.keras.layers.LSTM(128, activation=\"tanh\", return_sequences=True)),\n",
    "        tf.keras.layers.Dropout(0.5),\n",
    "        tf.keras.layers.BatchNormalization(),\n",
    "        tf.keras.layers.Bidirectional(tf.keras.layers.LSTM(128, activation=\"tanh\")),\n",
    "        tf.keras.layers.Dense(128, activation='relu', kernel_regularizer=tf.keras.regularizers.L2()),\n",
    "        tf.keras.layers.Dropout(0.5),\n",
    "        tf.keras.layers.Dense(128, activation='relu', kernel_regularizer=tf.keras.regularizers.L2()),\n",
    "        tf.keras.layers.Dense(3, activation='softmax')\n",
    "    ])\n",
    "    \n",
    "    model.compile(loss=tf.keras.losses.SparseCategoricalCrossentropy(),\n",
    "                  optimizer=optimizers.Adam(1e-5),\n",
    "                  metrics=['accuracy']) \n",
    "\n",
    "    ### END CODE HERE\n",
    "\n",
    "    return model"
   ]
  },
  {
   "cell_type": "code",
   "execution_count": 51,
   "metadata": {},
   "outputs": [
    {
     "name": "stdout",
     "output_type": "stream",
     "text": [
      "Model: \"sequential_2\"\n",
      "_________________________________________________________________\n",
      " Layer (type)                Output Shape              Param #   \n",
      "=================================================================\n",
      " embedding_2 (Embedding)     (None, 300, 100)          675100    \n",
      "                                                                 \n",
      " bidirectional_4 (Bidirectio  (None, 300, 256)         234496    \n",
      " nal)                                                            \n",
      "                                                                 \n",
      " dropout_4 (Dropout)         (None, 300, 256)          0         \n",
      "                                                                 \n",
      " batch_normalization_2 (Batc  (None, 300, 256)         1024      \n",
      " hNormalization)                                                 \n",
      "                                                                 \n",
      " bidirectional_5 (Bidirectio  (None, 256)              394240    \n",
      " nal)                                                            \n",
      "                                                                 \n",
      " dense_6 (Dense)             (None, 128)               32896     \n",
      "                                                                 \n",
      " dropout_5 (Dropout)         (None, 128)               0         \n",
      "                                                                 \n",
      " dense_7 (Dense)             (None, 128)               16512     \n",
      "                                                                 \n",
      " dense_8 (Dense)             (None, 3)                 387       \n",
      "                                                                 \n",
      "=================================================================\n",
      "Total params: 1,354,655\n",
      "Trainable params: 679,043\n",
      "Non-trainable params: 675,612\n",
      "_________________________________________________________________\n"
     ]
    }
   ],
   "source": [
    "# Create your untrained model\n",
    "model = create_model(VOCAB_SIZE, EMBEDDING_DIM, MAXLEN, EMBEDDINGS_MATRIX)\n",
    "\n",
    "model.summary()"
   ]
  },
  {
   "cell_type": "code",
   "execution_count": 52,
   "metadata": {},
   "outputs": [],
   "source": [
    "reduce_lr = ReduceLROnPlateau(monitor='val_loss', factor=0.1,\n",
    "                              patience=3, min_lr=1e-7)\n",
    "es = EarlyStopping(monitor='val_loss', patience=10, mode=\"min\", restore_best_weights=True)"
   ]
  },
  {
   "cell_type": "code",
   "execution_count": 53,
   "metadata": {},
   "outputs": [
    {
     "name": "stdout",
     "output_type": "stream",
     "text": [
      "Epoch 1/256\n",
      "19/19 [==============================] - 6s 131ms/step - loss: 4.1079 - accuracy: 0.2566 - val_loss: 4.0750 - val_accuracy: 0.3947 - lr: 1.0000e-05\n",
      "Epoch 2/256\n",
      "19/19 [==============================] - 1s 76ms/step - loss: 4.0664 - accuracy: 0.4145 - val_loss: 4.0684 - val_accuracy: 0.4474 - lr: 1.0000e-05\n",
      "Epoch 3/256\n",
      "19/19 [==============================] - 1s 75ms/step - loss: 4.0378 - accuracy: 0.4145 - val_loss: 4.0587 - val_accuracy: 0.5526 - lr: 1.0000e-05\n",
      "Epoch 4/256\n",
      "19/19 [==============================] - 1s 78ms/step - loss: 4.0045 - accuracy: 0.4408 - val_loss: 4.0467 - val_accuracy: 0.5526 - lr: 1.0000e-05\n",
      "Epoch 5/256\n",
      "19/19 [==============================] - 1s 76ms/step - loss: 4.0091 - accuracy: 0.5066 - val_loss: 4.0320 - val_accuracy: 0.6579 - lr: 1.0000e-05\n",
      "Epoch 6/256\n",
      "19/19 [==============================] - 1s 71ms/step - loss: 3.9621 - accuracy: 0.5395 - val_loss: 4.0145 - val_accuracy: 0.7632 - lr: 1.0000e-05\n",
      "Epoch 7/256\n",
      "19/19 [==============================] - 1s 71ms/step - loss: 3.9346 - accuracy: 0.5132 - val_loss: 3.9954 - val_accuracy: 0.7632 - lr: 1.0000e-05\n",
      "Epoch 8/256\n",
      "19/19 [==============================] - 1s 72ms/step - loss: 3.9292 - accuracy: 0.5526 - val_loss: 3.9735 - val_accuracy: 0.7895 - lr: 1.0000e-05\n",
      "Epoch 9/256\n",
      "19/19 [==============================] - 1s 71ms/step - loss: 3.9094 - accuracy: 0.6382 - val_loss: 3.9511 - val_accuracy: 0.7895 - lr: 1.0000e-05\n",
      "Epoch 10/256\n",
      "19/19 [==============================] - 1s 73ms/step - loss: 3.8982 - accuracy: 0.6118 - val_loss: 3.9286 - val_accuracy: 0.7632 - lr: 1.0000e-05\n",
      "Epoch 11/256\n",
      "19/19 [==============================] - 1s 71ms/step - loss: 3.8667 - accuracy: 0.6316 - val_loss: 3.9060 - val_accuracy: 0.7368 - lr: 1.0000e-05\n",
      "Epoch 12/256\n",
      "19/19 [==============================] - 1s 74ms/step - loss: 3.8718 - accuracy: 0.6250 - val_loss: 3.8834 - val_accuracy: 0.7368 - lr: 1.0000e-05\n",
      "Epoch 13/256\n",
      "19/19 [==============================] - 1s 73ms/step - loss: 3.8492 - accuracy: 0.6382 - val_loss: 3.8604 - val_accuracy: 0.7368 - lr: 1.0000e-05\n",
      "Epoch 14/256\n",
      "19/19 [==============================] - 1s 73ms/step - loss: 3.8176 - accuracy: 0.6513 - val_loss: 3.8379 - val_accuracy: 0.7368 - lr: 1.0000e-05\n",
      "Epoch 15/256\n",
      "19/19 [==============================] - 1s 73ms/step - loss: 3.7849 - accuracy: 0.6711 - val_loss: 3.8169 - val_accuracy: 0.7105 - lr: 1.0000e-05\n",
      "Epoch 16/256\n",
      "19/19 [==============================] - 1s 72ms/step - loss: 3.7983 - accuracy: 0.6447 - val_loss: 3.7962 - val_accuracy: 0.7105 - lr: 1.0000e-05\n",
      "Epoch 17/256\n",
      "19/19 [==============================] - 1s 75ms/step - loss: 3.7739 - accuracy: 0.6776 - val_loss: 3.7763 - val_accuracy: 0.7105 - lr: 1.0000e-05\n",
      "Epoch 18/256\n",
      "19/19 [==============================] - 1s 72ms/step - loss: 3.7787 - accuracy: 0.6579 - val_loss: 3.7565 - val_accuracy: 0.7105 - lr: 1.0000e-05\n",
      "Epoch 19/256\n",
      "19/19 [==============================] - 1s 74ms/step - loss: 3.7637 - accuracy: 0.6711 - val_loss: 3.7387 - val_accuracy: 0.7105 - lr: 1.0000e-05\n",
      "Epoch 20/256\n",
      "19/19 [==============================] - 1s 72ms/step - loss: 3.7714 - accuracy: 0.6645 - val_loss: 3.7247 - val_accuracy: 0.6842 - lr: 1.0000e-05\n",
      "Epoch 21/256\n",
      "19/19 [==============================] - 1s 75ms/step - loss: 3.7576 - accuracy: 0.6250 - val_loss: 3.7105 - val_accuracy: 0.6842 - lr: 1.0000e-05\n",
      "Epoch 22/256\n",
      "19/19 [==============================] - 1s 75ms/step - loss: 3.7422 - accuracy: 0.6382 - val_loss: 3.6958 - val_accuracy: 0.6842 - lr: 1.0000e-05\n",
      "Epoch 23/256\n",
      "19/19 [==============================] - 1s 76ms/step - loss: 3.7313 - accuracy: 0.6513 - val_loss: 3.6855 - val_accuracy: 0.6842 - lr: 1.0000e-05\n",
      "Epoch 24/256\n",
      "19/19 [==============================] - 1s 76ms/step - loss: 3.7360 - accuracy: 0.6711 - val_loss: 3.6761 - val_accuracy: 0.6842 - lr: 1.0000e-05\n",
      "Epoch 25/256\n",
      "19/19 [==============================] - 1s 74ms/step - loss: 3.7361 - accuracy: 0.6776 - val_loss: 3.6668 - val_accuracy: 0.6842 - lr: 1.0000e-05\n",
      "Epoch 26/256\n",
      "19/19 [==============================] - 1s 75ms/step - loss: 3.7127 - accuracy: 0.6645 - val_loss: 3.6573 - val_accuracy: 0.6842 - lr: 1.0000e-05\n",
      "Epoch 27/256\n",
      "19/19 [==============================] - 1s 75ms/step - loss: 3.6903 - accuracy: 0.7105 - val_loss: 3.6488 - val_accuracy: 0.6842 - lr: 1.0000e-05\n",
      "Epoch 28/256\n",
      "19/19 [==============================] - 1s 73ms/step - loss: 3.6767 - accuracy: 0.6513 - val_loss: 3.6406 - val_accuracy: 0.6842 - lr: 1.0000e-05\n",
      "Epoch 29/256\n",
      "19/19 [==============================] - 1s 74ms/step - loss: 3.6739 - accuracy: 0.6645 - val_loss: 3.6324 - val_accuracy: 0.6842 - lr: 1.0000e-05\n",
      "Epoch 30/256\n",
      "19/19 [==============================] - 1s 74ms/step - loss: 3.6689 - accuracy: 0.6711 - val_loss: 3.6248 - val_accuracy: 0.6842 - lr: 1.0000e-05\n",
      "Epoch 31/256\n",
      "19/19 [==============================] - 1s 76ms/step - loss: 3.6503 - accuracy: 0.7105 - val_loss: 3.6164 - val_accuracy: 0.6842 - lr: 1.0000e-05\n",
      "Epoch 32/256\n",
      "19/19 [==============================] - 1s 75ms/step - loss: 3.6316 - accuracy: 0.6645 - val_loss: 3.6091 - val_accuracy: 0.6842 - lr: 1.0000e-05\n",
      "Epoch 33/256\n",
      "19/19 [==============================] - 1s 72ms/step - loss: 3.6422 - accuracy: 0.6316 - val_loss: 3.6022 - val_accuracy: 0.6842 - lr: 1.0000e-05\n",
      "Epoch 34/256\n",
      "19/19 [==============================] - 1s 72ms/step - loss: 3.6382 - accuracy: 0.6711 - val_loss: 3.5948 - val_accuracy: 0.6842 - lr: 1.0000e-05\n",
      "Epoch 35/256\n",
      "19/19 [==============================] - 1s 69ms/step - loss: 3.6599 - accuracy: 0.6579 - val_loss: 3.5883 - val_accuracy: 0.6842 - lr: 1.0000e-05\n",
      "Epoch 36/256\n",
      "19/19 [==============================] - 1s 73ms/step - loss: 3.6247 - accuracy: 0.6776 - val_loss: 3.5823 - val_accuracy: 0.6842 - lr: 1.0000e-05\n",
      "Epoch 37/256\n",
      "19/19 [==============================] - 1s 70ms/step - loss: 3.6081 - accuracy: 0.6711 - val_loss: 3.5752 - val_accuracy: 0.6842 - lr: 1.0000e-05\n",
      "Epoch 38/256\n",
      "19/19 [==============================] - 1s 70ms/step - loss: 3.5983 - accuracy: 0.6974 - val_loss: 3.5693 - val_accuracy: 0.6842 - lr: 1.0000e-05\n",
      "Epoch 39/256\n",
      "19/19 [==============================] - 1s 69ms/step - loss: 3.6088 - accuracy: 0.6776 - val_loss: 3.5642 - val_accuracy: 0.6842 - lr: 1.0000e-05\n",
      "Epoch 40/256\n",
      "19/19 [==============================] - 1s 68ms/step - loss: 3.5848 - accuracy: 0.6842 - val_loss: 3.5579 - val_accuracy: 0.6842 - lr: 1.0000e-05\n",
      "Epoch 41/256\n",
      "19/19 [==============================] - 1s 69ms/step - loss: 3.5896 - accuracy: 0.6908 - val_loss: 3.5526 - val_accuracy: 0.6842 - lr: 1.0000e-05\n",
      "Epoch 42/256\n",
      "19/19 [==============================] - 1s 70ms/step - loss: 3.5812 - accuracy: 0.6842 - val_loss: 3.5460 - val_accuracy: 0.6842 - lr: 1.0000e-05\n",
      "Epoch 43/256\n",
      "19/19 [==============================] - 1s 72ms/step - loss: 3.5646 - accuracy: 0.6579 - val_loss: 3.5395 - val_accuracy: 0.6842 - lr: 1.0000e-05\n",
      "Epoch 44/256\n",
      "19/19 [==============================] - 1s 73ms/step - loss: 3.5482 - accuracy: 0.6842 - val_loss: 3.5337 - val_accuracy: 0.6842 - lr: 1.0000e-05\n",
      "Epoch 45/256\n",
      "19/19 [==============================] - 1s 69ms/step - loss: 3.5493 - accuracy: 0.6842 - val_loss: 3.5269 - val_accuracy: 0.6842 - lr: 1.0000e-05\n",
      "Epoch 46/256\n",
      "19/19 [==============================] - 1s 74ms/step - loss: 3.5198 - accuracy: 0.6776 - val_loss: 3.5216 - val_accuracy: 0.7105 - lr: 1.0000e-05\n",
      "Epoch 47/256\n",
      "19/19 [==============================] - 1s 72ms/step - loss: 3.5101 - accuracy: 0.6711 - val_loss: 3.5154 - val_accuracy: 0.7105 - lr: 1.0000e-05\n",
      "Epoch 48/256\n",
      "19/19 [==============================] - 1s 70ms/step - loss: 3.5311 - accuracy: 0.6776 - val_loss: 3.5103 - val_accuracy: 0.7105 - lr: 1.0000e-05\n",
      "Epoch 49/256\n",
      "19/19 [==============================] - 1s 72ms/step - loss: 3.5335 - accuracy: 0.6842 - val_loss: 3.5039 - val_accuracy: 0.7105 - lr: 1.0000e-05\n",
      "Epoch 50/256\n",
      "19/19 [==============================] - 1s 70ms/step - loss: 3.4890 - accuracy: 0.7171 - val_loss: 3.4979 - val_accuracy: 0.7105 - lr: 1.0000e-05\n",
      "Epoch 51/256\n",
      "19/19 [==============================] - 1s 71ms/step - loss: 3.4954 - accuracy: 0.6974 - val_loss: 3.4919 - val_accuracy: 0.7368 - lr: 1.0000e-05\n",
      "Epoch 52/256\n",
      "19/19 [==============================] - 1s 72ms/step - loss: 3.4690 - accuracy: 0.7303 - val_loss: 3.4858 - val_accuracy: 0.7368 - lr: 1.0000e-05\n",
      "Epoch 53/256\n",
      "19/19 [==============================] - 1s 71ms/step - loss: 3.4869 - accuracy: 0.6908 - val_loss: 3.4794 - val_accuracy: 0.7368 - lr: 1.0000e-05\n",
      "Epoch 54/256\n",
      "19/19 [==============================] - 1s 73ms/step - loss: 3.4421 - accuracy: 0.6908 - val_loss: 3.4738 - val_accuracy: 0.7368 - lr: 1.0000e-05\n",
      "Epoch 55/256\n",
      "19/19 [==============================] - 1s 72ms/step - loss: 3.4315 - accuracy: 0.6645 - val_loss: 3.4679 - val_accuracy: 0.7632 - lr: 1.0000e-05\n",
      "Epoch 56/256\n",
      "19/19 [==============================] - 1s 72ms/step - loss: 3.4655 - accuracy: 0.6908 - val_loss: 3.4626 - val_accuracy: 0.7632 - lr: 1.0000e-05\n",
      "Epoch 57/256\n",
      "19/19 [==============================] - 1s 71ms/step - loss: 3.4199 - accuracy: 0.7105 - val_loss: 3.4585 - val_accuracy: 0.7632 - lr: 1.0000e-05\n",
      "Epoch 58/256\n",
      "19/19 [==============================] - 1s 72ms/step - loss: 3.4163 - accuracy: 0.7105 - val_loss: 3.4530 - val_accuracy: 0.7632 - lr: 1.0000e-05\n",
      "Epoch 59/256\n",
      "19/19 [==============================] - 1s 75ms/step - loss: 3.4007 - accuracy: 0.7434 - val_loss: 3.4465 - val_accuracy: 0.7632 - lr: 1.0000e-05\n",
      "Epoch 60/256\n",
      "19/19 [==============================] - 1s 75ms/step - loss: 3.4189 - accuracy: 0.7105 - val_loss: 3.4419 - val_accuracy: 0.7632 - lr: 1.0000e-05\n",
      "Epoch 61/256\n",
      "19/19 [==============================] - 1s 76ms/step - loss: 3.4230 - accuracy: 0.7171 - val_loss: 3.4351 - val_accuracy: 0.7895 - lr: 1.0000e-05\n",
      "Epoch 62/256\n",
      "19/19 [==============================] - 1s 77ms/step - loss: 3.4022 - accuracy: 0.7105 - val_loss: 3.4303 - val_accuracy: 0.7895 - lr: 1.0000e-05\n",
      "Epoch 63/256\n",
      "19/19 [==============================] - 1s 74ms/step - loss: 3.3971 - accuracy: 0.7039 - val_loss: 3.4261 - val_accuracy: 0.7895 - lr: 1.0000e-05\n",
      "Epoch 64/256\n",
      "19/19 [==============================] - 1s 72ms/step - loss: 3.3541 - accuracy: 0.7434 - val_loss: 3.4203 - val_accuracy: 0.7895 - lr: 1.0000e-05\n",
      "Epoch 65/256\n",
      "19/19 [==============================] - 1s 76ms/step - loss: 3.3514 - accuracy: 0.7039 - val_loss: 3.4139 - val_accuracy: 0.8158 - lr: 1.0000e-05\n",
      "Epoch 66/256\n",
      "19/19 [==============================] - 1s 72ms/step - loss: 3.3229 - accuracy: 0.7237 - val_loss: 3.4091 - val_accuracy: 0.7895 - lr: 1.0000e-05\n",
      "Epoch 67/256\n",
      "19/19 [==============================] - 1s 71ms/step - loss: 3.3606 - accuracy: 0.7039 - val_loss: 3.4051 - val_accuracy: 0.7632 - lr: 1.0000e-05\n",
      "Epoch 68/256\n",
      "19/19 [==============================] - 1s 75ms/step - loss: 3.3132 - accuracy: 0.7697 - val_loss: 3.4006 - val_accuracy: 0.7632 - lr: 1.0000e-05\n",
      "Epoch 69/256\n",
      "19/19 [==============================] - 1s 74ms/step - loss: 3.3151 - accuracy: 0.7303 - val_loss: 3.3953 - val_accuracy: 0.7632 - lr: 1.0000e-05\n",
      "Epoch 70/256\n",
      "19/19 [==============================] - 1s 73ms/step - loss: 3.3268 - accuracy: 0.7368 - val_loss: 3.3897 - val_accuracy: 0.7632 - lr: 1.0000e-05\n",
      "Epoch 71/256\n",
      "19/19 [==============================] - 1s 72ms/step - loss: 3.3048 - accuracy: 0.7368 - val_loss: 3.3845 - val_accuracy: 0.7632 - lr: 1.0000e-05\n",
      "Epoch 72/256\n",
      "19/19 [==============================] - 1s 71ms/step - loss: 3.2729 - accuracy: 0.7763 - val_loss: 3.3799 - val_accuracy: 0.7632 - lr: 1.0000e-05\n",
      "Epoch 73/256\n",
      "19/19 [==============================] - 1s 71ms/step - loss: 3.2844 - accuracy: 0.7895 - val_loss: 3.3751 - val_accuracy: 0.7632 - lr: 1.0000e-05\n",
      "Epoch 74/256\n",
      "19/19 [==============================] - 1s 69ms/step - loss: 3.2459 - accuracy: 0.7961 - val_loss: 3.3702 - val_accuracy: 0.7632 - lr: 1.0000e-05\n",
      "Epoch 75/256\n",
      "19/19 [==============================] - 1s 70ms/step - loss: 3.2563 - accuracy: 0.8026 - val_loss: 3.3652 - val_accuracy: 0.7632 - lr: 1.0000e-05\n",
      "Epoch 76/256\n",
      "19/19 [==============================] - 1s 70ms/step - loss: 3.2351 - accuracy: 0.7632 - val_loss: 3.3592 - val_accuracy: 0.7632 - lr: 1.0000e-05\n",
      "Epoch 77/256\n",
      "19/19 [==============================] - 1s 71ms/step - loss: 3.2440 - accuracy: 0.7500 - val_loss: 3.3540 - val_accuracy: 0.7632 - lr: 1.0000e-05\n",
      "Epoch 78/256\n",
      "19/19 [==============================] - 1s 75ms/step - loss: 3.2393 - accuracy: 0.7895 - val_loss: 3.3486 - val_accuracy: 0.7632 - lr: 1.0000e-05\n",
      "Epoch 79/256\n",
      "19/19 [==============================] - 1s 71ms/step - loss: 3.2537 - accuracy: 0.7500 - val_loss: 3.3449 - val_accuracy: 0.7632 - lr: 1.0000e-05\n",
      "Epoch 80/256\n",
      "19/19 [==============================] - 1s 70ms/step - loss: 3.1967 - accuracy: 0.7895 - val_loss: 3.3397 - val_accuracy: 0.7632 - lr: 1.0000e-05\n",
      "Epoch 81/256\n",
      "19/19 [==============================] - 1s 71ms/step - loss: 3.2334 - accuracy: 0.7697 - val_loss: 3.3347 - val_accuracy: 0.7632 - lr: 1.0000e-05\n",
      "Epoch 82/256\n",
      "19/19 [==============================] - 1s 74ms/step - loss: 3.1807 - accuracy: 0.8158 - val_loss: 3.3276 - val_accuracy: 0.7632 - lr: 1.0000e-05\n",
      "Epoch 83/256\n",
      "19/19 [==============================] - 1s 73ms/step - loss: 3.1800 - accuracy: 0.7763 - val_loss: 3.3255 - val_accuracy: 0.7632 - lr: 1.0000e-05\n",
      "Epoch 84/256\n",
      "19/19 [==============================] - 1s 72ms/step - loss: 3.1587 - accuracy: 0.8158 - val_loss: 3.3193 - val_accuracy: 0.7632 - lr: 1.0000e-05\n",
      "Epoch 85/256\n",
      "19/19 [==============================] - 1s 76ms/step - loss: 3.1853 - accuracy: 0.7829 - val_loss: 3.3157 - val_accuracy: 0.7368 - lr: 1.0000e-05\n",
      "Epoch 86/256\n",
      "19/19 [==============================] - 1s 76ms/step - loss: 3.1837 - accuracy: 0.7895 - val_loss: 3.3135 - val_accuracy: 0.7105 - lr: 1.0000e-05\n",
      "Epoch 87/256\n",
      "19/19 [==============================] - 1s 75ms/step - loss: 3.1611 - accuracy: 0.7500 - val_loss: 3.3090 - val_accuracy: 0.7105 - lr: 1.0000e-05\n",
      "Epoch 88/256\n",
      "19/19 [==============================] - 1s 78ms/step - loss: 3.1315 - accuracy: 0.7829 - val_loss: 3.3036 - val_accuracy: 0.7105 - lr: 1.0000e-05\n",
      "Epoch 89/256\n",
      "19/19 [==============================] - 1s 78ms/step - loss: 3.1233 - accuracy: 0.8224 - val_loss: 3.2981 - val_accuracy: 0.7105 - lr: 1.0000e-05\n",
      "Epoch 90/256\n",
      "19/19 [==============================] - 1s 73ms/step - loss: 3.1571 - accuracy: 0.7829 - val_loss: 3.2933 - val_accuracy: 0.7105 - lr: 1.0000e-05\n",
      "Epoch 91/256\n",
      "19/19 [==============================] - 1s 72ms/step - loss: 3.1262 - accuracy: 0.8158 - val_loss: 3.2908 - val_accuracy: 0.7105 - lr: 1.0000e-05\n",
      "Epoch 92/256\n",
      "19/19 [==============================] - 1s 75ms/step - loss: 3.1066 - accuracy: 0.8158 - val_loss: 3.2895 - val_accuracy: 0.7105 - lr: 1.0000e-05\n",
      "Epoch 93/256\n",
      "19/19 [==============================] - 1s 73ms/step - loss: 3.1055 - accuracy: 0.8092 - val_loss: 3.2833 - val_accuracy: 0.7105 - lr: 1.0000e-05\n",
      "Epoch 94/256\n",
      "19/19 [==============================] - 1s 75ms/step - loss: 3.1057 - accuracy: 0.8158 - val_loss: 3.2812 - val_accuracy: 0.7105 - lr: 1.0000e-05\n",
      "Epoch 95/256\n",
      "19/19 [==============================] - 1s 79ms/step - loss: 3.0683 - accuracy: 0.8092 - val_loss: 3.2767 - val_accuracy: 0.7105 - lr: 1.0000e-05\n",
      "Epoch 96/256\n",
      "19/19 [==============================] - 1s 79ms/step - loss: 3.0623 - accuracy: 0.8289 - val_loss: 3.2731 - val_accuracy: 0.7105 - lr: 1.0000e-05\n",
      "Epoch 97/256\n",
      "19/19 [==============================] - 1s 71ms/step - loss: 3.0709 - accuracy: 0.8355 - val_loss: 3.2712 - val_accuracy: 0.7105 - lr: 1.0000e-05\n",
      "Epoch 98/256\n",
      "19/19 [==============================] - 1s 71ms/step - loss: 3.0415 - accuracy: 0.8355 - val_loss: 3.2678 - val_accuracy: 0.7105 - lr: 1.0000e-05\n",
      "Epoch 99/256\n",
      "19/19 [==============================] - 1s 72ms/step - loss: 3.0178 - accuracy: 0.8487 - val_loss: 3.2635 - val_accuracy: 0.7105 - lr: 1.0000e-05\n",
      "Epoch 100/256\n",
      "19/19 [==============================] - 1s 73ms/step - loss: 3.0241 - accuracy: 0.8487 - val_loss: 3.2579 - val_accuracy: 0.7105 - lr: 1.0000e-05\n",
      "Epoch 101/256\n",
      "19/19 [==============================] - 1s 73ms/step - loss: 3.0138 - accuracy: 0.8224 - val_loss: 3.2570 - val_accuracy: 0.7105 - lr: 1.0000e-05\n",
      "Epoch 102/256\n",
      "19/19 [==============================] - 1s 75ms/step - loss: 3.0257 - accuracy: 0.8553 - val_loss: 3.2538 - val_accuracy: 0.7105 - lr: 1.0000e-05\n",
      "Epoch 103/256\n",
      "19/19 [==============================] - 1s 77ms/step - loss: 3.0383 - accuracy: 0.8092 - val_loss: 3.2525 - val_accuracy: 0.7105 - lr: 1.0000e-05\n",
      "Epoch 104/256\n",
      "19/19 [==============================] - 1s 73ms/step - loss: 2.9962 - accuracy: 0.8421 - val_loss: 3.2505 - val_accuracy: 0.7105 - lr: 1.0000e-05\n",
      "Epoch 105/256\n",
      "19/19 [==============================] - 1s 73ms/step - loss: 3.0125 - accuracy: 0.8355 - val_loss: 3.2493 - val_accuracy: 0.7105 - lr: 1.0000e-05\n",
      "Epoch 106/256\n",
      "19/19 [==============================] - 1s 72ms/step - loss: 3.0157 - accuracy: 0.8158 - val_loss: 3.2446 - val_accuracy: 0.7105 - lr: 1.0000e-05\n",
      "Epoch 107/256\n",
      "19/19 [==============================] - 1s 69ms/step - loss: 2.9782 - accuracy: 0.8487 - val_loss: 3.2424 - val_accuracy: 0.7105 - lr: 1.0000e-05\n",
      "Epoch 108/256\n",
      "19/19 [==============================] - 1s 69ms/step - loss: 2.9518 - accuracy: 0.8618 - val_loss: 3.2395 - val_accuracy: 0.7105 - lr: 1.0000e-05\n",
      "Epoch 109/256\n",
      "19/19 [==============================] - 1s 68ms/step - loss: 2.9420 - accuracy: 0.8618 - val_loss: 3.2391 - val_accuracy: 0.7105 - lr: 1.0000e-05\n",
      "Epoch 110/256\n",
      "19/19 [==============================] - 1s 69ms/step - loss: 2.9485 - accuracy: 0.8618 - val_loss: 3.2387 - val_accuracy: 0.7105 - lr: 1.0000e-05\n",
      "Epoch 111/256\n",
      "19/19 [==============================] - 1s 69ms/step - loss: 2.9692 - accuracy: 0.7961 - val_loss: 3.2388 - val_accuracy: 0.7105 - lr: 1.0000e-05\n",
      "Epoch 112/256\n",
      "19/19 [==============================] - 1s 70ms/step - loss: 2.9289 - accuracy: 0.8487 - val_loss: 3.2359 - val_accuracy: 0.7105 - lr: 1.0000e-05\n",
      "Epoch 113/256\n",
      "19/19 [==============================] - 1s 69ms/step - loss: 2.9093 - accuracy: 0.8618 - val_loss: 3.2302 - val_accuracy: 0.7105 - lr: 1.0000e-05\n",
      "Epoch 114/256\n",
      "19/19 [==============================] - 1s 68ms/step - loss: 2.9187 - accuracy: 0.8289 - val_loss: 3.2282 - val_accuracy: 0.7105 - lr: 1.0000e-05\n",
      "Epoch 115/256\n",
      "19/19 [==============================] - 1s 74ms/step - loss: 2.9061 - accuracy: 0.8553 - val_loss: 3.2247 - val_accuracy: 0.7105 - lr: 1.0000e-05\n",
      "Epoch 116/256\n",
      "19/19 [==============================] - 1s 75ms/step - loss: 2.9340 - accuracy: 0.7961 - val_loss: 3.2215 - val_accuracy: 0.7105 - lr: 1.0000e-05\n",
      "Epoch 117/256\n",
      "19/19 [==============================] - 1s 76ms/step - loss: 2.9144 - accuracy: 0.8487 - val_loss: 3.2188 - val_accuracy: 0.7105 - lr: 1.0000e-05\n",
      "Epoch 118/256\n",
      "19/19 [==============================] - 1s 74ms/step - loss: 2.9073 - accuracy: 0.8421 - val_loss: 3.2161 - val_accuracy: 0.7105 - lr: 1.0000e-05\n",
      "Epoch 119/256\n",
      "19/19 [==============================] - 1s 70ms/step - loss: 2.9031 - accuracy: 0.8487 - val_loss: 3.2165 - val_accuracy: 0.7105 - lr: 1.0000e-05\n",
      "Epoch 120/256\n",
      "19/19 [==============================] - 1s 70ms/step - loss: 2.8851 - accuracy: 0.8816 - val_loss: 3.2199 - val_accuracy: 0.7105 - lr: 1.0000e-05\n",
      "Epoch 121/256\n",
      "19/19 [==============================] - 1s 69ms/step - loss: 2.8633 - accuracy: 0.8684 - val_loss: 3.2165 - val_accuracy: 0.7105 - lr: 1.0000e-05\n",
      "Epoch 122/256\n",
      "19/19 [==============================] - 1s 71ms/step - loss: 2.8596 - accuracy: 0.8947 - val_loss: 3.2160 - val_accuracy: 0.7105 - lr: 1.0000e-06\n",
      "Epoch 123/256\n",
      "19/19 [==============================] - 1s 69ms/step - loss: 2.8596 - accuracy: 0.8355 - val_loss: 3.2155 - val_accuracy: 0.7105 - lr: 1.0000e-06\n",
      "Epoch 124/256\n",
      "19/19 [==============================] - 1s 70ms/step - loss: 2.8513 - accuracy: 0.8750 - val_loss: 3.2153 - val_accuracy: 0.7105 - lr: 1.0000e-06\n",
      "Epoch 125/256\n",
      "19/19 [==============================] - 1s 70ms/step - loss: 2.8663 - accuracy: 0.8684 - val_loss: 3.2154 - val_accuracy: 0.7105 - lr: 1.0000e-06\n",
      "Epoch 126/256\n",
      "19/19 [==============================] - 1s 73ms/step - loss: 2.8542 - accuracy: 0.8816 - val_loss: 3.2148 - val_accuracy: 0.7105 - lr: 1.0000e-06\n",
      "Epoch 127/256\n",
      "19/19 [==============================] - 1s 73ms/step - loss: 2.9288 - accuracy: 0.8224 - val_loss: 3.2146 - val_accuracy: 0.7105 - lr: 1.0000e-06\n",
      "Epoch 128/256\n",
      "19/19 [==============================] - 1s 77ms/step - loss: 2.8763 - accuracy: 0.8816 - val_loss: 3.2142 - val_accuracy: 0.7105 - lr: 1.0000e-06\n",
      "Epoch 129/256\n",
      "19/19 [==============================] - 1s 74ms/step - loss: 2.8516 - accuracy: 0.8684 - val_loss: 3.2132 - val_accuracy: 0.7105 - lr: 1.0000e-06\n",
      "Epoch 130/256\n",
      "19/19 [==============================] - 1s 71ms/step - loss: 2.8776 - accuracy: 0.8553 - val_loss: 3.2132 - val_accuracy: 0.7105 - lr: 1.0000e-06\n",
      "Epoch 131/256\n",
      "19/19 [==============================] - 1s 72ms/step - loss: 2.8338 - accuracy: 0.9013 - val_loss: 3.2130 - val_accuracy: 0.7105 - lr: 1.0000e-06\n",
      "Epoch 132/256\n",
      "19/19 [==============================] - 1s 72ms/step - loss: 2.8535 - accuracy: 0.8618 - val_loss: 3.2125 - val_accuracy: 0.7105 - lr: 1.0000e-06\n",
      "Epoch 133/256\n",
      "19/19 [==============================] - 1s 71ms/step - loss: 2.8869 - accuracy: 0.8553 - val_loss: 3.2126 - val_accuracy: 0.7105 - lr: 1.0000e-06\n",
      "Epoch 134/256\n",
      "19/19 [==============================] - 1s 69ms/step - loss: 2.8720 - accuracy: 0.8618 - val_loss: 3.2124 - val_accuracy: 0.7105 - lr: 1.0000e-06\n",
      "Epoch 135/256\n",
      "19/19 [==============================] - 1s 69ms/step - loss: 2.8657 - accuracy: 0.8684 - val_loss: 3.2119 - val_accuracy: 0.7105 - lr: 1.0000e-06\n",
      "Epoch 136/256\n",
      "19/19 [==============================] - 1s 69ms/step - loss: 2.8466 - accuracy: 0.8882 - val_loss: 3.2108 - val_accuracy: 0.7105 - lr: 1.0000e-06\n",
      "Epoch 137/256\n",
      "19/19 [==============================] - 1s 70ms/step - loss: 2.8654 - accuracy: 0.8750 - val_loss: 3.2105 - val_accuracy: 0.7105 - lr: 1.0000e-06\n",
      "Epoch 138/256\n",
      "19/19 [==============================] - 1s 68ms/step - loss: 2.8745 - accuracy: 0.8487 - val_loss: 3.2102 - val_accuracy: 0.7105 - lr: 1.0000e-06\n",
      "Epoch 139/256\n",
      "19/19 [==============================] - 1s 74ms/step - loss: 2.8483 - accuracy: 0.8750 - val_loss: 3.2104 - val_accuracy: 0.7105 - lr: 1.0000e-06\n",
      "Epoch 140/256\n",
      "19/19 [==============================] - 1s 73ms/step - loss: 2.8365 - accuracy: 0.8882 - val_loss: 3.2101 - val_accuracy: 0.7105 - lr: 1.0000e-06\n",
      "Epoch 141/256\n",
      "19/19 [==============================] - 1s 70ms/step - loss: 2.8631 - accuracy: 0.8487 - val_loss: 3.2097 - val_accuracy: 0.7105 - lr: 1.0000e-06\n",
      "Epoch 142/256\n",
      "19/19 [==============================] - 1s 68ms/step - loss: 2.8665 - accuracy: 0.8618 - val_loss: 3.2095 - val_accuracy: 0.7105 - lr: 1.0000e-06\n",
      "Epoch 143/256\n",
      "19/19 [==============================] - 1s 69ms/step - loss: 2.8314 - accuracy: 0.8947 - val_loss: 3.2089 - val_accuracy: 0.7105 - lr: 1.0000e-06\n",
      "Epoch 144/256\n",
      "19/19 [==============================] - 1s 68ms/step - loss: 2.8622 - accuracy: 0.8487 - val_loss: 3.2090 - val_accuracy: 0.7105 - lr: 1.0000e-06\n",
      "Epoch 145/256\n",
      "19/19 [==============================] - 1s 70ms/step - loss: 2.8348 - accuracy: 0.8816 - val_loss: 3.2084 - val_accuracy: 0.7105 - lr: 1.0000e-06\n",
      "Epoch 146/256\n",
      "19/19 [==============================] - 1s 67ms/step - loss: 2.8293 - accuracy: 0.9079 - val_loss: 3.2080 - val_accuracy: 0.7105 - lr: 1.0000e-06\n",
      "Epoch 147/256\n",
      "19/19 [==============================] - 1s 67ms/step - loss: 2.8553 - accuracy: 0.8618 - val_loss: 3.2078 - val_accuracy: 0.7105 - lr: 1.0000e-06\n",
      "Epoch 148/256\n",
      "19/19 [==============================] - 1s 67ms/step - loss: 2.8311 - accuracy: 0.8816 - val_loss: 3.2075 - val_accuracy: 0.7105 - lr: 1.0000e-06\n",
      "Epoch 149/256\n",
      "19/19 [==============================] - 1s 66ms/step - loss: 2.8413 - accuracy: 0.8553 - val_loss: 3.2073 - val_accuracy: 0.7105 - lr: 1.0000e-06\n",
      "Epoch 150/256\n",
      "19/19 [==============================] - 1s 68ms/step - loss: 2.8336 - accuracy: 0.8882 - val_loss: 3.2068 - val_accuracy: 0.7105 - lr: 1.0000e-06\n",
      "Epoch 151/256\n",
      "19/19 [==============================] - 1s 67ms/step - loss: 2.8638 - accuracy: 0.8289 - val_loss: 3.2071 - val_accuracy: 0.7105 - lr: 1.0000e-06\n",
      "Epoch 152/256\n",
      "19/19 [==============================] - 1s 68ms/step - loss: 2.8273 - accuracy: 0.9013 - val_loss: 3.2066 - val_accuracy: 0.7105 - lr: 1.0000e-06\n",
      "Epoch 153/256\n",
      "19/19 [==============================] - 1s 68ms/step - loss: 2.8627 - accuracy: 0.8618 - val_loss: 3.2063 - val_accuracy: 0.7105 - lr: 1.0000e-06\n",
      "Epoch 154/256\n",
      "19/19 [==============================] - 1s 68ms/step - loss: 2.8304 - accuracy: 0.8421 - val_loss: 3.2056 - val_accuracy: 0.7105 - lr: 1.0000e-06\n",
      "Epoch 155/256\n",
      "19/19 [==============================] - 1s 70ms/step - loss: 2.8275 - accuracy: 0.8816 - val_loss: 3.2053 - val_accuracy: 0.7105 - lr: 1.0000e-06\n",
      "Epoch 156/256\n",
      "19/19 [==============================] - 1s 67ms/step - loss: 2.8706 - accuracy: 0.8553 - val_loss: 3.2053 - val_accuracy: 0.7105 - lr: 1.0000e-06\n",
      "Epoch 157/256\n",
      "19/19 [==============================] - 1s 67ms/step - loss: 2.8884 - accuracy: 0.8289 - val_loss: 3.2045 - val_accuracy: 0.7105 - lr: 1.0000e-06\n",
      "Epoch 158/256\n",
      "19/19 [==============================] - 1s 67ms/step - loss: 2.8289 - accuracy: 0.8553 - val_loss: 3.2041 - val_accuracy: 0.7105 - lr: 1.0000e-06\n",
      "Epoch 159/256\n",
      "19/19 [==============================] - 1s 66ms/step - loss: 2.8275 - accuracy: 0.8553 - val_loss: 3.2043 - val_accuracy: 0.7105 - lr: 1.0000e-06\n",
      "Epoch 160/256\n",
      "19/19 [==============================] - 1s 67ms/step - loss: 2.8268 - accuracy: 0.8618 - val_loss: 3.2041 - val_accuracy: 0.7105 - lr: 1.0000e-06\n",
      "Epoch 161/256\n",
      "19/19 [==============================] - 1s 68ms/step - loss: 2.8349 - accuracy: 0.8750 - val_loss: 3.2038 - val_accuracy: 0.7105 - lr: 1.0000e-06\n",
      "Epoch 162/256\n",
      "19/19 [==============================] - 1s 69ms/step - loss: 2.8333 - accuracy: 0.8421 - val_loss: 3.2040 - val_accuracy: 0.7105 - lr: 1.0000e-06\n",
      "Epoch 163/256\n",
      "19/19 [==============================] - 1s 66ms/step - loss: 2.8292 - accuracy: 0.8618 - val_loss: 3.2045 - val_accuracy: 0.7105 - lr: 1.0000e-06\n",
      "Epoch 164/256\n",
      "19/19 [==============================] - 1s 66ms/step - loss: 2.8487 - accuracy: 0.8684 - val_loss: 3.2041 - val_accuracy: 0.7105 - lr: 1.0000e-06\n",
      "Epoch 165/256\n",
      "19/19 [==============================] - 1s 69ms/step - loss: 2.8323 - accuracy: 0.8618 - val_loss: 3.2041 - val_accuracy: 0.7105 - lr: 1.0000e-07\n",
      "Epoch 166/256\n",
      "19/19 [==============================] - 1s 69ms/step - loss: 2.8225 - accuracy: 0.8750 - val_loss: 3.2039 - val_accuracy: 0.7105 - lr: 1.0000e-07\n",
      "Epoch 167/256\n",
      "19/19 [==============================] - 1s 67ms/step - loss: 2.8359 - accuracy: 0.8684 - val_loss: 3.2038 - val_accuracy: 0.7105 - lr: 1.0000e-07\n",
      "Epoch 168/256\n",
      "19/19 [==============================] - 1s 68ms/step - loss: 2.8393 - accuracy: 0.8553 - val_loss: 3.2039 - val_accuracy: 0.7105 - lr: 1.0000e-07\n",
      "Epoch 169/256\n",
      "19/19 [==============================] - 1s 72ms/step - loss: 2.8305 - accuracy: 0.8684 - val_loss: 3.2038 - val_accuracy: 0.7105 - lr: 1.0000e-07\n",
      "Epoch 170/256\n",
      "19/19 [==============================] - 1s 70ms/step - loss: 2.8300 - accuracy: 0.8882 - val_loss: 3.2037 - val_accuracy: 0.7105 - lr: 1.0000e-07\n",
      "Epoch 171/256\n",
      "19/19 [==============================] - 1s 67ms/step - loss: 2.8371 - accuracy: 0.9079 - val_loss: 3.2037 - val_accuracy: 0.7105 - lr: 1.0000e-07\n",
      "Epoch 172/256\n",
      "19/19 [==============================] - 1s 67ms/step - loss: 2.8429 - accuracy: 0.8750 - val_loss: 3.2035 - val_accuracy: 0.7105 - lr: 1.0000e-07\n",
      "Epoch 173/256\n",
      "19/19 [==============================] - 1s 66ms/step - loss: 2.8396 - accuracy: 0.8553 - val_loss: 3.2035 - val_accuracy: 0.7105 - lr: 1.0000e-07\n",
      "Epoch 174/256\n",
      "19/19 [==============================] - 1s 70ms/step - loss: 2.8500 - accuracy: 0.8618 - val_loss: 3.2035 - val_accuracy: 0.7105 - lr: 1.0000e-07\n",
      "Epoch 175/256\n",
      "19/19 [==============================] - 1s 69ms/step - loss: 2.8552 - accuracy: 0.8816 - val_loss: 3.2036 - val_accuracy: 0.7105 - lr: 1.0000e-07\n",
      "Epoch 176/256\n",
      "19/19 [==============================] - 1s 68ms/step - loss: 2.8444 - accuracy: 0.8618 - val_loss: 3.2035 - val_accuracy: 0.7105 - lr: 1.0000e-07\n",
      "Epoch 177/256\n",
      "19/19 [==============================] - 1s 74ms/step - loss: 2.8538 - accuracy: 0.8618 - val_loss: 3.2035 - val_accuracy: 0.7105 - lr: 1.0000e-07\n",
      "Epoch 178/256\n",
      "19/19 [==============================] - 1s 71ms/step - loss: 2.8258 - accuracy: 0.8947 - val_loss: 3.2035 - val_accuracy: 0.7105 - lr: 1.0000e-07\n",
      "Epoch 179/256\n",
      "19/19 [==============================] - 1s 68ms/step - loss: 2.8745 - accuracy: 0.8421 - val_loss: 3.2036 - val_accuracy: 0.7105 - lr: 1.0000e-07\n",
      "Epoch 180/256\n",
      "19/19 [==============================] - 1s 67ms/step - loss: 2.8772 - accuracy: 0.8355 - val_loss: 3.2037 - val_accuracy: 0.7105 - lr: 1.0000e-07\n",
      "Epoch 181/256\n",
      "19/19 [==============================] - 1s 67ms/step - loss: 2.8201 - accuracy: 0.8816 - val_loss: 3.2036 - val_accuracy: 0.7105 - lr: 1.0000e-07\n",
      "Epoch 182/256\n",
      "19/19 [==============================] - 1s 67ms/step - loss: 2.8637 - accuracy: 0.8553 - val_loss: 3.2037 - val_accuracy: 0.7105 - lr: 1.0000e-07\n",
      "Epoch 183/256\n",
      "19/19 [==============================] - 1s 67ms/step - loss: 2.8215 - accuracy: 0.9013 - val_loss: 3.2038 - val_accuracy: 0.7105 - lr: 1.0000e-07\n",
      "Epoch 184/256\n",
      "19/19 [==============================] - 1s 68ms/step - loss: 2.8492 - accuracy: 0.8684 - val_loss: 3.2038 - val_accuracy: 0.7105 - lr: 1.0000e-07\n",
      "Epoch 185/256\n",
      "19/19 [==============================] - 1s 67ms/step - loss: 2.8550 - accuracy: 0.8882 - val_loss: 3.2037 - val_accuracy: 0.7105 - lr: 1.0000e-07\n",
      "Epoch 186/256\n",
      "19/19 [==============================] - 1s 67ms/step - loss: 2.8357 - accuracy: 0.8487 - val_loss: 3.2036 - val_accuracy: 0.7105 - lr: 1.0000e-07\n"
     ]
    }
   ],
   "source": [
    "# Train the model and save the training history\n",
    "history = model.fit(train_pad_trunc_seq, train_labels, epochs=256, \n",
    "                    validation_data=(val_pad_trunc_seq, val_labels), \n",
    "                    callbacks=[reduce_lr, es],\n",
    "                    batch_size=8)"
   ]
  },
  {
   "cell_type": "code",
   "execution_count": 54,
   "metadata": {},
   "outputs": [
    {
     "name": "stdout",
     "output_type": "stream",
     "text": [
      "1/1 [==============================] - 1s 871ms/step\n",
      "Ground Truth: 0\n",
      "Classification Truth: 0\n",
      "Actual Input Sentence\n"
     ]
    }
   ],
   "source": [
    "## Testing\n",
    "number = 150\n",
    "test_data = train_pad_trunc_seq[number].reshape(1,MAXLEN)\n",
    "ground_truth = train_labels[number]\n",
    "classification = model.predict(test_data)\n",
    "\n",
    "print('Ground Truth:', ground_truth)\n",
    "print('Classification Truth:', np.argmax((classification)) )\n",
    "\n",
    "print('Actual Input Sentence', )\n"
   ]
  },
  {
   "cell_type": "code",
   "execution_count": 55,
   "metadata": {},
   "outputs": [
    {
     "name": "stdout",
     "output_type": "stream",
     "text": [
      "Best Epoch:  175\n",
      "Final Train Loss: 2.8444\n",
      "Final Validation Loss: 3.2035\n",
      "Final Train accuracy: 86.18\n",
      "Final Test accuracy: 71.05\n"
     ]
    }
   ],
   "source": [
    "## Best model saved\n",
    "train_loss = history.history['loss']\n",
    "train_accuracy = history.history['accuracy']\n",
    "val_loss = history.history['val_loss']\n",
    "val_accuracy = history.history['val_accuracy']\n",
    "\n",
    "best_epoch = np.argmin(np.array(val_loss))\n",
    "\n",
    "print(\"Best Epoch: \", best_epoch)\n",
    "print(\"Final Train Loss: {:.4f}\".format(train_loss[best_epoch]))\n",
    "print(\"Final Validation Loss: {:.4f}\".format(val_loss[best_epoch]))\n",
    "print(\"Final Train accuracy: {:.2f}\".format(train_accuracy[best_epoch]*100))\n",
    "print(\"Final Test accuracy: {:.2f}\".format(val_accuracy[best_epoch]*100))"
   ]
  },
  {
   "cell_type": "code",
   "execution_count": 56,
   "metadata": {},
   "outputs": [
    {
     "data": {
      "image/png": "[encoded data removed]",
      "text/plain": [
       "<Figure size 1500x400 with 2 Axes>"
      ]
     },
     "metadata": {},
     "output_type": "display_data"
    }
   ],
   "source": [
    "## Graphing Result of training\n",
    "plt.figure(figsize=(15,4))\n",
    "\n",
    "plt.subplot(121)\n",
    "plt.plot(history.history['accuracy'], color ='r')\n",
    "plt.plot(history.history['val_accuracy'])\n",
    "plt.title('accuracy')\n",
    "plt.legend(['train','validation'])\n",
    "plt.xlabel('epoch')\n",
    "plt.ylabel('accuracy')\n",
    "\n",
    "plt.subplot(122)\n",
    "plt.plot(history.history['loss'], color ='r')\n",
    "plt.plot(history.history['val_loss'])\n",
    "plt.title('loss')\n",
    "plt.legend(['train','validation'])\n",
    "plt.xlabel('epoch')\n",
    "plt.ylabel('mean squared error')\n",
    "\n",
    "# displaying the figure\n",
    "plt.show()"
   ]
  },
  {
   "cell_type": "markdown",
   "metadata": {},
   "source": [
    "### saving"
   ]
  },
  {
   "cell_type": "code",
   "execution_count": 57,
   "metadata": {},
   "outputs": [],
   "source": [
    "## General save path\n",
    "import os\n",
    "version = len(os.listdir('models'))+2\n",
    "save_path = 'models/classifier_v{:d}/'.format(version)\n",
    "os.mkdir(save_path)"
   ]
  },
  {
   "cell_type": "code",
   "execution_count": 58,
   "metadata": {},
   "outputs": [
    {
     "data": {
      "image/png": "[encoded data removed]",
      "text/plain": [
       "<Figure size 1500x400 with 2 Axes>"
      ]
     },
     "metadata": {},
     "output_type": "display_data"
    }
   ],
   "source": [
    "# Saving the figure.\n",
    "## Graphing Result of training\n",
    "plt.figure(figsize=(15,4))\n",
    "\n",
    "plt.subplot(121)\n",
    "plt.plot(history.history['accuracy'], color ='r')\n",
    "plt.plot(history.history['val_accuracy'])\n",
    "plt.title('accuracy')\n",
    "plt.legend(['train','validation'])\n",
    "plt.xlabel('epoch')\n",
    "plt.ylabel('accuracy')\n",
    "\n",
    "plt.subplot(122)\n",
    "plt.plot(history.history['loss'], color ='r')\n",
    "plt.plot(history.history['val_loss'])\n",
    "plt.title('loss')\n",
    "plt.legend(['train','validation'])\n",
    "plt.xlabel('epoch')\n",
    "plt.ylabel('mean squared error')\n",
    "\n",
    "plt.savefig(save_path+\"output.jpg\")"
   ]
  },
  {
   "cell_type": "code",
   "execution_count": 59,
   "metadata": {},
   "outputs": [],
   "source": [
    "## Save best metrics\n",
    "with open(save_path+'metrics.txt', 'w') as f:\n",
    "    f.write(\"Best Epoch: {:d} \\n\".format(best_epoch))\n",
    "    f.write(\"Final Train Loss: {:.4f}\\n\".format(train_loss[best_epoch]))\n",
    "    f.write(\"Final Validation Loss: {:.4f}\\n\".format(val_loss[best_epoch]))\n",
    "    f.write(\"Final Train accuracy: {:.2f}%\\n\".format(train_accuracy[best_epoch]*100))\n",
    "    f.write(\"Final Test accuracy: {:.2f}%\\n\".format(val_accuracy[best_epoch]*100))"
   ]
  },
  {
   "cell_type": "code",
   "execution_count": 60,
   "metadata": {},
   "outputs": [],
   "source": [
    "## save number of words used\n",
    "with open(save_path+'readme.txt','w') as f:\n",
    "    f.write('This classifier model only uses the first {:d} words of the abstract.'.format(MAXLEN))"
   ]
  },
  {
   "cell_type": "code",
   "execution_count": 61,
   "metadata": {},
   "outputs": [],
   "source": [
    "## saving model\n",
    "model.save(save_path+'model.h5')"
   ]
  },
  {
   "cell_type": "code",
   "execution_count": 62,
   "metadata": {},
   "outputs": [],
   "source": [
    "## saving tokenizer and label_encoder\n",
    "import pickle\n",
    "\n",
    "# saving\n",
    "with open(save_path+'tokenizer.pickle', 'wb') as handle:\n",
    "    pickle.dump(tokenizer, handle, protocol=pickle.HIGHEST_PROTOCOL)\n",
    "\n",
    "# with open(save_path+'label_encoder.pickle', 'wb') as handle:\n",
    "#     pickle.dump(label_encoder, handle, protocol=pickle.HIGHEST_PROTOCOL)"
   ]
  },
  {
   "cell_type": "markdown",
   "metadata": {},
   "source": [
    "## Functions to Export"
   ]
  },
  {
   "cell_type": "code",
   "execution_count": 63,
   "metadata": {},
   "outputs": [],
   "source": [
    "import numpy as np\n",
    "import pickle\n",
    "from tensorflow.keras.preprocessing.sequence import pad_sequences\n",
    "from tensorflow.keras.models import load_model"
   ]
  },
  {
   "cell_type": "code",
   "execution_count": 64,
   "metadata": {},
   "outputs": [],
   "source": [
    "def load_tokenizer(path):\n",
    "    '''\n",
    "        load tokenizer for abstract processing\n",
    "    '''\n",
    "\n",
    "    with open(path, 'rb') as handle:\n",
    "        tokenizer = pickle.load(handle)\n",
    "        \n",
    "    return tokenizer\n",
    "\n",
    "# def load_label_encoder(path):\n",
    "#     '''\n",
    "#         loading label encoder for journal name processing\n",
    "#     '''\n",
    "\n",
    "#     with open(path, 'rb') as handle:\n",
    "#         label_encoder = pickle.load(handle)\n",
    "\n",
    "#     return label_encoder"
   ]
  },
  {
   "cell_type": "code",
   "execution_count": 65,
   "metadata": {},
   "outputs": [],
   "source": [
    "def preprocess_abstract(abstract, tokenizer, label=None):\n",
    "    '''\n",
    "        Function to preprocess abstract before classification \n",
    "\n",
    "        arguments:\n",
    "            abstract = raw abstract in string\n",
    "            tokenizer = tokenizer used by model for training\n",
    "            label = label of abstrat (for testing purposes only)\n",
    "\n",
    "        The output is an array of integer ID for each word with the same length of 250.\n",
    "        the words are arranged by order or apperance. only first words are retained. \n",
    "\n",
    "        if words is less than 250, the remaining spaces will be filled with zeros\n",
    "        if words is greater than 250, the excess words will be ignored\n",
    "    '''\n",
    "    \n",
    "    ## Text Preprocessing\n",
    "    abstract = abstract.lower().split(\" \")\n",
    "    abstract = [''.join([letter for letter in word if letter.isalnum()]) for word in abstract]\n",
    "    abstract = [word for word in abstract if word not in stop_words]\n",
    "    abstract = ' '.join(abstract)\n",
    "    \n",
    "    ## Assign unique ID to each word in abstract\n",
    "    sequences = tokenizer.texts_to_sequences([abstract])\n",
    "\n",
    "    ## Fill with zeros or Truncate array of word IDs. Max length is 250.\n",
    "    pad_trunc_sequences = pad_sequences(sequences, maxlen=300, padding='post', truncating='post')\n",
    "\n",
    "    return pad_trunc_sequences, label"
   ]
  },
  {
   "cell_type": "code",
   "execution_count": 66,
   "metadata": {},
   "outputs": [],
   "source": [
    "def classify(input_data, model):\n",
    "    '''\n",
    "        Function to classify processed abstract \n",
    "        arguments: \n",
    "            input_data = processed abstract\n",
    "            model = A.I. model\n",
    "            label_encoder = label_encoder used by model for training\n",
    "\n",
    "        the output of the function is the journal name\n",
    "    '''\n",
    "\n",
    "    ## classify abstract using model\n",
    "    output = model(input_data)\n",
    "\n",
    "    ## Get the highest probability of classification\n",
    "    output = np.argmax(output)\n",
    "\n",
    "    ## Get the journal name equivalent of the output of classification\n",
    "    journal = output + 1\n",
    "\n",
    "    ## replace _ with whitespace in the journal name\n",
    "    # journal = ' '.join(journal[0].split('_'))\n",
    "    \n",
    "    return journal"
   ]
  },
  {
   "cell_type": "code",
   "execution_count": 81,
   "metadata": {},
   "outputs": [
    {
     "name": "stdout",
     "output_type": "stream",
     "text": [
      "Ground Truth: 2\n",
      "Classification Output: 2\n"
     ]
    }
   ],
   "source": [
    "## Load tokenizer and encoder\n",
    "tokenizer = load_tokenizer(save_path+'//tokenizer.pickle')\n",
    "# label_encoder = load_label_encoder(save_path+'//label_encoder.pickle')\n",
    "\n",
    "## load model\n",
    "model = load_model(save_path+'//model.h5')\n",
    "\n",
    "## Preprocess abstract\n",
    "input_data, input_label = preprocess_abstract(data[11]['abstract'],tokenizer, label = data[11]['journal_id'])\n",
    "\n",
    "## classify abstract\n",
    "result = classify(input_data, model)\n",
    "\n",
    "## results\n",
    "print('Ground Truth:',input_label)\n",
    "print('Classification Output:',result)"
   ]
  },
  {
   "cell_type": "markdown",
   "metadata": {},
   "source": [
    "# SVM Classifier"
   ]
  },
  {
   "cell_type": "code",
   "execution_count": 68,
   "metadata": {},
   "outputs": [],
   "source": [
    "# import pandas as pd\n",
    "# import numpy as np\n",
    "# from nltk.tokenize import word_tokenize\n",
    "# from nltk import pos_tag\n",
    "# from nltk.corpus import stopwords\n",
    "# from nltk.stem import WordNetLemmatizer\n",
    "# from sklearn.preprocessing import LabelEncoder\n",
    "# from collections import defaultdict\n",
    "# from nltk.corpus import wordnet as wn\n",
    "# from sklearn.feature_extraction.text import TfidfVectorizer\n",
    "# from sklearn import model_selection, naive_bayes, svm\n",
    "# from sklearn.metrics import accuracy_score\n",
    "# import nltk\n",
    "# nltk.download('punkt')\n",
    "# nltk.download('averaged_perceptron_tagger')"
   ]
  },
  {
   "cell_type": "code",
   "execution_count": 69,
   "metadata": {},
   "outputs": [],
   "source": [
    "# import random\n",
    "# # Bundle the two lists into a single one\n",
    "# labels = [ '_'.join(sub['journal'].split(' ')) for n,sub in enumerate(data) ]\n",
    "# sentences_and_labels = list(zip(overviews, labels))\n",
    "\n",
    "# # # Perform random sampling\n",
    "# # random.seed(42)\n",
    "# sentences_and_labels = random.sample(sentences_and_labels, len(overviews))\n",
    "\n",
    "# # Unpack back into separate lists\n",
    "# sentences, labels = zip(*sentences_and_labels)\n",
    "\n",
    "# print(f\"There are {len(sentences)} sentences and {len(labels)} labels\\n\")\n",
    "# Corpus = overviews"
   ]
  },
  {
   "cell_type": "code",
   "execution_count": 70,
   "metadata": {},
   "outputs": [],
   "source": [
    "# # Step - b : Change all the text to lower case. This is required as python interprets 'dog' and 'DOG' differently\n",
    "# Corpus = [entry.lower() for entry in Corpus]\n",
    "# # Step - c : Tokenization : In this each entry in the corpus will be broken into set of words\n",
    "# Corpus= [word_tokenize(entry) for entry in Corpus]\n",
    "# # Step - d : Remove Stop words, Non-Numeric and perfom Word Stemming/Lemmenting.\n",
    "# # WordNetLemmatizer requires Pos tags to understand if the word is noun or verb or adjective etc. By default it is set to Noun\n",
    "# tag_map = defaultdict(lambda : wn.NOUN)\n",
    "# tag_map['J'] = wn.ADJ\n",
    "# tag_map['V'] = wn.VERB\n",
    "# tag_map['R'] = wn.ADV\n",
    "# for index,entry in enumerate(Corpus):\n",
    "#     # Declaring Empty List to store the words that follow the rules for this step\n",
    "#     Final_words = []\n",
    "#     # Initializing WordNetLemmatizer()\n",
    "#     word_Lemmatized = WordNetLemmatizer()\n",
    "#     # pos_tag function below will provide the 'tag' i.e if the word is Noun(N) or Verb(V) or something else.\n",
    "#     for word, tag in pos_tag(entry):\n",
    "#         # Below condition is to check for Stop words and consider only alphabets\n",
    "#         if word not in stopwords.words('english') and word.isalpha():\n",
    "#             word_Final = word_Lemmatized.lemmatize(word,tag_map[tag[0]])\n",
    "#             Final_words.append(word_Final)\n",
    "#     # The final processed set of words for each iteration will be stored in 'text_final'\n",
    "#     Corpus[index] = str(Final_words)"
   ]
  },
  {
   "cell_type": "code",
   "execution_count": 71,
   "metadata": {},
   "outputs": [],
   "source": [
    "# Train_X, Test_X, Train_Y, Test_Y = model_selection.train_test_split(Corpus,labels,test_size=0.2)"
   ]
  },
  {
   "cell_type": "code",
   "execution_count": 72,
   "metadata": {},
   "outputs": [],
   "source": [
    "# Encoder = LabelEncoder()\n",
    "# Train_Y = Encoder.fit_transform(Train_Y)\n",
    "# Test_Y = Encoder.fit_transform(Test_Y)"
   ]
  },
  {
   "cell_type": "code",
   "execution_count": 73,
   "metadata": {},
   "outputs": [],
   "source": [
    "# Tfidf_vect = TfidfVectorizer(max_features=1000)\n",
    "# Tfidf_vect.fit(Corpus)\n",
    "# Train_X_Tfidf = Tfidf_vect.transform(Train_X)\n",
    "# Test_X_Tfidf = Tfidf_vect.transform(Test_X)"
   ]
  },
  {
   "cell_type": "code",
   "execution_count": 74,
   "metadata": {},
   "outputs": [],
   "source": [
    "# print(Tfidf_vect.vocabulary_)"
   ]
  },
  {
   "cell_type": "code",
   "execution_count": 75,
   "metadata": {},
   "outputs": [],
   "source": [
    "# # Classifier - Algorithm - SVM\n",
    "# # fit the training dataset on the classifier\n",
    "# SVM = svm.SVC(C=2, kernel='rbf', degree=3)\n",
    "# SVM.fit(Train_X_Tfidf,Train_Y)\n",
    "# # predict the labels on validation dataset\n",
    "# predictions_SVM = SVM.predict(Test_X_Tfidf)\n",
    "# # Use accuracy_score function to get the accuracy\n",
    "# print(\"SVM Train Accuracy  Score -> \",accuracy_score(predictions_SVM, Test_Y)*100)\n",
    "# print(\"SVM Test Accuracy Score -> \",accuracy_score(predictions_SVM, Test_Y)*100)"
   ]
  },
  {
   "cell_type": "code",
   "execution_count": null,
   "metadata": {},
   "outputs": [],
   "source": []
  }
 ],
 "metadata": {
  "kernelspec": {
   "display_name": "flask_venv",
   "language": "python",
   "name": "python3"
  },
  "language_info": {
   "codemirror_mode": {
    "name": "ipython",
    "version": 3
   },
   "file_extension": ".py",
   "mimetype": "text/x-python",
   "name": "python",
   "nbconvert_exporter": "python",
   "pygments_lexer": "ipython3",
   "version": "3.9.13"
  }
 },
 "nbformat": 4,
 "nbformat_minor": 2
}
