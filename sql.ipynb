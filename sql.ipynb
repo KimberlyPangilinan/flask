{
 "cells": [
  {
   "cell_type": "code",
   "execution_count": 1,
   "metadata": {},
   "outputs": [],
   "source": [
    "import mysql.connector"
   ]
  },
  {
   "cell_type": "code",
   "execution_count": 4,
   "metadata": {},
   "outputs": [],
   "source": [
    "conn = mysql.connector.connect(user = 'u690159757_kim', \n",
    "                          password = '*yKa&T6y4#sJ8XvE9j',\n",
    "                          database = 'u690159757_kim',\n",
    "                          host = '109.106.254.1',\n",
    "                          connection_timeout = 5 \n",
    "                          )"
   ]
  },
  {
   "cell_type": "code",
   "execution_count": 5,
   "metadata": {},
   "outputs": [],
   "source": [
    "cursor = conn.cursor()\n",
    "cursor.execute(''' SELECT * FROM movies''')\n",
    "data = cursor.fetchall()\n",
    "conn.commit()\n",
    "cursor.close()\n",
    "\n",
    "movies = [{'movie_id':row[0],'title': row[1]} for row in data]\n"
   ]
  },
  {
   "cell_type": "code",
   "execution_count": 6,
   "metadata": {},
   "outputs": [
    {
     "data": {
      "text/plain": [
       "[{'movie_id': 1, 'title': 'Creed III'},\n",
       " {'movie_id': 2, 'title': 'Avatar: The Way of Water'},\n",
       " {'movie_id': 3, 'title': 'The Super Mario Bros. Movie'},\n",
       " {'movie_id': 4, 'title': 'Mummies'},\n",
       " {'movie_id': 5, 'title': 'Supercell'}]"
      ]
     },
     "execution_count": 6,
     "metadata": {},
     "output_type": "execute_result"
    }
   ],
   "source": [
    "movies"
   ]
  }
 ],
 "metadata": {
  "kernelspec": {
   "display_name": "Python 3",
   "language": "python",
   "name": "python3"
  },
  "language_info": {
   "codemirror_mode": {
    "name": "ipython",
    "version": 3
   },
   "file_extension": ".py",
   "mimetype": "text/x-python",
   "name": "python",
   "nbconvert_exporter": "python",
   "pygments_lexer": "ipython3",
   "version": "3.11.5"
  }
 },
 "nbformat": 4,
 "nbformat_minor": 2
}
